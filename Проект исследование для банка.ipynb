{
 "cells": [
  {
   "cell_type": "markdown",
   "id": "02c7f988",
   "metadata": {},
   "source": [
    "<div style=\"border:solid Chocolate 2px; padding: 40px\">\n",
    "\n",
    "<b>Даниил, привет!👋</b>\n",
    "\n",
    "Меня зовут Кирилл Васильев, я буду ревьюером твоего проекта. Я предлагаю общаться на «ты», но если привычнее на «вы», просто скажи об этом! \n",
    "    \n",
    "Я оставил комментарии в твоем проекте. Пожалуйста, не удаляй их до технического принятия проекта.\n",
    "\n",
    "Ты можешь реагировать на комментарии как просто написав их в Markdown-ячейках, так и выделив их цветом. Например, <font color='blue'>синим</font>. Второй способ, на мой взгляд, удобнее.\n",
    "\n",
    "Свои комментарии я буду обозначать <font color='green'>зеленым</font>, <font color='gold'>желтым</font> и <font color='red'>красным </font> цветами, например:\n",
    "\n",
    "<br/>\n",
    "\n",
    "<div class=\"alert alert-success\">\n",
    "<h2> Комментарий ревьюера <a class=\"tocSkip\"> </h2>\n",
    "\n",
    "<b>Все отлично!👍:</b> В случае, если решение на отдельном шаге является полностью правильным.\n",
    "</div>\n",
    "\n",
    "<br/>\n",
    "\n",
    "<div class=\"alert alert-warning\">\n",
    "    <h2> Комментарий ревьюера <a class=\"tocSkip\"> </h2>\n",
    "    \n",
    "<b>Некоторые замечания и рекомендации💡:</b> В случае, когда решение на отдельном шаге станет еще лучше, если внести небольшие коррективы.\n",
    "</div>\n",
    "\n",
    "\n",
    "<br/>\n",
    "<div class=\"alert alert-block alert-danger\">\n",
    "<h2> Комментарий ревьюера <a class=\"tocSkip\"></h2>\n",
    "\n",
    "    \n",
    "<b>На доработку🤔:</b>\n",
    " В случае, когда решение на отдельном шаге требует существенной переработки и внесения правок. Напоминаю, что проект не может быть принят с первого раза, если ревью содержит комментарии, рекомендующие доработать шаги.\n",
    "</div>\n",
    "\n",
    "P.S. На всякий случай, я оставлю пустой шаблон для твоих комментариев ниже. Кликни два раза на мой комментарий, скопируй последние четыре строчки кода и вставляй их в пустую ячейку там, где ты хочешь оставить комментарий. Не забудь только перед этим сменить тип ячейки на Markdown. Быстро это можно сделать так: кликнуть на ячейку - нажать ESC - нажать M. \n",
    "    \n",
    "    \n",
    "<div class=\"alert alert-info\">\n",
    "<b>Комментарий студента:</b>\n",
    "<br>Место для твоего комментария\n",
    "</div>\n",
    "        \n",
    "Предлагаю тебе задавать вопросы по первым двум шагам и авторскому решению, если они возникнут. По проверке сразу переходим к третьему шагу и собственно аналитике проекта.\n",
    "    \n",
    " \n"
   ]
  },
  {
   "cell_type": "markdown",
   "id": "1959a5bf",
   "metadata": {
    "deletable": false,
    "editable": false,
    "id": "c81daeeb"
   },
   "source": [
    "# Исследование надежности заемщиков\n"
   ]
  },
  {
   "cell_type": "markdown",
   "id": "3dcbb600",
   "metadata": {
    "deletable": false,
    "editable": false,
    "id": "827c20bf"
   },
   "source": [
    "Во второй части проекта вы выполните шаги 3 и 4. Их вручную проверит ревьюер.\n",
    "Чтобы вам не пришлось писать код заново для шагов 1 и 2, мы добавили авторские решения в ячейки с кодом. \n",
    "\n"
   ]
  },
  {
   "cell_type": "markdown",
   "id": "87bef78d",
   "metadata": {
    "deletable": false,
    "editable": false,
    "id": "744d7639"
   },
   "source": [
    "## Откройте таблицу и изучите общую информацию о данных"
   ]
  },
  {
   "cell_type": "markdown",
   "id": "9c41a99f",
   "metadata": {
    "deletable": false,
    "editable": false,
    "id": "e7a14c31"
   },
   "source": [
    "**Задание 1. Импортируйте библиотеку pandas. Считайте данные из csv-файла в датафрейм и сохраните в переменную `data`. Путь к файлу:**\n",
    "\n",
    "`/datasets/data.csv`"
   ]
  },
  {
   "cell_type": "code",
   "execution_count": 1,
   "id": "ff41dcd8",
   "metadata": {
    "deletable": false,
    "id": "7bcf75c9"
   },
   "outputs": [],
   "source": [
    "import pandas as pd\n",
    "import numpy as np\n",
    "import seaborn as sns\n",
    "import matplotlib.pyplot as plt\n",
    "\n",
    "try:\n",
    "    data = pd.read_csv('/datasets/data.csv')\n",
    "except:\n",
    "    data = pd.read_csv('https://code.s3.yandex.net/datasets/data.csv')"
   ]
  },
  {
   "cell_type": "markdown",
   "id": "1c809fd4",
   "metadata": {
    "deletable": false,
    "editable": false,
    "id": "b8038fe3"
   },
   "source": [
    "**Задание 2. Выведите первые 20 строчек датафрейма `data` на экран.**"
   ]
  },
  {
   "cell_type": "code",
   "execution_count": 2,
   "id": "69977ccb",
   "metadata": {
    "deletable": false,
    "id": "2a7cab99",
    "outputId": "1a8f3ef2-d323-4ec2-ddf7-89670b5944c4"
   },
   "outputs": [
    {
     "data": {
      "text/html": [
       "<div>\n",
       "<style scoped>\n",
       "    .dataframe tbody tr th:only-of-type {\n",
       "        vertical-align: middle;\n",
       "    }\n",
       "\n",
       "    .dataframe tbody tr th {\n",
       "        vertical-align: top;\n",
       "    }\n",
       "\n",
       "    .dataframe thead th {\n",
       "        text-align: right;\n",
       "    }\n",
       "</style>\n",
       "<table border=\"1\" class=\"dataframe\">\n",
       "  <thead>\n",
       "    <tr style=\"text-align: right;\">\n",
       "      <th></th>\n",
       "      <th>children</th>\n",
       "      <th>days_employed</th>\n",
       "      <th>dob_years</th>\n",
       "      <th>education</th>\n",
       "      <th>education_id</th>\n",
       "      <th>family_status</th>\n",
       "      <th>family_status_id</th>\n",
       "      <th>gender</th>\n",
       "      <th>income_type</th>\n",
       "      <th>debt</th>\n",
       "      <th>total_income</th>\n",
       "      <th>purpose</th>\n",
       "    </tr>\n",
       "  </thead>\n",
       "  <tbody>\n",
       "    <tr>\n",
       "      <th>0</th>\n",
       "      <td>1</td>\n",
       "      <td>-8437.673028</td>\n",
       "      <td>42</td>\n",
       "      <td>высшее</td>\n",
       "      <td>0</td>\n",
       "      <td>женат / замужем</td>\n",
       "      <td>0</td>\n",
       "      <td>F</td>\n",
       "      <td>сотрудник</td>\n",
       "      <td>0</td>\n",
       "      <td>253875.639453</td>\n",
       "      <td>покупка жилья</td>\n",
       "    </tr>\n",
       "    <tr>\n",
       "      <th>1</th>\n",
       "      <td>1</td>\n",
       "      <td>-4024.803754</td>\n",
       "      <td>36</td>\n",
       "      <td>среднее</td>\n",
       "      <td>1</td>\n",
       "      <td>женат / замужем</td>\n",
       "      <td>0</td>\n",
       "      <td>F</td>\n",
       "      <td>сотрудник</td>\n",
       "      <td>0</td>\n",
       "      <td>112080.014102</td>\n",
       "      <td>приобретение автомобиля</td>\n",
       "    </tr>\n",
       "    <tr>\n",
       "      <th>2</th>\n",
       "      <td>0</td>\n",
       "      <td>-5623.422610</td>\n",
       "      <td>33</td>\n",
       "      <td>Среднее</td>\n",
       "      <td>1</td>\n",
       "      <td>женат / замужем</td>\n",
       "      <td>0</td>\n",
       "      <td>M</td>\n",
       "      <td>сотрудник</td>\n",
       "      <td>0</td>\n",
       "      <td>145885.952297</td>\n",
       "      <td>покупка жилья</td>\n",
       "    </tr>\n",
       "    <tr>\n",
       "      <th>3</th>\n",
       "      <td>3</td>\n",
       "      <td>-4124.747207</td>\n",
       "      <td>32</td>\n",
       "      <td>среднее</td>\n",
       "      <td>1</td>\n",
       "      <td>женат / замужем</td>\n",
       "      <td>0</td>\n",
       "      <td>M</td>\n",
       "      <td>сотрудник</td>\n",
       "      <td>0</td>\n",
       "      <td>267628.550329</td>\n",
       "      <td>дополнительное образование</td>\n",
       "    </tr>\n",
       "    <tr>\n",
       "      <th>4</th>\n",
       "      <td>0</td>\n",
       "      <td>340266.072047</td>\n",
       "      <td>53</td>\n",
       "      <td>среднее</td>\n",
       "      <td>1</td>\n",
       "      <td>гражданский брак</td>\n",
       "      <td>1</td>\n",
       "      <td>F</td>\n",
       "      <td>пенсионер</td>\n",
       "      <td>0</td>\n",
       "      <td>158616.077870</td>\n",
       "      <td>сыграть свадьбу</td>\n",
       "    </tr>\n",
       "    <tr>\n",
       "      <th>5</th>\n",
       "      <td>0</td>\n",
       "      <td>-926.185831</td>\n",
       "      <td>27</td>\n",
       "      <td>высшее</td>\n",
       "      <td>0</td>\n",
       "      <td>гражданский брак</td>\n",
       "      <td>1</td>\n",
       "      <td>M</td>\n",
       "      <td>компаньон</td>\n",
       "      <td>0</td>\n",
       "      <td>255763.565419</td>\n",
       "      <td>покупка жилья</td>\n",
       "    </tr>\n",
       "    <tr>\n",
       "      <th>6</th>\n",
       "      <td>0</td>\n",
       "      <td>-2879.202052</td>\n",
       "      <td>43</td>\n",
       "      <td>высшее</td>\n",
       "      <td>0</td>\n",
       "      <td>женат / замужем</td>\n",
       "      <td>0</td>\n",
       "      <td>F</td>\n",
       "      <td>компаньон</td>\n",
       "      <td>0</td>\n",
       "      <td>240525.971920</td>\n",
       "      <td>операции с жильем</td>\n",
       "    </tr>\n",
       "    <tr>\n",
       "      <th>7</th>\n",
       "      <td>0</td>\n",
       "      <td>-152.779569</td>\n",
       "      <td>50</td>\n",
       "      <td>СРЕДНЕЕ</td>\n",
       "      <td>1</td>\n",
       "      <td>женат / замужем</td>\n",
       "      <td>0</td>\n",
       "      <td>M</td>\n",
       "      <td>сотрудник</td>\n",
       "      <td>0</td>\n",
       "      <td>135823.934197</td>\n",
       "      <td>образование</td>\n",
       "    </tr>\n",
       "    <tr>\n",
       "      <th>8</th>\n",
       "      <td>2</td>\n",
       "      <td>-6929.865299</td>\n",
       "      <td>35</td>\n",
       "      <td>ВЫСШЕЕ</td>\n",
       "      <td>0</td>\n",
       "      <td>гражданский брак</td>\n",
       "      <td>1</td>\n",
       "      <td>F</td>\n",
       "      <td>сотрудник</td>\n",
       "      <td>0</td>\n",
       "      <td>95856.832424</td>\n",
       "      <td>на проведение свадьбы</td>\n",
       "    </tr>\n",
       "    <tr>\n",
       "      <th>9</th>\n",
       "      <td>0</td>\n",
       "      <td>-2188.756445</td>\n",
       "      <td>41</td>\n",
       "      <td>среднее</td>\n",
       "      <td>1</td>\n",
       "      <td>женат / замужем</td>\n",
       "      <td>0</td>\n",
       "      <td>M</td>\n",
       "      <td>сотрудник</td>\n",
       "      <td>0</td>\n",
       "      <td>144425.938277</td>\n",
       "      <td>покупка жилья для семьи</td>\n",
       "    </tr>\n",
       "    <tr>\n",
       "      <th>10</th>\n",
       "      <td>2</td>\n",
       "      <td>-4171.483647</td>\n",
       "      <td>36</td>\n",
       "      <td>высшее</td>\n",
       "      <td>0</td>\n",
       "      <td>женат / замужем</td>\n",
       "      <td>0</td>\n",
       "      <td>M</td>\n",
       "      <td>компаньон</td>\n",
       "      <td>0</td>\n",
       "      <td>113943.491460</td>\n",
       "      <td>покупка недвижимости</td>\n",
       "    </tr>\n",
       "    <tr>\n",
       "      <th>11</th>\n",
       "      <td>0</td>\n",
       "      <td>-792.701887</td>\n",
       "      <td>40</td>\n",
       "      <td>среднее</td>\n",
       "      <td>1</td>\n",
       "      <td>женат / замужем</td>\n",
       "      <td>0</td>\n",
       "      <td>F</td>\n",
       "      <td>сотрудник</td>\n",
       "      <td>0</td>\n",
       "      <td>77069.234271</td>\n",
       "      <td>покупка коммерческой недвижимости</td>\n",
       "    </tr>\n",
       "    <tr>\n",
       "      <th>12</th>\n",
       "      <td>0</td>\n",
       "      <td>NaN</td>\n",
       "      <td>65</td>\n",
       "      <td>среднее</td>\n",
       "      <td>1</td>\n",
       "      <td>гражданский брак</td>\n",
       "      <td>1</td>\n",
       "      <td>M</td>\n",
       "      <td>пенсионер</td>\n",
       "      <td>0</td>\n",
       "      <td>NaN</td>\n",
       "      <td>сыграть свадьбу</td>\n",
       "    </tr>\n",
       "    <tr>\n",
       "      <th>13</th>\n",
       "      <td>0</td>\n",
       "      <td>-1846.641941</td>\n",
       "      <td>54</td>\n",
       "      <td>неоконченное высшее</td>\n",
       "      <td>2</td>\n",
       "      <td>женат / замужем</td>\n",
       "      <td>0</td>\n",
       "      <td>F</td>\n",
       "      <td>сотрудник</td>\n",
       "      <td>0</td>\n",
       "      <td>130458.228857</td>\n",
       "      <td>приобретение автомобиля</td>\n",
       "    </tr>\n",
       "    <tr>\n",
       "      <th>14</th>\n",
       "      <td>0</td>\n",
       "      <td>-1844.956182</td>\n",
       "      <td>56</td>\n",
       "      <td>высшее</td>\n",
       "      <td>0</td>\n",
       "      <td>гражданский брак</td>\n",
       "      <td>1</td>\n",
       "      <td>F</td>\n",
       "      <td>компаньон</td>\n",
       "      <td>1</td>\n",
       "      <td>165127.911772</td>\n",
       "      <td>покупка жилой недвижимости</td>\n",
       "    </tr>\n",
       "    <tr>\n",
       "      <th>15</th>\n",
       "      <td>1</td>\n",
       "      <td>-972.364419</td>\n",
       "      <td>26</td>\n",
       "      <td>среднее</td>\n",
       "      <td>1</td>\n",
       "      <td>женат / замужем</td>\n",
       "      <td>0</td>\n",
       "      <td>F</td>\n",
       "      <td>сотрудник</td>\n",
       "      <td>0</td>\n",
       "      <td>116820.904450</td>\n",
       "      <td>строительство собственной недвижимости</td>\n",
       "    </tr>\n",
       "    <tr>\n",
       "      <th>16</th>\n",
       "      <td>0</td>\n",
       "      <td>-1719.934226</td>\n",
       "      <td>35</td>\n",
       "      <td>среднее</td>\n",
       "      <td>1</td>\n",
       "      <td>женат / замужем</td>\n",
       "      <td>0</td>\n",
       "      <td>F</td>\n",
       "      <td>сотрудник</td>\n",
       "      <td>0</td>\n",
       "      <td>289202.704229</td>\n",
       "      <td>недвижимость</td>\n",
       "    </tr>\n",
       "    <tr>\n",
       "      <th>17</th>\n",
       "      <td>0</td>\n",
       "      <td>-2369.999720</td>\n",
       "      <td>33</td>\n",
       "      <td>высшее</td>\n",
       "      <td>0</td>\n",
       "      <td>гражданский брак</td>\n",
       "      <td>1</td>\n",
       "      <td>M</td>\n",
       "      <td>сотрудник</td>\n",
       "      <td>0</td>\n",
       "      <td>90410.586745</td>\n",
       "      <td>строительство недвижимости</td>\n",
       "    </tr>\n",
       "    <tr>\n",
       "      <th>18</th>\n",
       "      <td>0</td>\n",
       "      <td>400281.136913</td>\n",
       "      <td>53</td>\n",
       "      <td>среднее</td>\n",
       "      <td>1</td>\n",
       "      <td>вдовец / вдова</td>\n",
       "      <td>2</td>\n",
       "      <td>F</td>\n",
       "      <td>пенсионер</td>\n",
       "      <td>0</td>\n",
       "      <td>56823.777243</td>\n",
       "      <td>на покупку подержанного автомобиля</td>\n",
       "    </tr>\n",
       "    <tr>\n",
       "      <th>19</th>\n",
       "      <td>0</td>\n",
       "      <td>-10038.818549</td>\n",
       "      <td>48</td>\n",
       "      <td>СРЕДНЕЕ</td>\n",
       "      <td>1</td>\n",
       "      <td>в разводе</td>\n",
       "      <td>3</td>\n",
       "      <td>F</td>\n",
       "      <td>сотрудник</td>\n",
       "      <td>0</td>\n",
       "      <td>242831.107982</td>\n",
       "      <td>на покупку своего автомобиля</td>\n",
       "    </tr>\n",
       "  </tbody>\n",
       "</table>\n",
       "</div>"
      ],
      "text/plain": [
       "    children  days_employed  dob_years            education  education_id  \\\n",
       "0          1   -8437.673028         42               высшее             0   \n",
       "1          1   -4024.803754         36              среднее             1   \n",
       "2          0   -5623.422610         33              Среднее             1   \n",
       "3          3   -4124.747207         32              среднее             1   \n",
       "4          0  340266.072047         53              среднее             1   \n",
       "5          0    -926.185831         27               высшее             0   \n",
       "6          0   -2879.202052         43               высшее             0   \n",
       "7          0    -152.779569         50              СРЕДНЕЕ             1   \n",
       "8          2   -6929.865299         35               ВЫСШЕЕ             0   \n",
       "9          0   -2188.756445         41              среднее             1   \n",
       "10         2   -4171.483647         36               высшее             0   \n",
       "11         0    -792.701887         40              среднее             1   \n",
       "12         0            NaN         65              среднее             1   \n",
       "13         0   -1846.641941         54  неоконченное высшее             2   \n",
       "14         0   -1844.956182         56               высшее             0   \n",
       "15         1    -972.364419         26              среднее             1   \n",
       "16         0   -1719.934226         35              среднее             1   \n",
       "17         0   -2369.999720         33               высшее             0   \n",
       "18         0  400281.136913         53              среднее             1   \n",
       "19         0  -10038.818549         48              СРЕДНЕЕ             1   \n",
       "\n",
       "       family_status  family_status_id gender income_type  debt  \\\n",
       "0    женат / замужем                 0      F   сотрудник     0   \n",
       "1    женат / замужем                 0      F   сотрудник     0   \n",
       "2    женат / замужем                 0      M   сотрудник     0   \n",
       "3    женат / замужем                 0      M   сотрудник     0   \n",
       "4   гражданский брак                 1      F   пенсионер     0   \n",
       "5   гражданский брак                 1      M   компаньон     0   \n",
       "6    женат / замужем                 0      F   компаньон     0   \n",
       "7    женат / замужем                 0      M   сотрудник     0   \n",
       "8   гражданский брак                 1      F   сотрудник     0   \n",
       "9    женат / замужем                 0      M   сотрудник     0   \n",
       "10   женат / замужем                 0      M   компаньон     0   \n",
       "11   женат / замужем                 0      F   сотрудник     0   \n",
       "12  гражданский брак                 1      M   пенсионер     0   \n",
       "13   женат / замужем                 0      F   сотрудник     0   \n",
       "14  гражданский брак                 1      F   компаньон     1   \n",
       "15   женат / замужем                 0      F   сотрудник     0   \n",
       "16   женат / замужем                 0      F   сотрудник     0   \n",
       "17  гражданский брак                 1      M   сотрудник     0   \n",
       "18    вдовец / вдова                 2      F   пенсионер     0   \n",
       "19         в разводе                 3      F   сотрудник     0   \n",
       "\n",
       "     total_income                                 purpose  \n",
       "0   253875.639453                           покупка жилья  \n",
       "1   112080.014102                 приобретение автомобиля  \n",
       "2   145885.952297                           покупка жилья  \n",
       "3   267628.550329              дополнительное образование  \n",
       "4   158616.077870                         сыграть свадьбу  \n",
       "5   255763.565419                           покупка жилья  \n",
       "6   240525.971920                       операции с жильем  \n",
       "7   135823.934197                             образование  \n",
       "8    95856.832424                   на проведение свадьбы  \n",
       "9   144425.938277                 покупка жилья для семьи  \n",
       "10  113943.491460                    покупка недвижимости  \n",
       "11   77069.234271       покупка коммерческой недвижимости  \n",
       "12            NaN                         сыграть свадьбу  \n",
       "13  130458.228857                 приобретение автомобиля  \n",
       "14  165127.911772              покупка жилой недвижимости  \n",
       "15  116820.904450  строительство собственной недвижимости  \n",
       "16  289202.704229                            недвижимость  \n",
       "17   90410.586745              строительство недвижимости  \n",
       "18   56823.777243      на покупку подержанного автомобиля  \n",
       "19  242831.107982            на покупку своего автомобиля  "
      ]
     },
     "execution_count": 2,
     "metadata": {},
     "output_type": "execute_result"
    }
   ],
   "source": [
    "data.head(20)"
   ]
  },
  {
   "cell_type": "markdown",
   "id": "c5939ee4",
   "metadata": {
    "deletable": false,
    "editable": false,
    "id": "1c12e233"
   },
   "source": [
    "**Задание 3. Выведите основную информацию о датафрейме с помощью метода `info()`.**"
   ]
  },
  {
   "cell_type": "code",
   "execution_count": 3,
   "id": "e10fe0fa",
   "metadata": {
    "deletable": false,
    "id": "2b757bca",
    "outputId": "15376089-8dad-46c9-b520-c05248d43158"
   },
   "outputs": [
    {
     "name": "stdout",
     "output_type": "stream",
     "text": [
      "<class 'pandas.core.frame.DataFrame'>\n",
      "RangeIndex: 21525 entries, 0 to 21524\n",
      "Data columns (total 12 columns):\n",
      " #   Column            Non-Null Count  Dtype  \n",
      "---  ------            --------------  -----  \n",
      " 0   children          21525 non-null  int64  \n",
      " 1   days_employed     19351 non-null  float64\n",
      " 2   dob_years         21525 non-null  int64  \n",
      " 3   education         21525 non-null  object \n",
      " 4   education_id      21525 non-null  int64  \n",
      " 5   family_status     21525 non-null  object \n",
      " 6   family_status_id  21525 non-null  int64  \n",
      " 7   gender            21525 non-null  object \n",
      " 8   income_type       21525 non-null  object \n",
      " 9   debt              21525 non-null  int64  \n",
      " 10  total_income      19351 non-null  float64\n",
      " 11  purpose           21525 non-null  object \n",
      "dtypes: float64(2), int64(5), object(5)\n",
      "memory usage: 2.0+ MB\n"
     ]
    }
   ],
   "source": [
    "data.info()"
   ]
  },
  {
   "cell_type": "markdown",
   "id": "16c75f3a",
   "metadata": {
    "deletable": false,
    "editable": false,
    "id": "333ec665"
   },
   "source": [
    "## Предобработка данных"
   ]
  },
  {
   "cell_type": "markdown",
   "id": "d2c0004d",
   "metadata": {
    "deletable": false,
    "editable": false,
    "id": "02d92d53"
   },
   "source": [
    "### Удаление пропусков"
   ]
  },
  {
   "cell_type": "markdown",
   "id": "85b1ad20",
   "metadata": {
    "deletable": false,
    "editable": false,
    "id": "cd84967c"
   },
   "source": [
    "**Задание 4. Выведите количество пропущенных значений для каждого столбца. Используйте комбинацию двух методов.**"
   ]
  },
  {
   "cell_type": "code",
   "execution_count": 4,
   "id": "4e9f0958",
   "metadata": {
    "deletable": false,
    "id": "7f9b2309",
    "outputId": "81f4d817-781c-465c-ed15-91ce4446810d"
   },
   "outputs": [
    {
     "data": {
      "text/plain": [
       "children               0\n",
       "days_employed       2174\n",
       "dob_years              0\n",
       "education              0\n",
       "education_id           0\n",
       "family_status          0\n",
       "family_status_id       0\n",
       "gender                 0\n",
       "income_type            0\n",
       "debt                   0\n",
       "total_income        2174\n",
       "purpose                0\n",
       "dtype: int64"
      ]
     },
     "execution_count": 4,
     "metadata": {},
     "output_type": "execute_result"
    }
   ],
   "source": [
    "data.isna().sum()"
   ]
  },
  {
   "cell_type": "markdown",
   "id": "3c9f73ba",
   "metadata": {
    "deletable": false,
    "editable": false,
    "id": "db86e27b"
   },
   "source": [
    "**Задание 5. В двух столбцах есть пропущенные значения. Один из них — `days_employed`. Пропуски в этом столбце вы обработаете на следующем этапе. Другой столбец с пропущенными значениями — `total_income` — хранит данные о доходах. На сумму дохода сильнее всего влияет тип занятости, поэтому заполнить пропуски в этом столбце нужно медианным значением по каждому типу из столбца `income_type`. Например, у человека с типом занятости `сотрудник` пропуск в столбце `total_income` должен быть заполнен медианным доходом среди всех записей с тем же типом.**"
   ]
  },
  {
   "cell_type": "code",
   "execution_count": 5,
   "id": "db9c9b16",
   "metadata": {
    "deletable": false,
    "id": "42006a93"
   },
   "outputs": [],
   "source": [
    "for t in data['income_type'].unique():\n",
    "    data.loc[(data['income_type'] == t) & (data['total_income'].isna()), 'total_income'] = \\\n",
    "    data.loc[(data['income_type'] == t), 'total_income'].median()"
   ]
  },
  {
   "cell_type": "markdown",
   "id": "c6fa7adf",
   "metadata": {
    "deletable": false,
    "editable": false,
    "id": "89da5ece"
   },
   "source": [
    "### Обработка аномальных значений"
   ]
  },
  {
   "cell_type": "markdown",
   "id": "de7c607a",
   "metadata": {
    "deletable": false,
    "editable": false,
    "id": "57964554"
   },
   "source": [
    "**Задание 6. В данных могут встречаться артефакты (аномалии) — значения, которые не отражают действительность и появились по какой-то ошибке. таким артефактом будет отрицательное количество дней трудового стажа в столбце `days_employed`. Для реальных данных это нормально. Обработайте значения в этом столбце: замените все отрицательные значения положительными с помощью метода `abs()`.**"
   ]
  },
  {
   "cell_type": "code",
   "execution_count": 6,
   "id": "1954583a",
   "metadata": {
    "deletable": false,
    "id": "f6f055bf"
   },
   "outputs": [],
   "source": [
    "data['days_employed'] = data['days_employed'].abs()"
   ]
  },
  {
   "cell_type": "markdown",
   "id": "214c1470",
   "metadata": {
    "deletable": false,
    "editable": false,
    "id": "6107dd2f"
   },
   "source": [
    "**Задание 7. Для каждого типа занятости выведите медианное значение трудового стажа `days_employed` в днях.**"
   ]
  },
  {
   "cell_type": "code",
   "execution_count": 7,
   "id": "6318627e",
   "metadata": {
    "deletable": false,
    "id": "85a5faf6",
    "outputId": "801ef80e-522b-4668-f34e-565af7432bcf"
   },
   "outputs": [
    {
     "data": {
      "text/plain": [
       "income_type\n",
       "безработный        366413.652744\n",
       "в декрете            3296.759962\n",
       "госслужащий          2689.368353\n",
       "компаньон            1547.382223\n",
       "пенсионер          365213.306266\n",
       "предприниматель       520.848083\n",
       "сотрудник            1574.202821\n",
       "студент               578.751554\n",
       "Name: days_employed, dtype: float64"
      ]
     },
     "execution_count": 7,
     "metadata": {},
     "output_type": "execute_result"
    }
   ],
   "source": [
    "data.groupby('income_type')['days_employed'].agg('median')"
   ]
  },
  {
   "cell_type": "markdown",
   "id": "bbe72b29",
   "metadata": {
    "deletable": false,
    "editable": false,
    "id": "38d1a030"
   },
   "source": [
    "У двух типов (безработные и пенсионеры) получатся аномально большие значения. Исправить такие значения сложно, поэтому оставьте их как есть. Тем более этот столбец не понадобится вам для исследования."
   ]
  },
  {
   "cell_type": "markdown",
   "id": "11c508ef",
   "metadata": {
    "deletable": false,
    "editable": false,
    "id": "d8a9f147"
   },
   "source": [
    "**Задание 8. Выведите перечень уникальных значений столбца `children`.**"
   ]
  },
  {
   "cell_type": "code",
   "execution_count": 8,
   "id": "96ad1a5f",
   "metadata": {
    "deletable": false,
    "id": "ef5056eb",
    "outputId": "6975b15c-7f95-4697-d16d-a0c79b657b03"
   },
   "outputs": [
    {
     "data": {
      "text/plain": [
       "array([ 1,  0,  3,  2, -1,  4, 20,  5])"
      ]
     },
     "execution_count": 8,
     "metadata": {},
     "output_type": "execute_result"
    }
   ],
   "source": [
    "data['children'].unique()"
   ]
  },
  {
   "cell_type": "markdown",
   "id": "4206bf2f",
   "metadata": {
    "deletable": false,
    "editable": false,
    "id": "40b9ebf2"
   },
   "source": [
    "**Задание 9. В столбце `children` есть два аномальных значения. Удалите строки, в которых встречаются такие аномальные значения из датафрейма `data`.**"
   ]
  },
  {
   "cell_type": "code",
   "execution_count": 9,
   "id": "587f2496",
   "metadata": {
    "deletable": false,
    "id": "3ff9801d"
   },
   "outputs": [],
   "source": [
    "data = data[(data['children'] != -1) & (data['children'] != 20)]"
   ]
  },
  {
   "cell_type": "markdown",
   "id": "fd57dcfa",
   "metadata": {
    "deletable": false,
    "editable": false,
    "id": "bbc4d0ce"
   },
   "source": [
    "**Задание 10. Ещё раз выведите перечень уникальных значений столбца `children`, чтобы убедиться, что артефакты удалены.**"
   ]
  },
  {
   "cell_type": "code",
   "execution_count": 10,
   "id": "23f0071a",
   "metadata": {
    "deletable": false,
    "id": "ad4fa8b7",
    "outputId": "b2097101-d49d-44d9-901b-32a65c9463d1"
   },
   "outputs": [
    {
     "data": {
      "text/plain": [
       "array([1, 0, 3, 2, 4, 5])"
      ]
     },
     "execution_count": 10,
     "metadata": {},
     "output_type": "execute_result"
    }
   ],
   "source": [
    "data['children'].unique()"
   ]
  },
  {
   "cell_type": "markdown",
   "id": "a1ed614d",
   "metadata": {
    "deletable": false,
    "editable": false,
    "id": "75440b63"
   },
   "source": [
    "### Удаление пропусков (продолжение)"
   ]
  },
  {
   "cell_type": "markdown",
   "id": "b8993888",
   "metadata": {
    "deletable": false,
    "editable": false,
    "id": "f4ea573f"
   },
   "source": [
    "**Задание 11. Заполните пропуски в столбце `days_employed` медианными значениями по каждого типа занятости `income_type`.**"
   ]
  },
  {
   "cell_type": "code",
   "execution_count": 11,
   "id": "7f8dddac",
   "metadata": {
    "deletable": false,
    "id": "af6b1a7e"
   },
   "outputs": [],
   "source": [
    "for t in data['income_type'].unique():\n",
    "    data.loc[(data['income_type'] == t) & (data['days_employed'].isna()), 'days_employed'] = \\\n",
    "    data.loc[(data['income_type'] == t), 'days_employed'].median()"
   ]
  },
  {
   "cell_type": "markdown",
   "id": "e0985905",
   "metadata": {
    "deletable": false,
    "editable": false,
    "id": "2753f40d"
   },
   "source": [
    "**Задание 12. Убедитесь, что все пропуски заполнены. Проверьте себя и ещё раз выведите количество пропущенных значений для каждого столбца с помощью двух методов.**"
   ]
  },
  {
   "cell_type": "code",
   "execution_count": 12,
   "id": "88c59543",
   "metadata": {
    "deletable": false,
    "id": "55f78bc2",
    "outputId": "8da1e4e1-358e-4e87-98c9-f261bce0a7b2"
   },
   "outputs": [
    {
     "data": {
      "text/plain": [
       "children            0\n",
       "days_employed       0\n",
       "dob_years           0\n",
       "education           0\n",
       "education_id        0\n",
       "family_status       0\n",
       "family_status_id    0\n",
       "gender              0\n",
       "income_type         0\n",
       "debt                0\n",
       "total_income        0\n",
       "purpose             0\n",
       "dtype: int64"
      ]
     },
     "execution_count": 12,
     "metadata": {},
     "output_type": "execute_result"
    }
   ],
   "source": [
    "data.isna().sum()"
   ]
  },
  {
   "cell_type": "markdown",
   "id": "78154d98",
   "metadata": {
    "deletable": false,
    "editable": false,
    "id": "ddc81e43"
   },
   "source": [
    "### Изменение типов данных"
   ]
  },
  {
   "cell_type": "markdown",
   "id": "0b2cd32b",
   "metadata": {
    "deletable": false,
    "editable": false,
    "id": "42d19d24"
   },
   "source": [
    "**Задание 13. Замените вещественный тип данных в столбце `total_income` на целочисленный с помощью метода `astype()`.**"
   ]
  },
  {
   "cell_type": "code",
   "execution_count": 13,
   "id": "b6f0519e",
   "metadata": {
    "deletable": false,
    "id": "920b65ad"
   },
   "outputs": [],
   "source": [
    "data['total_income'] = data['total_income'].astype(int)"
   ]
  },
  {
   "cell_type": "markdown",
   "id": "65a6d3a6",
   "metadata": {
    "deletable": false,
    "editable": false,
    "id": "80c420ba"
   },
   "source": [
    "### Обработка дубликатов"
   ]
  },
  {
   "cell_type": "markdown",
   "id": "3efbd03b",
   "metadata": {
    "deletable": false,
    "editable": false
   },
   "source": [
    "**Задание 14. Обработайте неявные дубликаты в столбце `education`. В этом столбце есть одни и те же значения, но записанные по-разному: с использованием заглавных и строчных букв. Приведите их к нижнему регистру.**"
   ]
  },
  {
   "cell_type": "code",
   "execution_count": 14,
   "id": "6adc87a7",
   "metadata": {
    "deletable": false
   },
   "outputs": [],
   "source": [
    "data['education'] = data['education'].str.lower()"
   ]
  },
  {
   "cell_type": "markdown",
   "id": "d6a52c12",
   "metadata": {
    "deletable": false,
    "editable": false,
    "id": "dc587695"
   },
   "source": [
    "**Задание 15. Выведите на экран количество строк-дубликатов в данных. Если такие строки присутствуют, удалите их.**"
   ]
  },
  {
   "cell_type": "code",
   "execution_count": 15,
   "id": "36f49cfb",
   "metadata": {
    "deletable": false,
    "id": "3ee445e4",
    "outputId": "9684deba-1934-42d1-99e1-cda61740f822"
   },
   "outputs": [
    {
     "data": {
      "text/plain": [
       "71"
      ]
     },
     "execution_count": 15,
     "metadata": {},
     "output_type": "execute_result"
    }
   ],
   "source": [
    "data.duplicated().sum()"
   ]
  },
  {
   "cell_type": "code",
   "execution_count": 16,
   "id": "72f89db6",
   "metadata": {
    "deletable": false,
    "id": "8575fe05"
   },
   "outputs": [],
   "source": [
    "data = data.drop_duplicates()"
   ]
  },
  {
   "cell_type": "markdown",
   "id": "cd1aa98c",
   "metadata": {
    "deletable": false,
    "editable": false,
    "id": "9904cf55"
   },
   "source": [
    "### Категоризация данных"
   ]
  },
  {
   "cell_type": "markdown",
   "id": "61bb8070",
   "metadata": {
    "deletable": false,
    "editable": false,
    "id": "72fcc8a2"
   },
   "source": [
    "**Задание 16. На основании диапазонов, указанных ниже, создайте в датафрейме `data` столбец `total_income_category` с категориями:**\n",
    "\n",
    "- 0–30000 — `'E'`;\n",
    "- 30001–50000 — `'D'`;\n",
    "- 50001–200000 — `'C'`;\n",
    "- 200001–1000000 — `'B'`;\n",
    "- 1000001 и выше — `'A'`.\n",
    "\n",
    "\n",
    "**Например, кредитополучателю с доходом 25000 нужно назначить категорию `'E'`, а клиенту, получающему 235000, — `'B'`. Используйте собственную функцию с именем `categorize_income()` и метод `apply()`.**"
   ]
  },
  {
   "cell_type": "code",
   "execution_count": 17,
   "id": "89c6434c",
   "metadata": {
    "deletable": false,
    "id": "e1771346"
   },
   "outputs": [],
   "source": [
    "def categorize_income(income):\n",
    "    try:\n",
    "        if 0 <= income <= 30000:\n",
    "            return 'E'\n",
    "        elif 30001 <= income <= 50000:\n",
    "            return 'D'\n",
    "        elif 50001 <= income <= 200000:\n",
    "            return 'C'\n",
    "        elif 200001 <= income <= 1000000:\n",
    "            return 'B'\n",
    "        elif income >= 1000001:\n",
    "            return 'A'\n",
    "    except:\n",
    "        pass"
   ]
  },
  {
   "cell_type": "code",
   "execution_count": 18,
   "id": "e25de900",
   "metadata": {
    "deletable": false,
    "id": "d5f3586d"
   },
   "outputs": [],
   "source": [
    "data['total_income_category'] = data['total_income'].apply(categorize_income)"
   ]
  },
  {
   "cell_type": "markdown",
   "id": "b76cba8d",
   "metadata": {
    "deletable": false,
    "editable": false,
    "id": "dde49b5c"
   },
   "source": [
    "**Задание 17. Выведите на экран перечень уникальных целей взятия кредита из столбца `purpose`.**"
   ]
  },
  {
   "cell_type": "code",
   "execution_count": 19,
   "id": "b7a43f7e",
   "metadata": {
    "deletable": false,
    "id": "f67ce9b3",
    "outputId": "673c12d9-7d7e-4ae0-9812-c622c89dd244"
   },
   "outputs": [
    {
     "data": {
      "text/plain": [
       "array(['покупка жилья', 'приобретение автомобиля',\n",
       "       'дополнительное образование', 'сыграть свадьбу',\n",
       "       'операции с жильем', 'образование', 'на проведение свадьбы',\n",
       "       'покупка жилья для семьи', 'покупка недвижимости',\n",
       "       'покупка коммерческой недвижимости', 'покупка жилой недвижимости',\n",
       "       'строительство собственной недвижимости', 'недвижимость',\n",
       "       'строительство недвижимости', 'на покупку подержанного автомобиля',\n",
       "       'на покупку своего автомобиля',\n",
       "       'операции с коммерческой недвижимостью',\n",
       "       'строительство жилой недвижимости', 'жилье',\n",
       "       'операции со своей недвижимостью', 'автомобили',\n",
       "       'заняться образованием', 'сделка с подержанным автомобилем',\n",
       "       'получение образования', 'автомобиль', 'свадьба',\n",
       "       'получение дополнительного образования', 'покупка своего жилья',\n",
       "       'операции с недвижимостью', 'получение высшего образования',\n",
       "       'свой автомобиль', 'сделка с автомобилем',\n",
       "       'профильное образование', 'высшее образование',\n",
       "       'покупка жилья для сдачи', 'на покупку автомобиля', 'ремонт жилью',\n",
       "       'заняться высшим образованием'], dtype=object)"
      ]
     },
     "execution_count": 19,
     "metadata": {},
     "output_type": "execute_result"
    }
   ],
   "source": [
    "data['purpose'].unique()"
   ]
  },
  {
   "cell_type": "markdown",
   "id": "b394679f",
   "metadata": {
    "deletable": false,
    "editable": false,
    "id": "85d0aef0"
   },
   "source": [
    "**Задание 18. Создайте функцию, которая на основании данных из столбца `purpose` сформирует новый столбец `purpose_category`, в который войдут следующие категории:**\n",
    "\n",
    "- `'операции с автомобилем'`,\n",
    "- `'операции с недвижимостью'`,\n",
    "- `'проведение свадьбы'`,\n",
    "- `'получение образования'`.\n",
    "\n",
    "**Например, если в столбце `purpose` находится подстрока `'на покупку автомобиля'`, то в столбце `purpose_category` должна появиться строка `'операции с автомобилем'`.**\n",
    "\n",
    "**Используйте собственную функцию с именем `categorize_purpose()` и метод `apply()`. Изучите данные в столбце `purpose` и определите, какие подстроки помогут вам правильно определить категорию.**"
   ]
  },
  {
   "cell_type": "code",
   "execution_count": 20,
   "id": "448a70b4",
   "metadata": {
    "deletable": false,
    "id": "e149fab4"
   },
   "outputs": [],
   "source": [
    "def categorize_purpose(row):\n",
    "    try:\n",
    "        if 'автом' in row:\n",
    "            return 'операции с автомобилем'\n",
    "        elif 'жил' in row or 'недвиж' in row:\n",
    "            return 'операции с недвижимостью'\n",
    "        elif 'свад' in row:\n",
    "            return 'проведение свадьбы'\n",
    "        elif 'образов' in row:\n",
    "            return 'получение образования'\n",
    "    except:\n",
    "        return 'нет категории'"
   ]
  },
  {
   "cell_type": "code",
   "execution_count": 21,
   "id": "8958ff04",
   "metadata": {
    "deletable": false,
    "id": "bf36e69b"
   },
   "outputs": [],
   "source": [
    "data['purpose_category'] = data['purpose'].apply(categorize_purpose)"
   ]
  },
  {
   "cell_type": "markdown",
   "id": "1926b747",
   "metadata": {
    "deletable": false,
    "editable": false,
    "id": "09b242bf"
   },
   "source": [
    "### Шаг 3. Исследуйте данные и ответьте на вопросы"
   ]
  },
  {
   "cell_type": "markdown",
   "id": "ca2537a7",
   "metadata": {
    "deletable": false,
    "editable": false,
    "id": "c5d66278"
   },
   "source": [
    "#### 3.1 Есть ли зависимость между количеством детей и возвратом кредита в срок?"
   ]
  },
  {
   "cell_type": "markdown",
   "id": "014cfdf6",
   "metadata": {},
   "source": [
    "<div class=\"alert alert-info\">\n",
    "<b>Комментарий студента:</b>\n",
    "<br>Перенёс импорт библиотек в начало проекта.\n",
    "</div>"
   ]
  },
  {
   "cell_type": "markdown",
   "id": "a0e43fa8",
   "metadata": {},
   "source": [
    "<div class=\"alert alert-success\">\n",
    "<h2> Комментарий ревьюера #2 <a class=\"tocSkip\"> </h2>\n",
    "\n",
    "👍 Отлично! И спасибо за оформление.\n",
    "</div>\n",
    " "
   ]
  },
  {
   "cell_type": "markdown",
   "id": "3aa92508",
   "metadata": {},
   "source": [
    "<div class=\"alert alert-warning\">\n",
    "<h2> Комментарий ревьюера <a class=\"tocSkip\"> </h2>\n",
    "    \n",
    "<b>Некоторые замечания и рекомендации💡:</b> \n",
    "\n",
    "Выполнение проекта фактически начинаем отсюда, но все равно правильнее будет расположить импоты в самом начале проекта.\n",
    "       \n",
    "</div>"
   ]
  },
  {
   "cell_type": "markdown",
   "id": "7c9fcc44",
   "metadata": {
    "deletable": false,
    "id": "2cacfc4a"
   },
   "source": [
    "Узнаем количество клиентов, которые имели задолженность по кредиту (далее - debtors), и клиентов, исправно выплачивающих кредит (далее - payers)."
   ]
  },
  {
   "cell_type": "code",
   "execution_count": 22,
   "id": "f1a782eb",
   "metadata": {},
   "outputs": [
    {
     "data": {
      "text/plain": [
       "debt\n",
       "0    19599\n",
       "1     1732\n",
       "Name: debt, dtype: int64"
      ]
     },
     "execution_count": 22,
     "metadata": {},
     "output_type": "execute_result"
    }
   ],
   "source": [
    "data.groupby('debt')['debt'].count()"
   ]
  },
  {
   "cell_type": "markdown",
   "id": "eed7bad3",
   "metadata": {},
   "source": [
    "Итого: среди 21331 клиента, по данным, оставшимся в результате обработки таблицы, 19599 - payers и 1732 - debtors"
   ]
  },
  {
   "cell_type": "markdown",
   "id": "512c9fa5",
   "metadata": {},
   "source": [
    "Вычислим долю клиентов, имеющих задержки выплат по кредитам, к общему количеству клиентов ratio_abs вне зависимости от принадлежности к какой-либо специальной группе"
   ]
  },
  {
   "cell_type": "code",
   "execution_count": 23,
   "id": "8c4ac172",
   "metadata": {},
   "outputs": [
    {
     "data": {
      "text/plain": [
       "1732"
      ]
     },
     "execution_count": 23,
     "metadata": {},
     "output_type": "execute_result"
    }
   ],
   "source": [
    "debtors = data.loc[(data['debt'] == 1), 'debt'].count()\n",
    "debtors"
   ]
  },
  {
   "cell_type": "code",
   "execution_count": 24,
   "id": "d33e2b1a",
   "metadata": {},
   "outputs": [
    {
     "data": {
      "text/plain": [
       "19599"
      ]
     },
     "execution_count": 24,
     "metadata": {},
     "output_type": "execute_result"
    }
   ],
   "source": [
    "payers = data.loc[(data['debt'] == 0), 'debt'].count()\n",
    "payers"
   ]
  },
  {
   "cell_type": "code",
   "execution_count": 25,
   "id": "af59fe99",
   "metadata": {},
   "outputs": [
    {
     "data": {
      "text/plain": [
       "21331"
      ]
     },
     "execution_count": 25,
     "metadata": {},
     "output_type": "execute_result"
    }
   ],
   "source": [
    "clients = data['debt'].count()\n",
    "clients"
   ]
  },
  {
   "cell_type": "code",
   "execution_count": 26,
   "id": "9f29f19c",
   "metadata": {},
   "outputs": [
    {
     "data": {
      "text/plain": [
       "0.08119638085415593"
      ]
     },
     "execution_count": 26,
     "metadata": {},
     "output_type": "execute_result"
    }
   ],
   "source": [
    "# Доля debtors к общему количеству клиентов\n",
    "ratio_abs = debtors / clients\n",
    "ratio_abs"
   ]
  },
  {
   "cell_type": "markdown",
   "id": "21af17f8",
   "metadata": {},
   "source": [
    "<div class=\"alert alert-info\">\n",
    "<b>Комментарий студента:</b>\n",
    "<br>Вычислил долю должников от общего количества клиентов.\n",
    "</div>"
   ]
  },
  {
   "cell_type": "markdown",
   "id": "406e209a",
   "metadata": {},
   "source": [
    "<div class=\"alert alert-warning\">\n",
    "<h2> Комментарий ревьюера <a class=\"tocSkip\"> </h2>\n",
    "    \n",
    "<b>Некоторые замечания и рекомендации💡:</b> \n",
    "\n",
    "Здесь я бы вычислил другую, интуитивно более понятную величину: долю просрочек по датасету. Она будет отношением просрочек к количеству данных.\n",
    "       \n",
    "</div>"
   ]
  },
  {
   "cell_type": "markdown",
   "id": "f8de6172",
   "metadata": {},
   "source": [
    "<div class=\"alert alert-info\">\n",
    "<b>Комментарий студента:</b>\n",
    "<br>Перенёс импорт библиотек в начало проекта.\n",
    "</div>"
   ]
  },
  {
   "cell_type": "markdown",
   "id": "4a579ad0",
   "metadata": {},
   "source": [
    "Далее, сгруппируем по наличию детей clients и debtors и определим количество в каждой группе"
   ]
  },
  {
   "cell_type": "code",
   "execution_count": 27,
   "id": "fe3c0204",
   "metadata": {},
   "outputs": [],
   "source": [
    "# Выделим debtors, имеющих детей\n",
    "debtors_with_child = data[(data['debt'] == 1)&(data['children'] != 0)]"
   ]
  },
  {
   "cell_type": "code",
   "execution_count": 28,
   "id": "943a4892",
   "metadata": {},
   "outputs": [
    {
     "data": {
      "text/plain": [
       "669"
      ]
     },
     "execution_count": 28,
     "metadata": {},
     "output_type": "execute_result"
    }
   ],
   "source": [
    "# Определим общее количество debtors, имеющих детей\n",
    "total_debtors_with_child = debtors_with_child['children'].count()\n",
    "total_debtors_with_child"
   ]
  },
  {
   "cell_type": "code",
   "execution_count": 29,
   "id": "a28970db",
   "metadata": {},
   "outputs": [],
   "source": [
    "# Выделим clients, имеющих детей\n",
    "clients_with_child = data[data['children'] != 0]"
   ]
  },
  {
   "cell_type": "code",
   "execution_count": 30,
   "id": "e46a34fe",
   "metadata": {},
   "outputs": [
    {
     "data": {
      "text/plain": [
       "7240"
      ]
     },
     "execution_count": 30,
     "metadata": {},
     "output_type": "execute_result"
    }
   ],
   "source": [
    "# Определим общее количество clients, имеющих детей\n",
    "total_clients_with_child = clients_with_child['children'].count()\n",
    "total_clients_with_child"
   ]
  },
  {
   "cell_type": "code",
   "execution_count": 31,
   "id": "3f017001",
   "metadata": {},
   "outputs": [],
   "source": [
    "# Выделим debtors, не имеющих детей\n",
    "debtors_childless = data[(data['debt'] == 1)&(data['children'] == 0)]\n",
    "debtors_childless = debtors_childless['children'].count()"
   ]
  },
  {
   "cell_type": "code",
   "execution_count": 32,
   "id": "7811c082",
   "metadata": {},
   "outputs": [],
   "source": [
    "# Выделим clients, не имеющих детей\n",
    "clients_childless = data[data['children'] == 0]\n",
    "clients_childless = clients_childless['children'].count()"
   ]
  },
  {
   "cell_type": "code",
   "execution_count": 33,
   "id": "a12d2912",
   "metadata": {},
   "outputs": [
    {
     "data": {
      "text/plain": [
       "0.07543822297920659"
      ]
     },
     "execution_count": 33,
     "metadata": {},
     "output_type": "execute_result"
    }
   ],
   "source": [
    "# Определим соотношение ratio_childless в бездетной группе\n",
    "ratio_childless = debtors_childless / clients_childless\n",
    "ratio_childless"
   ]
  },
  {
   "cell_type": "markdown",
   "id": "f430e2d8",
   "metadata": {},
   "source": [
    "Отметим, что количество debtors и payers, имеющих один и два ребенка, составляет 95% от общего количества клиентов, имеющих детей. Клиентов, имеющих троих детей менее 5%, а четырех и более детей менее 1%.\n",
    "Это позволяет выделить две группы клиентов, имеющих (total_debtors_with_child) и не имеющих детей (debtors_childless), и сравнить долю debtors среди клиентов, имеющих и не имеющих детей (total_ratio_with_child, total_ratio_childless), между собой и с соотношением ratio_abs."
   ]
  },
  {
   "cell_type": "code",
   "execution_count": 34,
   "id": "27ccdeb5",
   "metadata": {
    "scrolled": true
   },
   "outputs": [
    {
     "name": "stdout",
     "output_type": "stream",
     "text": [
      "Доля debtors в группе клиентов с детьми 0.09240331491712707\n"
     ]
    }
   ],
   "source": [
    "total_ratio_with_child = total_debtors_with_child / total_clients_with_child\n",
    "print('Доля debtors в группе клиентов с детьми', total_ratio_with_child)"
   ]
  },
  {
   "cell_type": "markdown",
   "id": "222585f1",
   "metadata": {},
   "source": [
    "<div class=\"alert alert-warning\">\n",
    "<h2> Комментарий ревьюера <a class=\"tocSkip\"> </h2>\n",
    "    \n",
    "<b>Некоторые замечания и рекомендации💡:</b> \n",
    "\n",
    "Здесь также логичнее смотреть на долю - соотношение части к целому или в нашем случае должников (с просрочками) ко всем клиентам банка.\n",
    "       \n",
    "</div>"
   ]
  },
  {
   "cell_type": "code",
   "execution_count": 35,
   "id": "38a77a4f",
   "metadata": {},
   "outputs": [
    {
     "name": "stdout",
     "output_type": "stream",
     "text": [
      "Доля debtors в группе клиентов без детей 0.07543822297920659\n"
     ]
    }
   ],
   "source": [
    "total_ratio_childless = debtors_childless / clients_childless\n",
    "print('Доля debtors в группе клиентов без детей', total_ratio_childless)"
   ]
  },
  {
   "cell_type": "code",
   "execution_count": 36,
   "id": "50424d30",
   "metadata": {},
   "outputs": [],
   "source": [
    "x = ['С детьми', 'Без детей', 'Абсолютное соотношение']\n",
    "y = [total_ratio_with_child, total_ratio_childless, ratio_abs]"
   ]
  },
  {
   "cell_type": "code",
   "execution_count": 37,
   "id": "aef0c368",
   "metadata": {},
   "outputs": [
    {
     "data": {
      "image/png": "[encoded data removed]",
      "text/plain": [
       "<Figure size 432x288 with 1 Axes>"
      ]
     },
     "metadata": {
      "needs_background": "light"
     },
     "output_type": "display_data"
    }
   ],
   "source": [
    "plt.xlabel('Группы клиентов', fontsize=14);\n",
    "plt.ylabel(r'Доля debtors в группе', fontsize=14);\n",
    "plt.title(r'Сравнение долей debtors по группам', fontsize=18)\n",
    "sns.set(rc={'figure.figsize':(12, 8)})\n",
    "sns.barplot(x=x, y=y, palette='hls');"
   ]
  },
  {
   "cell_type": "markdown",
   "id": "b0ac159c",
   "metadata": {},
   "source": [
    "<div class=\"alert alert-block alert-danger\">\n",
    "<h2><s> Комментарий ревьюера <a class=\"tocSkip\"></h2>\n",
    "  \n",
    "<b>На доработку🤔:</b>\n",
    " \n",
    "Все графики в проекте необходимо подписать. Убрать вывод служебной информации из графика можно добавив в конце строки знак «;».\n",
    "    \n",
    "Подпись графика также можно сделать через параметры plt.title('Название графика')\n",
    "    \n",
    "*Предварительно нужно подключить `import matplotlib.pyplot as plt`\n",
    "\n",
    "\n",
    "</div>\n"
   ]
  },
  {
   "cell_type": "markdown",
   "id": "e047ca6a",
   "metadata": {},
   "source": [
    "На диаграмме видно, что доля клиентов, допускающих задержки по выплатам, меньше у клиентов без детей, чем у клиентам с детьми, и меньше, чем абсолютной доли по всей выборке.\n",
    "Это значит, что клиенты без детей меньше допускают задержки по выплатам."
   ]
  },
  {
   "cell_type": "markdown",
   "id": "89c50616",
   "metadata": {},
   "source": [
    "Проанализируем, как изменяются соотношения между клиентами в зависимости от количества детей."
   ]
  },
  {
   "cell_type": "markdown",
   "id": "e21154a0",
   "metadata": {},
   "source": [
    "<div class=\"alert alert-info\">\n",
    "<b>Комментарий студента:</b>\n",
    "<br>Переделал расчет долей должников по группам с детьми с помощью сводных таблиц.\n",
    "</div>"
   ]
  },
  {
   "cell_type": "code",
   "execution_count": 38,
   "id": "c904b285",
   "metadata": {},
   "outputs": [],
   "source": [
    "# Формируем сводную таблицу по количеству детей с расчетом доли должников в каждой группе\n",
    "grouped_by_children = pd.pivot_table(data=data, index=['children'], values='debt', aggfunc='mean')"
   ]
  },
  {
   "cell_type": "code",
   "execution_count": 39,
   "id": "7dd98106",
   "metadata": {},
   "outputs": [],
   "source": [
    "for_diagram = grouped_by_children.stack()\n",
    "for_diagram = list(for_diagram)"
   ]
  },
  {
   "cell_type": "code",
   "execution_count": 40,
   "id": "c00bad25",
   "metadata": {},
   "outputs": [],
   "source": [
    "comparison_debt_by_chlidren = pd.DataFrame({'values_grupp':[0, 1, 2, 3, 4, 5],\\\n",
    "                                            'share_debtors':for_diagram})"
   ]
  },
  {
   "cell_type": "code",
   "execution_count": 41,
   "id": "2da30686",
   "metadata": {},
   "outputs": [],
   "source": [
    "comparison_debt_by_chlidren.loc[len(comparison_debt_by_chlidren.index)] = ['ratio_abs', ratio_abs]"
   ]
  },
  {
   "cell_type": "code",
   "execution_count": 42,
   "id": "52618eb2",
   "metadata": {},
   "outputs": [
    {
     "data": {
      "text/html": [
       "<div>\n",
       "<style scoped>\n",
       "    .dataframe tbody tr th:only-of-type {\n",
       "        vertical-align: middle;\n",
       "    }\n",
       "\n",
       "    .dataframe tbody tr th {\n",
       "        vertical-align: top;\n",
       "    }\n",
       "\n",
       "    .dataframe thead th {\n",
       "        text-align: right;\n",
       "    }\n",
       "</style>\n",
       "<table border=\"1\" class=\"dataframe\">\n",
       "  <thead>\n",
       "    <tr style=\"text-align: right;\">\n",
       "      <th></th>\n",
       "      <th>values_grupp</th>\n",
       "      <th>share_debtors</th>\n",
       "    </tr>\n",
       "  </thead>\n",
       "  <tbody>\n",
       "    <tr>\n",
       "      <th>0</th>\n",
       "      <td>0</td>\n",
       "      <td>0.075438</td>\n",
       "    </tr>\n",
       "    <tr>\n",
       "      <th>1</th>\n",
       "      <td>1</td>\n",
       "      <td>0.092346</td>\n",
       "    </tr>\n",
       "    <tr>\n",
       "      <th>2</th>\n",
       "      <td>2</td>\n",
       "      <td>0.094542</td>\n",
       "    </tr>\n",
       "    <tr>\n",
       "      <th>3</th>\n",
       "      <td>3</td>\n",
       "      <td>0.081818</td>\n",
       "    </tr>\n",
       "    <tr>\n",
       "      <th>4</th>\n",
       "      <td>4</td>\n",
       "      <td>0.097561</td>\n",
       "    </tr>\n",
       "    <tr>\n",
       "      <th>5</th>\n",
       "      <td>5</td>\n",
       "      <td>0.000000</td>\n",
       "    </tr>\n",
       "    <tr>\n",
       "      <th>6</th>\n",
       "      <td>ratio_abs</td>\n",
       "      <td>0.081196</td>\n",
       "    </tr>\n",
       "  </tbody>\n",
       "</table>\n",
       "</div>"
      ],
      "text/plain": [
       "  values_grupp  share_debtors\n",
       "0            0       0.075438\n",
       "1            1       0.092346\n",
       "2            2       0.094542\n",
       "3            3       0.081818\n",
       "4            4       0.097561\n",
       "5            5       0.000000\n",
       "6    ratio_abs       0.081196"
      ]
     },
     "execution_count": 42,
     "metadata": {},
     "output_type": "execute_result"
    }
   ],
   "source": [
    "comparison_debt_by_chlidren"
   ]
  },
  {
   "cell_type": "code",
   "execution_count": 43,
   "id": "6fcf98fe",
   "metadata": {},
   "outputs": [
    {
     "data": {
      "image/png": "[encoded data removed]",
      "text/plain": [
       "<Figure size 864x576 with 1 Axes>"
      ]
     },
     "metadata": {},
     "output_type": "display_data"
    }
   ],
   "source": [
    "plt.title(r'Сравнение долей debtors по группам', fontsize=18)\n",
    "sns.barplot(data=comparison_debt_by_chlidren, x='values_grupp', y='share_debtors', palette='hls')\n",
    "plt.xlabel('Группы клиентов', fontsize=14);\n",
    "plt.ylabel(r'Доля debtors в группе', fontsize=14);\n",
    "sns.set(rc={'figure.figsize':(10, 6)})"
   ]
  },
  {
   "cell_type": "markdown",
   "id": "f700153f",
   "metadata": {},
   "source": [
    "<div class=\"alert alert-warning\">\n",
    "<h2> Комментарий ревьюера <a class=\"tocSkip\"> </h2>\n",
    "    \n",
    "<b>Некоторые замечания и рекомендации💡:</b> \n",
    "\n",
    "Здесь также небоходимо подписать график.\n",
    "       \n",
    "</div>\n"
   ]
  },
  {
   "cell_type": "markdown",
   "id": "7ac49fe3",
   "metadata": {},
   "source": [
    "<div class=\"alert alert-block alert-danger\">\n",
    "<h2> Комментарий ревьюера <a class=\"tocSkip\"></h2>\n",
    "  \n",
    "<b>На доработку🤔:</b>\n",
    "\n",
    "У тебя получилось неплохое исследование, а по его итогу мы действительно можем прийти к верным результатам. Однако рассчитанные нами метрики не выглядят интуитивно понятными, а сам расчет − не оптимален по коду.\n",
    "    \n",
    "Удобнее смотреть на все расчеты, упаковав их в одну таблицу. На самом деле, сделать это достаточно просто. Проще, чем писать код для каждого из вычислений отдельно.\n",
    "\n",
    "Можно вывести в таблицу следующие по смыслу колонки: количество детей (это будет индекс в получившейся таблице), количество заемщиков, количество должников и долю невозврата. Сделать это можно как группировкой, так и (на мой взгляд, удобнее) с помощью сводных таблиц `pivot_table()`.\n",
    "\n",
    "По сводным есть история с тем, что аргументы называются неочевидно.\n",
    "    \n",
    "* Index - то, что мы хотим увидеть в строках таблицы (у тебя верно − «children»).\n",
    "* Values - то, что мы хотим увидеть в наших ячейках, в агрегированном виде. Это наш долг, «debt».\n",
    "* Columns - то, как мы хотим дополнительно разбить values (здесь нам этот параметр не нужен).\n",
    "* aggfunc - какую агрегирующую функцию хотим применить (среднее, минимум, максимум, сумму итд). \n",
    "    \n",
    "\n",
    "\n",
    "Подробнее про сводные таблицы здесь: https://pythobyte.com/pandas-pivot-tables-259210c6/ \n",
    "    \n",
    "По коду предлагаю такой план:\n",
    "    \n",
    "1) В aggfunc сводной таблицы можно передавать список функций. Например, так: `aggfunc=['median', 'min', 'max']` У нас, соответственно, будут другие функции :)\n",
    "    \n",
    "2) Долю должников можно вычислить не только делением одного столбца на другой, но и с помощью `aggfunc='mean'`, так как этот показатель − среднее между нулями и единицами (среднее = сумма элементов, деленная на их количество).\n",
    "    \n",
    "3) Для наглядности, колонки можно переназвать. `grouped_by_children.columns = ['первое название', 'второе название', '...']`\n",
    "\n",
    "___\n",
    "    \n",
    "Можно сделать и группировкой: здесь будет примерно также, только вместо одной функции в конце строки мы подадим список:\n",
    "    \n",
    "`...['debt'].agg(['f1','f2','f3'])`\n",
    "\n",
    "        \n",
    "В дальнейших расчетах можно будет переиспользовать код.\n",
    "\n",
    "</div>\n",
    "\n"
   ]
  },
  {
   "cell_type": "markdown",
   "id": "c876a8b1",
   "metadata": {},
   "source": [
    "<div class=\"alert alert-info\">\n",
    "<b>Комментарий студента:</b>\n",
    "<br>Ниже привел расчет метрик с помощью сводных таблиц.\n",
    "</div>"
   ]
  },
  {
   "cell_type": "markdown",
   "id": "e3975e8f",
   "metadata": {},
   "source": [
    "На диаграмме видно, что доля клиентов, допускающих задержки выплат по кредитам растёт в зависимости от количества детей у клиента. \n",
    "Необходимо учесть, что в таблице число клиентов с тремя и более детьми значительно меньше (в 20 раз), чем с одним и двумя детьми, и предоставленной информации для надежного анализа по этим группам недостаточно. С этим может быть связано то, что доля должников среди клиентов с тремя детьми меньше по сравнению с остальными группами клиентов с детьми."
   ]
  },
  {
   "cell_type": "markdown",
   "id": "651c3938",
   "metadata": {},
   "source": [
    " \n",
    "<div class=\"alert alert-warning\">\n",
    "<h2> Комментарий ревьюера <a class=\"tocSkip\"> </h2>\n",
    "    \n",
    "<b>Некоторые замечания и рекомендации💡:</b> \n",
    "\n",
    "Tолько здесь не гистограмма, а диаграмма. Гистограмма − это график плотности распределения.\n",
    "       \n",
    "</div>\n",
    "\n",
    " "
   ]
  },
  {
   "cell_type": "markdown",
   "id": "c8286899",
   "metadata": {
    "deletable": false,
    "id": "3a6b99ec"
   },
   "source": [
    "**Вывод:** Доля клиентов с детьми, допускающих задержки выплат по кредиту больше (9,24%), чем у бездетных, но взаимосвязь с увеличением количества детей незначительна. Для исследования зависимости необходимо обладать сопоставимыми данными по количеству клиентов в каждой группе."
   ]
  },
  {
   "cell_type": "markdown",
   "id": "ab070901",
   "metadata": {},
   "source": [
    "<div class=\"alert alert-success\">\n",
    "<h2> Комментарий ревьюера <a class=\"tocSkip\"> </h2>\n",
    "\n",
    "👍 По выводам все отлично: действительно, клиенты без детей допускают задержки по кредиту реже, а данных по клиентам с пятью детьми недостаточно.\n",
    "</div>"
   ]
  },
  {
   "cell_type": "markdown",
   "id": "c463c86c",
   "metadata": {
    "deletable": false,
    "editable": false,
    "id": "97be82ca"
   },
   "source": [
    "#### 3.2 Есть ли зависимость между семейным положением и возвратом кредита в срок?"
   ]
  },
  {
   "cell_type": "markdown",
   "id": "ae6f7f68",
   "metadata": {
    "deletable": false,
    "id": "dc3f7ee8"
   },
   "source": [
    "Сгруппируем клиентов по семейному положению и определим количество, рассчитаем долю должников в каждом статусе."
   ]
  },
  {
   "cell_type": "code",
   "execution_count": 44,
   "id": "fa0bc473",
   "metadata": {},
   "outputs": [],
   "source": [
    "# Сгруппируем и вычислим долю должников\n",
    "grupped_by_family_status = pd.pivot_table(data=data, index=['family_status'],\\\n",
    "                                          values=['debt'], aggfunc=['mean'], margins=True,\\\n",
    "                                          margins_name='Всего')"
   ]
  },
  {
   "cell_type": "code",
   "execution_count": 45,
   "id": "876a359e",
   "metadata": {},
   "outputs": [],
   "source": [
    "# Сгруппируем по количеству клиентов в разных категориях\n",
    "grouping_by_debtors = pd.pivot_table(data=data, index=['family_status'], columns='debt',\\\n",
    "                               values='family_status_id',\\\n",
    "                               aggfunc=['count'], margins=True, margins_name='Всего')"
   ]
  },
  {
   "cell_type": "code",
   "execution_count": 46,
   "id": "d68376a4",
   "metadata": {},
   "outputs": [],
   "source": [
    "table_for_family_status = pd.merge(grouping_by_debtors, grupped_by_family_status,\\\n",
    "                                left_index=True, right_index=True)"
   ]
  },
  {
   "cell_type": "code",
   "execution_count": 47,
   "id": "943eb8c0",
   "metadata": {},
   "outputs": [
    {
     "data": {
      "text/html": [
       "<div>\n",
       "<style scoped>\n",
       "    .dataframe tbody tr th:only-of-type {\n",
       "        vertical-align: middle;\n",
       "    }\n",
       "\n",
       "    .dataframe tbody tr th {\n",
       "        vertical-align: top;\n",
       "    }\n",
       "\n",
       "    .dataframe thead th {\n",
       "        text-align: right;\n",
       "    }\n",
       "</style>\n",
       "<table border=\"1\" class=\"dataframe\">\n",
       "  <thead>\n",
       "    <tr style=\"text-align: right;\">\n",
       "      <th></th>\n",
       "      <th>family_status</th>\n",
       "      <th>payers</th>\n",
       "      <th>debtors</th>\n",
       "      <th>clients</th>\n",
       "      <th>mean</th>\n",
       "    </tr>\n",
       "  </thead>\n",
       "  <tbody>\n",
       "    <tr>\n",
       "      <th>0</th>\n",
       "      <td>Не женат / не замужем</td>\n",
       "      <td>2523</td>\n",
       "      <td>273</td>\n",
       "      <td>2796</td>\n",
       "      <td>0.097639</td>\n",
       "    </tr>\n",
       "    <tr>\n",
       "      <th>1</th>\n",
       "      <td>в разводе</td>\n",
       "      <td>1105</td>\n",
       "      <td>84</td>\n",
       "      <td>1189</td>\n",
       "      <td>0.070648</td>\n",
       "    </tr>\n",
       "    <tr>\n",
       "      <th>2</th>\n",
       "      <td>вдовец / вдова</td>\n",
       "      <td>888</td>\n",
       "      <td>63</td>\n",
       "      <td>951</td>\n",
       "      <td>0.066246</td>\n",
       "    </tr>\n",
       "    <tr>\n",
       "      <th>3</th>\n",
       "      <td>гражданский брак</td>\n",
       "      <td>3749</td>\n",
       "      <td>385</td>\n",
       "      <td>4134</td>\n",
       "      <td>0.093130</td>\n",
       "    </tr>\n",
       "    <tr>\n",
       "      <th>4</th>\n",
       "      <td>женат / замужем</td>\n",
       "      <td>11334</td>\n",
       "      <td>927</td>\n",
       "      <td>12261</td>\n",
       "      <td>0.075606</td>\n",
       "    </tr>\n",
       "    <tr>\n",
       "      <th>5</th>\n",
       "      <td>Всего</td>\n",
       "      <td>19599</td>\n",
       "      <td>1732</td>\n",
       "      <td>21331</td>\n",
       "      <td>0.081196</td>\n",
       "    </tr>\n",
       "  </tbody>\n",
       "</table>\n",
       "</div>"
      ],
      "text/plain": [
       "           family_status  payers  debtors  clients      mean\n",
       "0  Не женат / не замужем    2523      273     2796  0.097639\n",
       "1              в разводе    1105       84     1189  0.070648\n",
       "2         вдовец / вдова     888       63      951  0.066246\n",
       "3       гражданский брак    3749      385     4134  0.093130\n",
       "4        женат / замужем   11334      927    12261  0.075606\n",
       "5                  Всего   19599     1732    21331  0.081196"
      ]
     },
     "execution_count": 47,
     "metadata": {},
     "output_type": "execute_result"
    }
   ],
   "source": [
    "# Преобразуем сводную таблицу в датафрейм\n",
    "table_for_family_status = table_for_family_status.reset_index()\n",
    "table_for_family_status.columns = ['family_status', 'payers', 'debtors', 'clients', 'mean']\n",
    "table_for_family_status"
   ]
  },
  {
   "cell_type": "markdown",
   "id": "136a7367",
   "metadata": {},
   "source": [
    "<div class=\"alert alert-success\">\n",
    "<h2> Комментарий ревьюера #2 <a class=\"tocSkip\"> </h2>\n",
    "\n",
    "👍 Интересная реализация, но вроде бы все верно по результатам.\n",
    "</div>\n",
    " "
   ]
  },
  {
   "cell_type": "code",
   "execution_count": 48,
   "id": "a7a87ccd",
   "metadata": {},
   "outputs": [
    {
     "data": {
      "image/png": "[encoded data removed]",
      "text/plain": [
       "<Figure size 720x432 with 1 Axes>"
      ]
     },
     "metadata": {},
     "output_type": "display_data"
    }
   ],
   "source": [
    "sns.barplot(data=table_for_family_status, x='family_status', y='mean', palette='hls')\n",
    "plt.title(r'Сравнение долей debtors по семейному статусу', fontsize=18)\n",
    "plt.xlabel('Группы клиентов', fontsize=14)\n",
    "plt.ylabel(r'Доля debtors в группе', fontsize=14)\n",
    "sns.set(rc={'figure.figsize':(18, 10)});"
   ]
  },
  {
   "cell_type": "markdown",
   "id": "ad29158b",
   "metadata": {},
   "source": [
    "<div class=\"alert alert-warning\">\n",
    "<h2> Комментарий ревьюера <a class=\"tocSkip\"> </h2>\n",
    "    \n",
    "<b>Некоторые замечания и рекомендации💡:</b> \n",
    " \n",
    "Здесь и в аналогичных ситуациях предлагаю вывести таблицу с тремя столбцами: количество заемщиков, число и доля должников.\n",
    "</div>\n",
    "\n",
    "\n",
    "\n"
   ]
  },
  {
   "cell_type": "markdown",
   "id": "b451de73",
   "metadata": {
    "deletable": false,
    "id": "1cef7837"
   },
   "source": [
    " **Вывод:**  Самыми рисковыми категориями по семейному статусу являются клиенты, не женатые/не замужние и находящиеся в гражданском браке, составляющие 9,76% и 9,31% в своей категории. Наиболее исправными плательщиками являются овдовевшие, разведенные и не состоящие в браке клиенты, составляющие 6,62%, 7,06% и 7,56% соответственно."
   ]
  },
  {
   "cell_type": "markdown",
   "id": "64719b04",
   "metadata": {},
   "source": [
    " \n",
    "<div class=\"alert alert-warning\">\n",
    "<h2> Комментарий ревьюера <a class=\"tocSkip\"> </h2>\n",
    "    \n",
    "<b>Некоторые замечания и рекомендации💡:</b> \n",
    "\n",
    "В целом верно. Однако я бы выбрал другой разделяющий аргумент: официально оформленные отношения. Если будем исследовать долю просрочек по категориям, то увидим, что гражданский брак − рисковая категория. Разделение по наличию штампа в паспорте в этом случае будет более удачным.\n",
    "       \n",
    "</div>\n"
   ]
  },
  {
   "cell_type": "markdown",
   "id": "aa25ff5c",
   "metadata": {
    "deletable": false,
    "editable": false,
    "id": "1e8b2fca"
   },
   "source": [
    "#### 3.3 Есть ли зависимость между уровнем дохода и возвратом кредита в срок?"
   ]
  },
  {
   "cell_type": "code",
   "execution_count": 49,
   "id": "0034e9f5",
   "metadata": {
    "deletable": false,
    "id": "cd7e3720"
   },
   "outputs": [
    {
     "data": {
      "text/html": [
       "<div>\n",
       "<style scoped>\n",
       "    .dataframe tbody tr th:only-of-type {\n",
       "        vertical-align: middle;\n",
       "    }\n",
       "\n",
       "    .dataframe tbody tr th {\n",
       "        vertical-align: top;\n",
       "    }\n",
       "\n",
       "    .dataframe thead tr th {\n",
       "        text-align: left;\n",
       "    }\n",
       "\n",
       "    .dataframe thead tr:last-of-type th {\n",
       "        text-align: right;\n",
       "    }\n",
       "</style>\n",
       "<table border=\"1\" class=\"dataframe\">\n",
       "  <thead>\n",
       "    <tr>\n",
       "      <th></th>\n",
       "      <th colspan=\"3\" halign=\"left\">median</th>\n",
       "      <th colspan=\"3\" halign=\"left\">mean</th>\n",
       "    </tr>\n",
       "    <tr>\n",
       "      <th></th>\n",
       "      <th colspan=\"3\" halign=\"left\">total_income</th>\n",
       "      <th colspan=\"3\" halign=\"left\">total_income</th>\n",
       "    </tr>\n",
       "    <tr>\n",
       "      <th>debt</th>\n",
       "      <th>0</th>\n",
       "      <th>1</th>\n",
       "      <th>Всего</th>\n",
       "      <th>0</th>\n",
       "      <th>1</th>\n",
       "      <th>Всего</th>\n",
       "    </tr>\n",
       "    <tr>\n",
       "      <th>total_income_category</th>\n",
       "      <th></th>\n",
       "      <th></th>\n",
       "      <th></th>\n",
       "      <th></th>\n",
       "      <th></th>\n",
       "      <th></th>\n",
       "    </tr>\n",
       "  </thead>\n",
       "  <tbody>\n",
       "    <tr>\n",
       "      <th>A</th>\n",
       "      <td>1223042.0</td>\n",
       "      <td>1615875.5</td>\n",
       "      <td>1223042</td>\n",
       "      <td>1.315052e+06</td>\n",
       "      <td>1.615876e+06</td>\n",
       "      <td>1.339118e+06</td>\n",
       "    </tr>\n",
       "    <tr>\n",
       "      <th>B</th>\n",
       "      <td>257750.0</td>\n",
       "      <td>256726.5</td>\n",
       "      <td>257558</td>\n",
       "      <td>2.869091e+05</td>\n",
       "      <td>2.831361e+05</td>\n",
       "      <td>2.866428e+05</td>\n",
       "    </tr>\n",
       "    <tr>\n",
       "      <th>C</th>\n",
       "      <td>130234.5</td>\n",
       "      <td>132103.0</td>\n",
       "      <td>130355</td>\n",
       "      <td>1.280869e+05</td>\n",
       "      <td>1.291235e+05</td>\n",
       "      <td>1.281750e+05</td>\n",
       "    </tr>\n",
       "    <tr>\n",
       "      <th>D</th>\n",
       "      <td>43948.0</td>\n",
       "      <td>43410.0</td>\n",
       "      <td>43929</td>\n",
       "      <td>4.292488e+04</td>\n",
       "      <td>4.285100e+04</td>\n",
       "      <td>4.292044e+04</td>\n",
       "    </tr>\n",
       "    <tr>\n",
       "      <th>E</th>\n",
       "      <td>26431.0</td>\n",
       "      <td>24910.5</td>\n",
       "      <td>26431</td>\n",
       "      <td>2.588325e+04</td>\n",
       "      <td>2.491050e+04</td>\n",
       "      <td>2.579482e+04</td>\n",
       "    </tr>\n",
       "    <tr>\n",
       "      <th>Всего</th>\n",
       "      <td>142594.0</td>\n",
       "      <td>142594.0</td>\n",
       "      <td>142594</td>\n",
       "      <td>1.657131e+05</td>\n",
       "      <td>1.611523e+05</td>\n",
       "      <td>1.653427e+05</td>\n",
       "    </tr>\n",
       "  </tbody>\n",
       "</table>\n",
       "</div>"
      ],
      "text/plain": [
       "                            median                              mean  \\\n",
       "                      total_income                      total_income   \n",
       "debt                             0          1    Всего             0   \n",
       "total_income_category                                                  \n",
       "A                        1223042.0  1615875.5  1223042  1.315052e+06   \n",
       "B                         257750.0   256726.5   257558  2.869091e+05   \n",
       "C                         130234.5   132103.0   130355  1.280869e+05   \n",
       "D                          43948.0    43410.0    43929  4.292488e+04   \n",
       "E                          26431.0    24910.5    26431  2.588325e+04   \n",
       "Всего                     142594.0   142594.0   142594  1.657131e+05   \n",
       "\n",
       "                                                   \n",
       "                                                   \n",
       "debt                              1         Всего  \n",
       "total_income_category                              \n",
       "A                      1.615876e+06  1.339118e+06  \n",
       "B                      2.831361e+05  2.866428e+05  \n",
       "C                      1.291235e+05  1.281750e+05  \n",
       "D                      4.285100e+04  4.292044e+04  \n",
       "E                      2.491050e+04  2.579482e+04  \n",
       "Всего                  1.611523e+05  1.653427e+05  "
      ]
     },
     "execution_count": 49,
     "metadata": {},
     "output_type": "execute_result"
    }
   ],
   "source": [
    "grupped_by_total_income = pd.pivot_table(data=data, index=['total_income_category'],\\\n",
    "                                         columns=['debt'], values=['total_income'], aggfunc=['median', 'mean'],\\\n",
    "                                         margins=True, margins_name='Всего')\n",
    "grupped_by_total_income"
   ]
  },
  {
   "cell_type": "markdown",
   "id": "88b4d22e",
   "metadata": {},
   "source": [
    "Как видно из таблицы, банк разделил клиентов на пять категорий по возрастанию их ежемесячных доходов."
   ]
  },
  {
   "cell_type": "code",
   "execution_count": 50,
   "id": "64814464",
   "metadata": {},
   "outputs": [],
   "source": [
    "# Определим количество клиентов по каждой категории и сгруппируем на payers, debtors и clients\n",
    "grupped_by_total_income_one = pd.pivot_table(data=data, index=['total_income_category'],\\\n",
    "                                         columns=['debt'], values=['total_income'], aggfunc=['count'],\\\n",
    "                                         margins=True, margins_name='Всего')"
   ]
  },
  {
   "cell_type": "code",
   "execution_count": 51,
   "id": "94d6429e",
   "metadata": {},
   "outputs": [],
   "source": [
    "# Вычислим долю должников по каждой категории\n",
    "grupped_by_total_income_two = pd.pivot_table(data=data, index=['total_income_category'],\\\n",
    "                                         values='debt', aggfunc=['mean'],\\\n",
    "                                         margins=True, margins_name='Всего')"
   ]
  },
  {
   "cell_type": "markdown",
   "id": "0d7fc0aa",
   "metadata": {},
   "source": [
    "<div class=\"alert alert-info\">\n",
    "<b>Комментарий студента:</b>\n",
    "<br>Не понимаю, почему у меня не сбросился индекс при преобразовании pivot в датафрейм. В предыдущем разделе (family_status) он преобразовался в колонку, а в этом почему-то не желает.\n",
    "</div>"
   ]
  },
  {
   "cell_type": "markdown",
   "id": "a5e2e5ff",
   "metadata": {},
   "source": [
    "<div class=\"alert alert-warning\">\n",
    "<h2> Комментарий ревьюера  #2 <a class=\"tocSkip\"> </h2>\n",
    "    \n",
    "<b>Некоторые замечания и рекомендации💡:</b> \n",
    "\n",
    "Возможно, не понимаю тебя, что ты имеешь ввиду. Если смущает, что индекс находится на не одной высоте с колонками, то это нормально при именованном индексе.\n",
    "    \n",
    "Ниже с индексом все ок в таблице.\n",
    "       \n",
    "</div>"
   ]
  },
  {
   "cell_type": "code",
   "execution_count": 52,
   "id": "67a0ee9a",
   "metadata": {},
   "outputs": [
    {
     "name": "stderr",
     "output_type": "stream",
     "text": [
      "/opt/conda/lib/python3.9/site-packages/pandas/core/reshape/merge.py:648: UserWarning: merging between different levels can give an unintended result (3 levels on the left,2 on the right)\n",
      "  warnings.warn(msg, UserWarning)\n"
     ]
    }
   ],
   "source": [
    "table_for_ti_category = pd.merge(grupped_by_total_income_one, grupped_by_total_income_two,\\\n",
    "                                left_index=True, right_index=True)"
   ]
  },
  {
   "cell_type": "code",
   "execution_count": 53,
   "id": "ad2140d1",
   "metadata": {},
   "outputs": [
    {
     "data": {
      "text/html": [
       "<div>\n",
       "<style scoped>\n",
       "    .dataframe tbody tr th:only-of-type {\n",
       "        vertical-align: middle;\n",
       "    }\n",
       "\n",
       "    .dataframe tbody tr th {\n",
       "        vertical-align: top;\n",
       "    }\n",
       "\n",
       "    .dataframe thead th {\n",
       "        text-align: right;\n",
       "    }\n",
       "</style>\n",
       "<table border=\"1\" class=\"dataframe\">\n",
       "  <thead>\n",
       "    <tr style=\"text-align: right;\">\n",
       "      <th></th>\n",
       "      <th>payers</th>\n",
       "      <th>debtors</th>\n",
       "      <th>clients</th>\n",
       "      <th>mean</th>\n",
       "    </tr>\n",
       "    <tr>\n",
       "      <th>total_income_category</th>\n",
       "      <th></th>\n",
       "      <th></th>\n",
       "      <th></th>\n",
       "      <th></th>\n",
       "    </tr>\n",
       "  </thead>\n",
       "  <tbody>\n",
       "    <tr>\n",
       "      <th>A</th>\n",
       "      <td>23</td>\n",
       "      <td>2</td>\n",
       "      <td>25</td>\n",
       "      <td>0.080000</td>\n",
       "    </tr>\n",
       "    <tr>\n",
       "      <th>B</th>\n",
       "      <td>4660</td>\n",
       "      <td>354</td>\n",
       "      <td>5014</td>\n",
       "      <td>0.070602</td>\n",
       "    </tr>\n",
       "    <tr>\n",
       "      <th>C</th>\n",
       "      <td>14568</td>\n",
       "      <td>1353</td>\n",
       "      <td>15921</td>\n",
       "      <td>0.084982</td>\n",
       "    </tr>\n",
       "    <tr>\n",
       "      <th>D</th>\n",
       "      <td>328</td>\n",
       "      <td>21</td>\n",
       "      <td>349</td>\n",
       "      <td>0.060172</td>\n",
       "    </tr>\n",
       "    <tr>\n",
       "      <th>E</th>\n",
       "      <td>20</td>\n",
       "      <td>2</td>\n",
       "      <td>22</td>\n",
       "      <td>0.090909</td>\n",
       "    </tr>\n",
       "    <tr>\n",
       "      <th>Всего</th>\n",
       "      <td>19599</td>\n",
       "      <td>1732</td>\n",
       "      <td>21331</td>\n",
       "      <td>0.081196</td>\n",
       "    </tr>\n",
       "  </tbody>\n",
       "</table>\n",
       "</div>"
      ],
      "text/plain": [
       "                       payers  debtors  clients      mean\n",
       "total_income_category                                    \n",
       "A                          23        2       25  0.080000\n",
       "B                        4660      354     5014  0.070602\n",
       "C                       14568     1353    15921  0.084982\n",
       "D                         328       21      349  0.060172\n",
       "E                          20        2       22  0.090909\n",
       "Всего                   19599     1732    21331  0.081196"
      ]
     },
     "execution_count": 53,
     "metadata": {},
     "output_type": "execute_result"
    }
   ],
   "source": [
    "table_for_ti_category.reset_index()\n",
    "table_for_ti_category.columns = ['payers', 'debtors', 'clients', 'mean']\n",
    "table_for_ti_category"
   ]
  },
  {
   "cell_type": "code",
   "execution_count": 54,
   "id": "b33fde0e",
   "metadata": {},
   "outputs": [
    {
     "data": {
      "image/png": "[encoded data removed]",
      "text/plain": [
       "<Figure size 1296x720 with 1 Axes>"
      ]
     },
     "metadata": {},
     "output_type": "display_data"
    }
   ],
   "source": [
    "sns.barplot(data=table_for_ti_category, x=['A', 'B', 'C', 'D', 'E', 'Всего'], y='mean')\n",
    "plt.title(r'Сравнение долей debtors по доходу', fontsize=18)\n",
    "plt.xlabel('Группы клиентов', fontsize=14)\n",
    "plt.ylabel(r'Доля debtors в группе', fontsize=14)\n",
    "sns.set(rc={'figure.figsize':(12, 6)});"
   ]
  },
  {
   "cell_type": "markdown",
   "id": "cd527e93",
   "metadata": {
    "deletable": false,
    "id": "e8593def"
   },
   "source": [
    "**Вывод:** Самой рисковой категорией, клиенты которой часто допускают задержки по выплатам, оказалась средняя по доходам категория \"С\" (8,5% должников). В категориях \"B\" и \"D\" должников меньше, их доли 7,06% и 6,02% соответственно. Также высокий процент неисправных клиентов в категориях с самым низким и самым высоким уровнем доходов \"A\" и \"E\" (8% и 9,09% должников), но необходимо учитывать тот факт, что количество клиентов этих категорий очень мало и может оказаться недостоверным."
   ]
  },
  {
   "cell_type": "markdown",
   "id": "25ad661e",
   "metadata": {},
   "source": [
    "<div class=\"alert alert-block alert-danger\">\n",
    "<h2><s> Комментарий ревьюера <a class=\"tocSkip\"></h2>\n",
    "  \n",
    "<b>На доработку🤔:</b>\n",
    "\n",
    "Неплохо, что провели дополнительное исследование и проверили гипотезу. \n",
    "    \n",
    "Я бы придерживался авторской категоризации по доходам, так как, условно говоря, ее предоставил заказчик. Банк привык так делить клиентов и будет удивлен внезапным изменениям. \n",
    "    \n",
    "Кроме того, не всегда взаимосвязь выражается как четкая, линейная и динамичная от категории к категории. Иногда она выражается как выключатель − в зависимости от порогового значения. Например, когда клиенту трудно отдавать долг, если зарплата слишком низкая. Тогда задача аналитика − найти это пороговое значение.\n",
    "    \n",
    "В нашем случае, как мне кажется, есть одна категория, принадлежность к которой повышает вероятность невозврата кредита.\n",
    "       \n",
    "</div>\n"
   ]
  },
  {
   "cell_type": "markdown",
   "id": "0763045c",
   "metadata": {
    "deletable": false,
    "editable": false,
    "id": "99ecbd1f"
   },
   "source": [
    "#### 3.4 Как разные цели кредита влияют на его возврат в срок?"
   ]
  },
  {
   "cell_type": "code",
   "execution_count": 55,
   "id": "1ab2f2e5",
   "metadata": {
    "deletable": false,
    "id": "2b687290"
   },
   "outputs": [
    {
     "data": {
      "text/html": [
       "<div>\n",
       "<style scoped>\n",
       "    .dataframe tbody tr th:only-of-type {\n",
       "        vertical-align: middle;\n",
       "    }\n",
       "\n",
       "    .dataframe tbody tr th {\n",
       "        vertical-align: top;\n",
       "    }\n",
       "\n",
       "    .dataframe thead th {\n",
       "        text-align: right;\n",
       "    }\n",
       "</style>\n",
       "<table border=\"1\" class=\"dataframe\">\n",
       "  <thead>\n",
       "    <tr style=\"text-align: right;\">\n",
       "      <th></th>\n",
       "      <th>children</th>\n",
       "      <th>days_employed</th>\n",
       "      <th>dob_years</th>\n",
       "      <th>education</th>\n",
       "      <th>education_id</th>\n",
       "      <th>family_status</th>\n",
       "      <th>family_status_id</th>\n",
       "      <th>gender</th>\n",
       "      <th>income_type</th>\n",
       "      <th>debt</th>\n",
       "      <th>total_income</th>\n",
       "      <th>purpose</th>\n",
       "      <th>total_income_category</th>\n",
       "      <th>purpose_category</th>\n",
       "    </tr>\n",
       "  </thead>\n",
       "  <tbody>\n",
       "    <tr>\n",
       "      <th>0</th>\n",
       "      <td>1</td>\n",
       "      <td>8437.673028</td>\n",
       "      <td>42</td>\n",
       "      <td>высшее</td>\n",
       "      <td>0</td>\n",
       "      <td>женат / замужем</td>\n",
       "      <td>0</td>\n",
       "      <td>F</td>\n",
       "      <td>сотрудник</td>\n",
       "      <td>0</td>\n",
       "      <td>253875</td>\n",
       "      <td>покупка жилья</td>\n",
       "      <td>B</td>\n",
       "      <td>операции с недвижимостью</td>\n",
       "    </tr>\n",
       "    <tr>\n",
       "      <th>1</th>\n",
       "      <td>1</td>\n",
       "      <td>4024.803754</td>\n",
       "      <td>36</td>\n",
       "      <td>среднее</td>\n",
       "      <td>1</td>\n",
       "      <td>женат / замужем</td>\n",
       "      <td>0</td>\n",
       "      <td>F</td>\n",
       "      <td>сотрудник</td>\n",
       "      <td>0</td>\n",
       "      <td>112080</td>\n",
       "      <td>приобретение автомобиля</td>\n",
       "      <td>C</td>\n",
       "      <td>операции с автомобилем</td>\n",
       "    </tr>\n",
       "    <tr>\n",
       "      <th>2</th>\n",
       "      <td>0</td>\n",
       "      <td>5623.422610</td>\n",
       "      <td>33</td>\n",
       "      <td>среднее</td>\n",
       "      <td>1</td>\n",
       "      <td>женат / замужем</td>\n",
       "      <td>0</td>\n",
       "      <td>M</td>\n",
       "      <td>сотрудник</td>\n",
       "      <td>0</td>\n",
       "      <td>145885</td>\n",
       "      <td>покупка жилья</td>\n",
       "      <td>C</td>\n",
       "      <td>операции с недвижимостью</td>\n",
       "    </tr>\n",
       "    <tr>\n",
       "      <th>3</th>\n",
       "      <td>3</td>\n",
       "      <td>4124.747207</td>\n",
       "      <td>32</td>\n",
       "      <td>среднее</td>\n",
       "      <td>1</td>\n",
       "      <td>женат / замужем</td>\n",
       "      <td>0</td>\n",
       "      <td>M</td>\n",
       "      <td>сотрудник</td>\n",
       "      <td>0</td>\n",
       "      <td>267628</td>\n",
       "      <td>дополнительное образование</td>\n",
       "      <td>B</td>\n",
       "      <td>получение образования</td>\n",
       "    </tr>\n",
       "    <tr>\n",
       "      <th>4</th>\n",
       "      <td>0</td>\n",
       "      <td>340266.072047</td>\n",
       "      <td>53</td>\n",
       "      <td>среднее</td>\n",
       "      <td>1</td>\n",
       "      <td>гражданский брак</td>\n",
       "      <td>1</td>\n",
       "      <td>F</td>\n",
       "      <td>пенсионер</td>\n",
       "      <td>0</td>\n",
       "      <td>158616</td>\n",
       "      <td>сыграть свадьбу</td>\n",
       "      <td>C</td>\n",
       "      <td>проведение свадьбы</td>\n",
       "    </tr>\n",
       "  </tbody>\n",
       "</table>\n",
       "</div>"
      ],
      "text/plain": [
       "   children  days_employed  dob_years education  education_id  \\\n",
       "0         1    8437.673028         42    высшее             0   \n",
       "1         1    4024.803754         36   среднее             1   \n",
       "2         0    5623.422610         33   среднее             1   \n",
       "3         3    4124.747207         32   среднее             1   \n",
       "4         0  340266.072047         53   среднее             1   \n",
       "\n",
       "      family_status  family_status_id gender income_type  debt  total_income  \\\n",
       "0   женат / замужем                 0      F   сотрудник     0        253875   \n",
       "1   женат / замужем                 0      F   сотрудник     0        112080   \n",
       "2   женат / замужем                 0      M   сотрудник     0        145885   \n",
       "3   женат / замужем                 0      M   сотрудник     0        267628   \n",
       "4  гражданский брак                 1      F   пенсионер     0        158616   \n",
       "\n",
       "                      purpose total_income_category          purpose_category  \n",
       "0               покупка жилья                     B  операции с недвижимостью  \n",
       "1     приобретение автомобиля                     C    операции с автомобилем  \n",
       "2               покупка жилья                     C  операции с недвижимостью  \n",
       "3  дополнительное образование                     B     получение образования  \n",
       "4             сыграть свадьбу                     C        проведение свадьбы  "
      ]
     },
     "execution_count": 55,
     "metadata": {},
     "output_type": "execute_result"
    }
   ],
   "source": [
    "data.head()"
   ]
  },
  {
   "cell_type": "code",
   "execution_count": 56,
   "id": "19c3c541",
   "metadata": {},
   "outputs": [],
   "source": [
    "# Вычислим долю должников по каждой категории\n",
    "grupped_by_purpose_category_one = pd.pivot_table(data=data, index=['purpose_category'],\\\n",
    "                                         values='debt', aggfunc=['mean'],\\\n",
    "                                         margins=True, margins_name='Всего')"
   ]
  },
  {
   "cell_type": "code",
   "execution_count": 57,
   "id": "1d3d4f2b",
   "metadata": {},
   "outputs": [],
   "source": [
    "# Определим количество должников по каждой категории\n",
    "grupped_by_purpose_category_two = pd.pivot_table(data=data, index=['purpose_category'],\\\n",
    "                                         columns=['debt'], values='purpose', aggfunc=['count'],\\\n",
    "                                         margins=True, margins_name='Всего')"
   ]
  },
  {
   "cell_type": "code",
   "execution_count": 58,
   "id": "11064bf9",
   "metadata": {},
   "outputs": [],
   "source": [
    "table_for_purpose_category = pd.merge(grupped_by_purpose_category_two, grupped_by_purpose_category_one,\\\n",
    "                                left_index=True, right_index=True)"
   ]
  },
  {
   "cell_type": "code",
   "execution_count": 59,
   "id": "c59a66eb",
   "metadata": {},
   "outputs": [
    {
     "data": {
      "text/html": [
       "<div>\n",
       "<style scoped>\n",
       "    .dataframe tbody tr th:only-of-type {\n",
       "        vertical-align: middle;\n",
       "    }\n",
       "\n",
       "    .dataframe tbody tr th {\n",
       "        vertical-align: top;\n",
       "    }\n",
       "\n",
       "    .dataframe thead th {\n",
       "        text-align: right;\n",
       "    }\n",
       "</style>\n",
       "<table border=\"1\" class=\"dataframe\">\n",
       "  <thead>\n",
       "    <tr style=\"text-align: right;\">\n",
       "      <th></th>\n",
       "      <th>payers</th>\n",
       "      <th>debtors</th>\n",
       "      <th>clients</th>\n",
       "      <th>mean</th>\n",
       "    </tr>\n",
       "    <tr>\n",
       "      <th>purpose_category</th>\n",
       "      <th></th>\n",
       "      <th></th>\n",
       "      <th></th>\n",
       "      <th></th>\n",
       "    </tr>\n",
       "  </thead>\n",
       "  <tbody>\n",
       "    <tr>\n",
       "      <th>операции с автомобилем</th>\n",
       "      <td>3879</td>\n",
       "      <td>400</td>\n",
       "      <td>4279</td>\n",
       "      <td>0.093480</td>\n",
       "    </tr>\n",
       "    <tr>\n",
       "      <th>операции с недвижимостью</th>\n",
       "      <td>9971</td>\n",
       "      <td>780</td>\n",
       "      <td>10751</td>\n",
       "      <td>0.072551</td>\n",
       "    </tr>\n",
       "    <tr>\n",
       "      <th>получение образования</th>\n",
       "      <td>3619</td>\n",
       "      <td>369</td>\n",
       "      <td>3988</td>\n",
       "      <td>0.092528</td>\n",
       "    </tr>\n",
       "    <tr>\n",
       "      <th>проведение свадьбы</th>\n",
       "      <td>2130</td>\n",
       "      <td>183</td>\n",
       "      <td>2313</td>\n",
       "      <td>0.079118</td>\n",
       "    </tr>\n",
       "    <tr>\n",
       "      <th>Всего</th>\n",
       "      <td>19599</td>\n",
       "      <td>1732</td>\n",
       "      <td>21331</td>\n",
       "      <td>0.081196</td>\n",
       "    </tr>\n",
       "  </tbody>\n",
       "</table>\n",
       "</div>"
      ],
      "text/plain": [
       "                          payers  debtors  clients      mean\n",
       "purpose_category                                            \n",
       "операции с автомобилем      3879      400     4279  0.093480\n",
       "операции с недвижимостью    9971      780    10751  0.072551\n",
       "получение образования       3619      369     3988  0.092528\n",
       "проведение свадьбы          2130      183     2313  0.079118\n",
       "Всего                      19599     1732    21331  0.081196"
      ]
     },
     "execution_count": 59,
     "metadata": {},
     "output_type": "execute_result"
    }
   ],
   "source": [
    "table_for_purpose_category.reset_index()\n",
    "table_for_purpose_category.columns = ['payers', 'debtors', 'clients', 'mean']\n",
    "table_for_purpose_category"
   ]
  },
  {
   "cell_type": "code",
   "execution_count": 60,
   "id": "0b12de2b",
   "metadata": {},
   "outputs": [
    {
     "data": {
      "image/png": "[encoded data removed]",
      "text/plain": [
       "<Figure size 864x432 with 1 Axes>"
      ]
     },
     "metadata": {},
     "output_type": "display_data"
    }
   ],
   "source": [
    "sns.barplot(data=table_for_purpose_category, x=['авто', 'недвижимость',\\\n",
    "                                                'образование', 'свадьба',\\\n",
    "                                                'Всего'], y='mean')\n",
    "plt.title(r'Сравнение долей debtors по доходу', fontsize=18)\n",
    "plt.xlabel('Группы клиентов', fontsize=14)\n",
    "plt.ylabel(r'Доля debtors в группе', fontsize=14)\n",
    "sns.set(rc={'figure.figsize':(18, 6)});"
   ]
  },
  {
   "cell_type": "markdown",
   "id": "eb6ccb05",
   "metadata": {
    "deletable": false,
    "id": "b4bb2ce6"
   },
   "source": [
    "**Вывод:**  Меньше всего клиентов, допускающих задержки по выплатам, среди тех, кто берёт кредит на операции с недвижимостью и проведение свадьбы, больше всего среди тех, кто берёт кредит на операции с автомобилем или получение образования."
   ]
  },
  {
   "cell_type": "markdown",
   "id": "0d2df0bc",
   "metadata": {},
   "source": [
    "<div class=\"alert alert-success\">\n",
    "<h2> Комментарий ревьюера <a class=\"tocSkip\"> </h2>\n",
    "\n",
    "👍 Согласен\n",
    "</div>\n"
   ]
  },
  {
   "cell_type": "markdown",
   "id": "6a7d0e92",
   "metadata": {
    "deletable": false,
    "editable": false,
    "id": "09c3ac4c"
   },
   "source": [
    "#### 3.5 Приведите возможные причины появления пропусков в исходных данных."
   ]
  },
  {
   "cell_type": "markdown",
   "id": "d6f0bc31",
   "metadata": {
    "deletable": false,
    "id": "9da2ceda"
   },
   "source": [
    "*Ответ:* Причинами могут быть ошибки ввода данных или сокрытие информации."
   ]
  },
  {
   "cell_type": "markdown",
   "id": "59a95832",
   "metadata": {},
   "source": [
    "<div class=\"alert alert-success\">\n",
    "<h2> Комментарий ревьюера <a class=\"tocSkip\"> </h2>\n",
    "\n",
    "👍 Ты указываешь наиболее вероятные гипотезы. Здесь можно также упомянуть две группы причин: технические и человеческий фактор. Я думаю, еще есть вариант, что заемщики не смогли документально подтвердить информацию о доходе и стаже.\n",
    "</div>\n"
   ]
  },
  {
   "cell_type": "markdown",
   "id": "bdcfc123",
   "metadata": {
    "deletable": false,
    "editable": false,
    "id": "7b0487d6"
   },
   "source": [
    "#### 3.6 Объясните, почему заполнить пропуски медианным значением — лучшее решение для количественных переменных."
   ]
  },
  {
   "cell_type": "markdown",
   "id": "68e24b2b",
   "metadata": {
    "deletable": false,
    "id": "7ecf2b8e"
   },
   "source": [
    "*Ответ:* Медиана является альтернативой среднему арифметическому, т.к. игнорирует аномально высокие или аномально низкие значения исследуемых величин."
   ]
  },
  {
   "cell_type": "markdown",
   "id": "9791cbb5",
   "metadata": {},
   "source": [
    "<div class=\"alert alert-success\">\n",
    "<h2> Комментарий ревьюера <a class=\"tocSkip\"> </h2>\n",
    "\n",
    "👍 Абсолютно верно. Медиана  не чувствительна к выбросам, которые смещают среднее относительно медианы. Медиана же продолжает показывать область наибольшей плотности значений. Именно значения медианы будут вероятнее всего ближе к ожидаемым значениям в пропусках.\n",
    "</div>\n",
    "\n"
   ]
  },
  {
   "cell_type": "markdown",
   "id": "39bccae0",
   "metadata": {
    "deletable": false,
    "editable": false,
    "id": "6db5255a"
   },
   "source": [
    "### Шаг 4: общий вывод."
   ]
  },
  {
   "cell_type": "markdown",
   "id": "1476496a",
   "metadata": {
    "deletable": false,
    "id": "bad65432"
   },
   "source": [
    "В результате исследования предоставленной базы данных сделаны следующие выводы:\n",
    "1) Наиболее рисковыми группами клиентов являются клиенты с детьми (9,24% должников от общего числа клиентов), не имеющие штампа в паспорте (не женатые/не замужние 9,76% и находящиеся в гражданском браке 9,31% должников от общего числа клиентов), клиенты со средним доходом, соответствующим категории \"С\" по классификации банка (9,25% должников от общего числа клиентов), а также клиенты, целью кредита которых являются операции с автотранспортным средством или получение образования (9,34% и 9,25% должников от общего числа клиентов).\n",
    "2) Наиболее исправными являются клиенты без детей (7,54% должников от общего числа клиентов), разведенные и семейные (7,06% и 7,56%  должников от общего числа клиентов), клиенты с доходом выше среднего, принадлежащие к категории \"D\" по банковской классификации (6,01% должников от общего числа клиентов), а также клиенты с кредитами для операций с недвижимостью (7,25% должников от общего числа клиентов).\n",
    "3) Следует учесть, что для более точного исследования процентных долей должников по категориям количества детей и ежемесячных доходов в их крайних группах, необходимо большее количество данных.\n",
    "4) Для более гибкого анализа категорий клиентов, с целью определения доли должников, возможно провести исследование совокупности категорий наличия детей и дохода, образования клиентов, дохода и возраста клиентов и т.д."
   ]
  },
  {
   "cell_type": "markdown",
   "id": "71f64be1",
   "metadata": {},
   "source": [
    "<div class=\"alert alert-block alert-danger\">\n",
    "<h2><s> Комментарий ревьюера <a class=\"tocSkip\"></h2>\n",
    "  \n",
    "<b>На доработку🤔:</b>\n",
    "\n",
    "\n",
    "У каждого учебного проекта есть предполагаемый заказчик, который (как и реальный заказчик) начинает чтение проекта с выводов. **Необходимо кратко пересказать самые важные выводы из подпунктов работы.** Вывод должен быть самостоятельной смысловой единицей.   \n",
    "\n",
    "В идеале здесь же можно намекнуть заказчику, что это MVP (минимально жизнеспособный продукт), а если бы мы начали широкое исследование, то дальше сделали бы то-то и то-то: например, посмотрели бы, как влияет сочетание двух факторов (например, доходов и количества детей одновременно). Понятно, что увеличивать проект не стоит, но всегда круто, когда предлагаешь идеи для дальнейшего исследования.\n",
    "\n",
    "       \n",
    "</div>"
   ]
  },
  {
   "cell_type": "markdown",
   "id": "5962138b",
   "metadata": {},
   "source": [
    "<div style=\"border:solid Chocolate 2px; padding: 40px\">\n",
    "\n",
    "**Общий вывод по проверке**\n",
    "\n",
    "У тебя получился хороший проект, много верных ответов.\n",
    "    \n",
    "Необходимо вывести в одной таблице всю интересующую нас информацию. Местами уточнить выводы, а также вынести в общий вывод конкретику по повышенным рискам для заказчика.\n",
    "  \n",
    "\n",
    "**Желаю удачи и жду твой проект на повторное ревью!**😉\n",
    "\n",
    "</div>\n",
    "\n"
   ]
  },
  {
   "cell_type": "markdown",
   "id": "47aad4ac",
   "metadata": {},
   "source": [
    "<div class=\"alert alert-info\">\n",
    "<b>Комментарий студента:</b>\n",
    "<br>Привет, Кирилл! Спасибо за науку.\n",
    "</div>"
   ]
  },
  {
   "cell_type": "markdown",
   "id": "95702c35",
   "metadata": {},
   "source": [
    "<div class=\"alert alert-success\">\n",
    "<h2> Комментарий ревьюера #2 <a class=\"tocSkip\"> </h2>\n",
    "\n",
    "👍 Даниил, привет еще раз! \n",
    "    \n",
    "Смотри, по проекту у меня замечаний нет, могу принять сейчас. Я не совсем понял про индексы, возможно, конкретизируешь, попробую ответить.\n",
    "    \n",
    "По таблицам у тебя получилось интересно, но можно несколько проще, оставлю вариант ниже. Там как раз есть решение по переименованию индексов. Если по нему будут вопросы, также смело задавай.\n",
    "</div>\n"
   ]
  },
  {
   "cell_type": "code",
   "execution_count": 61,
   "id": "cbd215d3",
   "metadata": {},
   "outputs": [
    {
     "data": {
      "text/html": [
       "<div>\n",
       "<style scoped>\n",
       "    .dataframe tbody tr th:only-of-type {\n",
       "        vertical-align: middle;\n",
       "    }\n",
       "\n",
       "    .dataframe tbody tr th {\n",
       "        vertical-align: top;\n",
       "    }\n",
       "\n",
       "    .dataframe thead th {\n",
       "        text-align: right;\n",
       "    }\n",
       "</style>\n",
       "<table border=\"1\" class=\"dataframe\">\n",
       "  <thead>\n",
       "    <tr style=\"text-align: right;\">\n",
       "      <th></th>\n",
       "      <th>Заемщиков</th>\n",
       "      <th>Просрочек</th>\n",
       "      <th>Доля просрочек, %</th>\n",
       "    </tr>\n",
       "    <tr>\n",
       "      <th>Детей</th>\n",
       "      <th></th>\n",
       "      <th></th>\n",
       "      <th></th>\n",
       "    </tr>\n",
       "  </thead>\n",
       "  <tbody>\n",
       "    <tr>\n",
       "      <th>0</th>\n",
       "      <td>14091</td>\n",
       "      <td>1063</td>\n",
       "      <td>7.54</td>\n",
       "    </tr>\n",
       "    <tr>\n",
       "      <th>1</th>\n",
       "      <td>4808</td>\n",
       "      <td>444</td>\n",
       "      <td>9.23</td>\n",
       "    </tr>\n",
       "    <tr>\n",
       "      <th>2</th>\n",
       "      <td>2052</td>\n",
       "      <td>194</td>\n",
       "      <td>9.45</td>\n",
       "    </tr>\n",
       "    <tr>\n",
       "      <th>3</th>\n",
       "      <td>330</td>\n",
       "      <td>27</td>\n",
       "      <td>8.18</td>\n",
       "    </tr>\n",
       "    <tr>\n",
       "      <th>4</th>\n",
       "      <td>41</td>\n",
       "      <td>4</td>\n",
       "      <td>9.76</td>\n",
       "    </tr>\n",
       "    <tr>\n",
       "      <th>5</th>\n",
       "      <td>9</td>\n",
       "      <td>0</td>\n",
       "      <td>0.00</td>\n",
       "    </tr>\n",
       "  </tbody>\n",
       "</table>\n",
       "</div>"
      ],
      "text/plain": [
       "       Заемщиков  Просрочек  Доля просрочек, %\n",
       "Детей                                         \n",
       "0          14091       1063               7.54\n",
       "1           4808        444               9.23\n",
       "2           2052        194               9.45\n",
       "3            330         27               8.18\n",
       "4             41          4               9.76\n",
       "5              9          0               0.00"
      ]
     },
     "execution_count": 61,
     "metadata": {},
     "output_type": "execute_result"
    }
   ],
   "source": [
    "#Сводной \n",
    "\n",
    "# код ревьюера\n",
    "children_pivot = data.pivot_table(index = ['children'], values = 'debt', aggfunc = ['count', 'sum', 'mean'])\n",
    "children_pivot.columns = ['Заемщиков', 'Просрочек', 'Доля просрочек, %']\n",
    "children_pivot.index.names = ['Детей']\n",
    "children_pivot['Доля просрочек, %'] = children_pivot['Доля просрочек, %'].round(4)*100\n",
    "children_pivot\n"
   ]
  },
  {
   "cell_type": "code",
   "execution_count": 62,
   "id": "24948042",
   "metadata": {},
   "outputs": [
    {
     "data": {
      "text/html": [
       "<div>\n",
       "<style scoped>\n",
       "    .dataframe tbody tr th:only-of-type {\n",
       "        vertical-align: middle;\n",
       "    }\n",
       "\n",
       "    .dataframe tbody tr th {\n",
       "        vertical-align: top;\n",
       "    }\n",
       "\n",
       "    .dataframe thead th {\n",
       "        text-align: right;\n",
       "    }\n",
       "</style>\n",
       "<table border=\"1\" class=\"dataframe\">\n",
       "  <thead>\n",
       "    <tr style=\"text-align: right;\">\n",
       "      <th></th>\n",
       "      <th>Заемщиков</th>\n",
       "      <th>Просрочек</th>\n",
       "      <th>Доля просрочек, %</th>\n",
       "    </tr>\n",
       "    <tr>\n",
       "      <th>Детей</th>\n",
       "      <th></th>\n",
       "      <th></th>\n",
       "      <th></th>\n",
       "    </tr>\n",
       "  </thead>\n",
       "  <tbody>\n",
       "    <tr>\n",
       "      <th>0</th>\n",
       "      <td>14091</td>\n",
       "      <td>1063</td>\n",
       "      <td>7.54</td>\n",
       "    </tr>\n",
       "    <tr>\n",
       "      <th>1</th>\n",
       "      <td>4808</td>\n",
       "      <td>444</td>\n",
       "      <td>9.23</td>\n",
       "    </tr>\n",
       "    <tr>\n",
       "      <th>2</th>\n",
       "      <td>2052</td>\n",
       "      <td>194</td>\n",
       "      <td>9.45</td>\n",
       "    </tr>\n",
       "    <tr>\n",
       "      <th>3</th>\n",
       "      <td>330</td>\n",
       "      <td>27</td>\n",
       "      <td>8.18</td>\n",
       "    </tr>\n",
       "    <tr>\n",
       "      <th>4</th>\n",
       "      <td>41</td>\n",
       "      <td>4</td>\n",
       "      <td>9.76</td>\n",
       "    </tr>\n",
       "    <tr>\n",
       "      <th>5</th>\n",
       "      <td>9</td>\n",
       "      <td>0</td>\n",
       "      <td>0.00</td>\n",
       "    </tr>\n",
       "  </tbody>\n",
       "</table>\n",
       "</div>"
      ],
      "text/plain": [
       "       Заемщиков  Просрочек  Доля просрочек, %\n",
       "Детей                                         \n",
       "0          14091       1063               7.54\n",
       "1           4808        444               9.23\n",
       "2           2052        194               9.45\n",
       "3            330         27               8.18\n",
       "4             41          4               9.76\n",
       "5              9          0               0.00"
      ]
     },
     "metadata": {},
     "output_type": "display_data"
    }
   ],
   "source": [
    "# Группировкой\n",
    "\n",
    "# код ревьюера\n",
    "data_children_group = data.groupby('children')['debt'].agg(['count','sum','mean'])\n",
    "data_children_group.columns = ['Заемщиков', 'Просрочек', 'Доля просрочек, %']\n",
    "data_children_group.index.names = ['Детей']\n",
    "data_children_group['Доля просрочек, %'] = data_children_group['Доля просрочек, %'].round(4)*100\n",
    "display(data_children_group) \n",
    "\n"
   ]
  },
  {
   "cell_type": "markdown",
   "id": "b9232d38",
   "metadata": {},
   "source": [
    "<div style=\"border:solid Chocolate 2px; padding: 40px\">\n",
    "\n",
    "**Комментарий ко второй проверке**\n",
    "\n",
    "Спасибо за доработку. Критичных комментариев нет. \n",
    "\n",
    "Отправлю на доработку, чтобы иметь возможность ответить на вопросы. Если вопросов нет, можешь просто еще раз переслать обратно.\n",
    "\n",
    "</div>\n"
   ]
  }
 ],
 "metadata": {
  "ExecuteTimeLog": [
   {
    "duration": 51,
    "start_time": "2023-01-05T10:48:15.421Z"
   },
   {
    "duration": 519,
    "start_time": "2023-01-05T10:48:31.385Z"
   },
   {
    "duration": 22,
    "start_time": "2023-01-05T10:48:31.907Z"
   },
   {
    "duration": 16,
    "start_time": "2023-01-05T10:48:31.931Z"
   },
   {
    "duration": 10,
    "start_time": "2023-01-05T10:48:31.949Z"
   },
   {
    "duration": 38,
    "start_time": "2023-01-05T10:48:31.961Z"
   },
   {
    "duration": 4,
    "start_time": "2023-01-05T10:48:32.001Z"
   },
   {
    "duration": 12,
    "start_time": "2023-01-05T10:48:32.007Z"
   },
   {
    "duration": 5,
    "start_time": "2023-01-05T10:48:32.020Z"
   },
   {
    "duration": 30,
    "start_time": "2023-01-05T10:48:32.027Z"
   },
   {
    "duration": 5,
    "start_time": "2023-01-05T10:48:32.062Z"
   },
   {
    "duration": 37,
    "start_time": "2023-01-05T10:48:32.069Z"
   },
   {
    "duration": 52,
    "start_time": "2023-01-05T10:48:32.108Z"
   },
   {
    "duration": 4,
    "start_time": "2023-01-05T10:48:32.161Z"
   },
   {
    "duration": 18,
    "start_time": "2023-01-05T10:48:32.167Z"
   },
   {
    "duration": 35,
    "start_time": "2023-01-05T10:48:32.187Z"
   },
   {
    "duration": 18,
    "start_time": "2023-01-05T10:48:32.224Z"
   },
   {
    "duration": 7,
    "start_time": "2023-01-05T10:48:32.244Z"
   },
   {
    "duration": 13,
    "start_time": "2023-01-05T10:48:32.253Z"
   },
   {
    "duration": 16,
    "start_time": "2023-01-05T10:48:32.268Z"
   },
   {
    "duration": 7,
    "start_time": "2023-01-05T10:48:32.286Z"
   },
   {
    "duration": 20,
    "start_time": "2023-01-05T10:48:32.295Z"
   },
   {
    "duration": 14,
    "start_time": "2023-01-05T10:48:32.316Z"
   },
   {
    "duration": 9,
    "start_time": "2023-01-05T10:48:32.331Z"
   },
   {
    "duration": 8,
    "start_time": "2023-01-05T10:48:32.342Z"
   },
   {
    "duration": 5,
    "start_time": "2023-01-05T10:48:32.352Z"
   },
   {
    "duration": 13,
    "start_time": "2023-01-05T10:49:04.542Z"
   },
   {
    "duration": 7,
    "start_time": "2023-01-05T10:52:55.977Z"
   },
   {
    "duration": 5,
    "start_time": "2023-01-05T10:54:16.711Z"
   },
   {
    "duration": 17,
    "start_time": "2023-01-05T10:58:52.846Z"
   },
   {
    "duration": 6,
    "start_time": "2023-01-05T11:00:28.269Z"
   },
   {
    "duration": 6,
    "start_time": "2023-01-05T11:00:47.936Z"
   },
   {
    "duration": 6,
    "start_time": "2023-01-05T11:01:46.490Z"
   },
   {
    "duration": 8,
    "start_time": "2023-01-05T11:01:49.665Z"
   },
   {
    "duration": 21,
    "start_time": "2023-01-05T11:06:55.597Z"
   },
   {
    "duration": 604,
    "start_time": "2023-01-05T11:08:15.752Z"
   },
   {
    "duration": 571,
    "start_time": "2023-01-05T11:09:18.940Z"
   },
   {
    "duration": 9,
    "start_time": "2023-01-05T11:09:39.597Z"
   },
   {
    "duration": 7,
    "start_time": "2023-01-05T11:10:14.495Z"
   },
   {
    "duration": 6,
    "start_time": "2023-01-05T11:22:51.269Z"
   },
   {
    "duration": 6,
    "start_time": "2023-01-05T11:25:26.197Z"
   },
   {
    "duration": 5,
    "start_time": "2023-01-05T11:28:15.092Z"
   },
   {
    "duration": 22,
    "start_time": "2023-01-05T12:56:44.967Z"
   },
   {
    "duration": 10,
    "start_time": "2023-01-05T12:57:10.449Z"
   },
   {
    "duration": 8,
    "start_time": "2023-01-05T12:59:55.877Z"
   },
   {
    "duration": 11,
    "start_time": "2023-01-05T13:00:05.580Z"
   },
   {
    "duration": 7,
    "start_time": "2023-01-05T13:01:36.971Z"
   },
   {
    "duration": 6,
    "start_time": "2023-01-05T13:03:38.493Z"
   },
   {
    "duration": 5,
    "start_time": "2023-01-05T13:05:30.156Z"
   },
   {
    "duration": 6,
    "start_time": "2023-01-05T13:28:08.373Z"
   },
   {
    "duration": 8,
    "start_time": "2023-01-05T13:29:08.686Z"
   },
   {
    "duration": 7,
    "start_time": "2023-01-05T13:31:31.438Z"
   },
   {
    "duration": 12,
    "start_time": "2023-01-05T13:33:19.495Z"
   },
   {
    "duration": 4,
    "start_time": "2023-01-05T13:33:43.450Z"
   },
   {
    "duration": 6,
    "start_time": "2023-01-05T13:34:03.739Z"
   },
   {
    "duration": 1362,
    "start_time": "2023-01-05T13:34:52.470Z"
   },
   {
    "duration": 846,
    "start_time": "2023-01-05T13:35:24.856Z"
   },
   {
    "duration": 854,
    "start_time": "2023-01-05T13:35:59.452Z"
   },
   {
    "duration": 534,
    "start_time": "2023-01-05T13:36:11.318Z"
   },
   {
    "duration": 25,
    "start_time": "2023-01-05T13:36:11.854Z"
   },
   {
    "duration": 20,
    "start_time": "2023-01-05T13:36:11.881Z"
   },
   {
    "duration": 10,
    "start_time": "2023-01-05T13:36:11.904Z"
   },
   {
    "duration": 58,
    "start_time": "2023-01-05T13:36:11.916Z"
   },
   {
    "duration": 4,
    "start_time": "2023-01-05T13:36:11.976Z"
   },
   {
    "duration": 16,
    "start_time": "2023-01-05T13:36:11.981Z"
   },
   {
    "duration": 20,
    "start_time": "2023-01-05T13:36:11.999Z"
   },
   {
    "duration": 11,
    "start_time": "2023-01-05T13:36:12.021Z"
   },
   {
    "duration": 22,
    "start_time": "2023-01-05T13:36:12.036Z"
   },
   {
    "duration": 44,
    "start_time": "2023-01-05T13:36:12.060Z"
   },
   {
    "duration": 11,
    "start_time": "2023-01-05T13:36:12.106Z"
   },
   {
    "duration": 13,
    "start_time": "2023-01-05T13:36:12.119Z"
   },
   {
    "duration": 30,
    "start_time": "2023-01-05T13:36:12.134Z"
   },
   {
    "duration": 51,
    "start_time": "2023-01-05T13:36:12.167Z"
   },
   {
    "duration": 26,
    "start_time": "2023-01-05T13:36:12.220Z"
   },
   {
    "duration": 4,
    "start_time": "2023-01-05T13:36:12.248Z"
   },
   {
    "duration": 18,
    "start_time": "2023-01-05T13:36:12.254Z"
   },
   {
    "duration": 12,
    "start_time": "2023-01-05T13:36:12.274Z"
   },
   {
    "duration": 5,
    "start_time": "2023-01-05T13:36:12.288Z"
   },
   {
    "duration": 16,
    "start_time": "2023-01-05T13:36:12.295Z"
   },
   {
    "duration": 10,
    "start_time": "2023-01-05T13:36:12.313Z"
   },
   {
    "duration": 6,
    "start_time": "2023-01-05T13:36:12.325Z"
   },
   {
    "duration": 7,
    "start_time": "2023-01-05T13:36:12.351Z"
   },
   {
    "duration": 6,
    "start_time": "2023-01-05T13:36:12.360Z"
   },
   {
    "duration": 962,
    "start_time": "2023-01-05T13:36:12.368Z"
   },
   {
    "duration": 0,
    "start_time": "2023-01-05T13:36:13.332Z"
   },
   {
    "duration": 0,
    "start_time": "2023-01-05T13:36:13.334Z"
   },
   {
    "duration": 0,
    "start_time": "2023-01-05T13:36:13.335Z"
   },
   {
    "duration": 0,
    "start_time": "2023-01-05T13:36:13.336Z"
   },
   {
    "duration": 0,
    "start_time": "2023-01-05T13:36:13.336Z"
   },
   {
    "duration": 0,
    "start_time": "2023-01-05T13:36:13.337Z"
   },
   {
    "duration": 0,
    "start_time": "2023-01-05T13:36:13.338Z"
   },
   {
    "duration": 0,
    "start_time": "2023-01-05T13:36:13.339Z"
   },
   {
    "duration": 0,
    "start_time": "2023-01-05T13:36:13.340Z"
   },
   {
    "duration": 0,
    "start_time": "2023-01-05T13:36:13.341Z"
   },
   {
    "duration": 6,
    "start_time": "2023-01-05T13:36:48.233Z"
   },
   {
    "duration": 18,
    "start_time": "2023-01-05T13:38:22.636Z"
   },
   {
    "duration": 10,
    "start_time": "2023-01-05T13:39:06.232Z"
   },
   {
    "duration": 566,
    "start_time": "2023-01-05T13:39:51.622Z"
   },
   {
    "duration": 11,
    "start_time": "2023-01-05T13:40:14.019Z"
   },
   {
    "duration": 19,
    "start_time": "2023-01-05T13:40:35.657Z"
   },
   {
    "duration": 17,
    "start_time": "2023-01-05T13:41:37.341Z"
   },
   {
    "duration": 10,
    "start_time": "2023-01-05T13:42:02.826Z"
   },
   {
    "duration": 11,
    "start_time": "2023-01-05T13:42:56.596Z"
   },
   {
    "duration": 10,
    "start_time": "2023-01-05T13:43:30.634Z"
   },
   {
    "duration": 8,
    "start_time": "2023-01-05T13:44:17.942Z"
   },
   {
    "duration": 8,
    "start_time": "2023-01-05T13:46:08.303Z"
   },
   {
    "duration": 8,
    "start_time": "2023-01-05T13:46:26.563Z"
   },
   {
    "duration": 9,
    "start_time": "2023-01-05T13:48:13.207Z"
   },
   {
    "duration": 8,
    "start_time": "2023-01-05T13:52:12.051Z"
   },
   {
    "duration": 9,
    "start_time": "2023-01-05T13:52:19.466Z"
   },
   {
    "duration": 5,
    "start_time": "2023-01-05T14:00:44.727Z"
   },
   {
    "duration": 6,
    "start_time": "2023-01-05T14:03:06.435Z"
   },
   {
    "duration": 9,
    "start_time": "2023-01-05T14:09:15.576Z"
   },
   {
    "duration": 9,
    "start_time": "2023-01-05T14:09:41.607Z"
   },
   {
    "duration": 11,
    "start_time": "2023-01-05T14:10:27.879Z"
   },
   {
    "duration": 864,
    "start_time": "2023-01-05T16:41:39.553Z"
   },
   {
    "duration": 5,
    "start_time": "2023-01-05T16:41:46.965Z"
   },
   {
    "duration": 6,
    "start_time": "2023-01-05T16:41:49.349Z"
   },
   {
    "duration": 6,
    "start_time": "2023-01-05T16:41:53.302Z"
   },
   {
    "duration": 5,
    "start_time": "2023-01-05T16:48:32.259Z"
   },
   {
    "duration": 4,
    "start_time": "2023-01-05T16:48:36.035Z"
   },
   {
    "duration": 6,
    "start_time": "2023-01-05T16:48:39.404Z"
   },
   {
    "duration": 994,
    "start_time": "2023-01-05T17:09:13.895Z"
   },
   {
    "duration": 48,
    "start_time": "2023-01-05T17:10:16.359Z"
   },
   {
    "duration": 3,
    "start_time": "2023-01-05T17:10:35.855Z"
   },
   {
    "duration": 108,
    "start_time": "2023-01-05T17:11:11.584Z"
   },
   {
    "duration": 3,
    "start_time": "2023-01-05T17:12:10.206Z"
   },
   {
    "duration": 21,
    "start_time": "2023-01-05T17:12:13.191Z"
   },
   {
    "duration": 2,
    "start_time": "2023-01-05T17:12:24.871Z"
   },
   {
    "duration": 103,
    "start_time": "2023-01-05T17:12:26.887Z"
   },
   {
    "duration": 8,
    "start_time": "2023-01-05T17:19:15.475Z"
   },
   {
    "duration": 3,
    "start_time": "2023-01-05T17:21:24.581Z"
   },
   {
    "duration": 5,
    "start_time": "2023-01-05T17:22:01.513Z"
   },
   {
    "duration": 22,
    "start_time": "2023-01-05T17:22:38.779Z"
   },
   {
    "duration": 10,
    "start_time": "2023-01-05T17:23:20.734Z"
   },
   {
    "duration": 3,
    "start_time": "2023-01-05T17:24:32.392Z"
   },
   {
    "duration": 4,
    "start_time": "2023-01-05T17:24:40.260Z"
   },
   {
    "duration": 17,
    "start_time": "2023-01-05T17:24:46.496Z"
   },
   {
    "duration": 4,
    "start_time": "2023-01-05T17:26:02.432Z"
   },
   {
    "duration": 3,
    "start_time": "2023-01-05T17:26:15.585Z"
   },
   {
    "duration": 16,
    "start_time": "2023-01-05T17:26:18.205Z"
   },
   {
    "duration": 3,
    "start_time": "2023-01-05T17:26:44.002Z"
   },
   {
    "duration": 3,
    "start_time": "2023-01-05T17:27:51.571Z"
   },
   {
    "duration": 129,
    "start_time": "2023-01-05T17:27:53.728Z"
   },
   {
    "duration": 3,
    "start_time": "2023-01-05T17:28:48.237Z"
   },
   {
    "duration": 17,
    "start_time": "2023-01-05T17:28:50.505Z"
   },
   {
    "duration": 16,
    "start_time": "2023-01-05T17:29:00.412Z"
   },
   {
    "duration": 2,
    "start_time": "2023-01-05T17:29:24.336Z"
   },
   {
    "duration": 18,
    "start_time": "2023-01-05T17:29:26.485Z"
   },
   {
    "duration": 16,
    "start_time": "2023-01-05T17:29:35.089Z"
   },
   {
    "duration": 3,
    "start_time": "2023-01-05T17:29:49.539Z"
   },
   {
    "duration": 110,
    "start_time": "2023-01-05T17:29:51.280Z"
   },
   {
    "duration": 3,
    "start_time": "2023-01-05T17:30:22.317Z"
   },
   {
    "duration": 17,
    "start_time": "2023-01-05T17:30:23.497Z"
   },
   {
    "duration": 3,
    "start_time": "2023-01-05T17:30:34.534Z"
   },
   {
    "duration": 110,
    "start_time": "2023-01-05T17:30:35.875Z"
   },
   {
    "duration": 11,
    "start_time": "2023-01-05T17:31:30.590Z"
   },
   {
    "duration": 5,
    "start_time": "2023-01-05T17:32:11.470Z"
   },
   {
    "duration": 3,
    "start_time": "2023-01-05T17:32:59.993Z"
   },
   {
    "duration": 10,
    "start_time": "2023-01-05T17:33:21.283Z"
   },
   {
    "duration": 3,
    "start_time": "2023-01-05T17:34:24.147Z"
   },
   {
    "duration": 5,
    "start_time": "2023-01-05T17:34:31.347Z"
   },
   {
    "duration": 5,
    "start_time": "2023-01-05T17:34:53.093Z"
   },
   {
    "duration": 3,
    "start_time": "2023-01-05T17:35:28.091Z"
   },
   {
    "duration": 17,
    "start_time": "2023-01-05T17:35:30.175Z"
   },
   {
    "duration": 4,
    "start_time": "2023-01-05T17:37:54.650Z"
   },
   {
    "duration": 80,
    "start_time": "2023-01-05T17:38:07.793Z"
   },
   {
    "duration": 5,
    "start_time": "2023-01-05T17:38:23.427Z"
   },
   {
    "duration": 4,
    "start_time": "2023-01-05T17:38:54.881Z"
   },
   {
    "duration": 4,
    "start_time": "2023-01-05T17:39:27.819Z"
   },
   {
    "duration": 5,
    "start_time": "2023-01-05T17:39:46.799Z"
   },
   {
    "duration": 3,
    "start_time": "2023-01-05T17:40:14.613Z"
   },
   {
    "duration": 5,
    "start_time": "2023-01-05T17:40:19.941Z"
   },
   {
    "duration": 3,
    "start_time": "2023-01-05T17:40:26.200Z"
   },
   {
    "duration": 19,
    "start_time": "2023-01-05T17:40:28.174Z"
   },
   {
    "duration": 3,
    "start_time": "2023-01-05T17:40:52.832Z"
   },
   {
    "duration": 136,
    "start_time": "2023-01-05T17:40:55.986Z"
   },
   {
    "duration": 11,
    "start_time": "2023-01-05T17:41:21.833Z"
   },
   {
    "duration": 5,
    "start_time": "2023-01-05T17:41:34.976Z"
   },
   {
    "duration": 10,
    "start_time": "2023-01-05T17:42:05.608Z"
   },
   {
    "duration": 4,
    "start_time": "2023-01-05T17:42:33.688Z"
   },
   {
    "duration": 5,
    "start_time": "2023-01-05T17:42:44.940Z"
   },
   {
    "duration": 5,
    "start_time": "2023-01-05T17:44:16.293Z"
   },
   {
    "duration": 5,
    "start_time": "2023-01-05T17:45:30.791Z"
   },
   {
    "duration": 3,
    "start_time": "2023-01-05T17:45:33.532Z"
   },
   {
    "duration": 17,
    "start_time": "2023-01-05T17:45:35.148Z"
   },
   {
    "duration": 4,
    "start_time": "2023-01-05T17:45:45.624Z"
   },
   {
    "duration": 135,
    "start_time": "2023-01-05T17:45:48.528Z"
   },
   {
    "duration": 127,
    "start_time": "2023-01-05T17:47:32.780Z"
   },
   {
    "duration": 93,
    "start_time": "2023-01-05T17:53:36.154Z"
   },
   {
    "duration": 209,
    "start_time": "2023-01-05T17:53:46.804Z"
   },
   {
    "duration": 14,
    "start_time": "2023-01-05T18:08:08.959Z"
   },
   {
    "duration": 127,
    "start_time": "2023-01-05T18:08:36.069Z"
   },
   {
    "duration": 128,
    "start_time": "2023-01-05T18:08:52.606Z"
   },
   {
    "duration": 2,
    "start_time": "2023-01-05T18:30:38.886Z"
   },
   {
    "duration": 4,
    "start_time": "2023-01-05T18:30:56.473Z"
   },
   {
    "duration": 4,
    "start_time": "2023-01-05T18:30:57.561Z"
   },
   {
    "duration": 3,
    "start_time": "2023-01-05T18:30:59.302Z"
   },
   {
    "duration": 143,
    "start_time": "2023-01-05T18:31:00.307Z"
   },
   {
    "duration": 4,
    "start_time": "2023-01-05T18:41:01.204Z"
   },
   {
    "duration": 6,
    "start_time": "2023-01-05T18:41:28.833Z"
   },
   {
    "duration": 4,
    "start_time": "2023-01-05T18:42:10.848Z"
   },
   {
    "duration": 6,
    "start_time": "2023-01-05T18:43:44.636Z"
   },
   {
    "duration": 10,
    "start_time": "2023-01-05T18:45:01.775Z"
   },
   {
    "duration": 7,
    "start_time": "2023-01-05T18:45:52.213Z"
   },
   {
    "duration": 4,
    "start_time": "2023-01-05T18:46:23.664Z"
   },
   {
    "duration": 10,
    "start_time": "2023-01-05T18:46:39.799Z"
   },
   {
    "duration": 7,
    "start_time": "2023-01-05T18:46:59.056Z"
   },
   {
    "duration": 4,
    "start_time": "2023-01-05T18:47:40.269Z"
   },
   {
    "duration": 6,
    "start_time": "2023-01-05T18:47:46.150Z"
   },
   {
    "duration": 3,
    "start_time": "2023-01-05T18:52:01.978Z"
   },
   {
    "duration": 133,
    "start_time": "2023-01-05T18:52:59.140Z"
   },
   {
    "duration": 74,
    "start_time": "2023-01-05T18:58:45.705Z"
   },
   {
    "duration": 6,
    "start_time": "2023-01-05T19:07:03.252Z"
   },
   {
    "duration": 79,
    "start_time": "2023-01-05T19:07:11.820Z"
   },
   {
    "duration": 8,
    "start_time": "2023-01-05T19:07:40.663Z"
   },
   {
    "duration": 3,
    "start_time": "2023-01-05T19:07:43.866Z"
   },
   {
    "duration": 134,
    "start_time": "2023-01-05T19:07:44.734Z"
   },
   {
    "duration": 5,
    "start_time": "2023-01-05T19:08:32.411Z"
   },
   {
    "duration": 4,
    "start_time": "2023-01-05T19:08:39.247Z"
   },
   {
    "duration": 3,
    "start_time": "2023-01-05T19:08:40.192Z"
   },
   {
    "duration": 121,
    "start_time": "2023-01-05T19:08:44.598Z"
   },
   {
    "duration": 5,
    "start_time": "2023-01-05T19:25:10.450Z"
   },
   {
    "duration": 9,
    "start_time": "2023-01-05T19:28:20.957Z"
   },
   {
    "duration": 9,
    "start_time": "2023-01-05T19:30:17.873Z"
   },
   {
    "duration": 4,
    "start_time": "2023-01-05T19:30:32.250Z"
   },
   {
    "duration": 6,
    "start_time": "2023-01-05T19:32:15.187Z"
   },
   {
    "duration": 4,
    "start_time": "2023-01-05T19:32:46.468Z"
   },
   {
    "duration": 9,
    "start_time": "2023-01-05T19:32:47.711Z"
   },
   {
    "duration": 3,
    "start_time": "2023-01-05T19:33:20.240Z"
   },
   {
    "duration": 12,
    "start_time": "2023-01-05T19:39:06.761Z"
   },
   {
    "duration": 139,
    "start_time": "2023-01-05T19:39:46.452Z"
   },
   {
    "duration": 10,
    "start_time": "2023-01-05T19:42:59.028Z"
   },
   {
    "duration": 3,
    "start_time": "2023-01-05T19:43:54.527Z"
   },
   {
    "duration": 16,
    "start_time": "2023-01-05T19:44:43.803Z"
   },
   {
    "duration": 4,
    "start_time": "2023-01-05T19:45:44.208Z"
   },
   {
    "duration": 12,
    "start_time": "2023-01-05T19:47:45.953Z"
   },
   {
    "duration": 10,
    "start_time": "2023-01-05T19:51:10.419Z"
   },
   {
    "duration": 13,
    "start_time": "2023-01-05T19:53:38.404Z"
   },
   {
    "duration": 15,
    "start_time": "2023-01-05T19:56:31.910Z"
   },
   {
    "duration": 15,
    "start_time": "2023-01-05T20:02:50.183Z"
   },
   {
    "duration": 165,
    "start_time": "2023-01-05T20:03:07.921Z"
   },
   {
    "duration": 12,
    "start_time": "2023-01-05T20:08:49.135Z"
   },
   {
    "duration": 3,
    "start_time": "2023-01-05T20:08:58.275Z"
   },
   {
    "duration": 3,
    "start_time": "2023-01-05T20:09:25.304Z"
   },
   {
    "duration": 5,
    "start_time": "2023-01-05T20:09:34.006Z"
   },
   {
    "duration": 4,
    "start_time": "2023-01-05T20:09:44.042Z"
   },
   {
    "duration": 8,
    "start_time": "2023-01-05T20:10:27.788Z"
   },
   {
    "duration": 4,
    "start_time": "2023-01-05T20:10:36.534Z"
   },
   {
    "duration": 7,
    "start_time": "2023-01-05T20:10:38.335Z"
   },
   {
    "duration": 17,
    "start_time": "2023-01-05T20:10:49.148Z"
   },
   {
    "duration": 154,
    "start_time": "2023-01-05T20:11:43.458Z"
   },
   {
    "duration": 655,
    "start_time": "2023-01-06T13:15:26.787Z"
   },
   {
    "duration": 33,
    "start_time": "2023-01-06T13:15:27.445Z"
   },
   {
    "duration": 25,
    "start_time": "2023-01-06T13:15:27.480Z"
   },
   {
    "duration": 19,
    "start_time": "2023-01-06T13:15:27.524Z"
   },
   {
    "duration": 78,
    "start_time": "2023-01-06T13:15:27.547Z"
   },
   {
    "duration": 6,
    "start_time": "2023-01-06T13:15:27.628Z"
   },
   {
    "duration": 14,
    "start_time": "2023-01-06T13:15:27.637Z"
   },
   {
    "duration": 8,
    "start_time": "2023-01-06T13:15:27.655Z"
   },
   {
    "duration": 25,
    "start_time": "2023-01-06T13:15:27.665Z"
   },
   {
    "duration": 31,
    "start_time": "2023-01-06T13:15:27.694Z"
   },
   {
    "duration": 74,
    "start_time": "2023-01-06T13:15:27.728Z"
   },
   {
    "duration": 35,
    "start_time": "2023-01-06T13:15:27.805Z"
   },
   {
    "duration": 10,
    "start_time": "2023-01-06T13:15:27.843Z"
   },
   {
    "duration": 34,
    "start_time": "2023-01-06T13:15:27.858Z"
   },
   {
    "duration": 71,
    "start_time": "2023-01-06T13:15:27.894Z"
   },
   {
    "duration": 26,
    "start_time": "2023-01-06T13:15:27.967Z"
   },
   {
    "duration": 5,
    "start_time": "2023-01-06T13:15:27.996Z"
   },
   {
    "duration": 25,
    "start_time": "2023-01-06T13:15:28.003Z"
   },
   {
    "duration": 8,
    "start_time": "2023-01-06T13:15:28.030Z"
   },
   {
    "duration": 7,
    "start_time": "2023-01-06T13:15:28.040Z"
   },
   {
    "duration": 20,
    "start_time": "2023-01-06T13:15:28.050Z"
   },
   {
    "duration": 1092,
    "start_time": "2023-01-06T13:15:28.073Z"
   },
   {
    "duration": 9,
    "start_time": "2023-01-06T13:15:29.168Z"
   },
   {
    "duration": 7,
    "start_time": "2023-01-06T13:15:29.180Z"
   },
   {
    "duration": 8,
    "start_time": "2023-01-06T13:15:29.189Z"
   },
   {
    "duration": 5,
    "start_time": "2023-01-06T13:15:29.224Z"
   },
   {
    "duration": 25,
    "start_time": "2023-01-06T13:15:29.232Z"
   },
   {
    "duration": 7,
    "start_time": "2023-01-06T13:15:29.260Z"
   },
   {
    "duration": 10,
    "start_time": "2023-01-06T13:15:29.269Z"
   },
   {
    "duration": 42,
    "start_time": "2023-01-06T13:15:29.282Z"
   },
   {
    "duration": 9,
    "start_time": "2023-01-06T13:15:29.327Z"
   },
   {
    "duration": 8,
    "start_time": "2023-01-06T13:15:29.340Z"
   },
   {
    "duration": 16,
    "start_time": "2023-01-06T13:15:29.351Z"
   },
   {
    "duration": 14,
    "start_time": "2023-01-06T13:15:29.369Z"
   },
   {
    "duration": 42,
    "start_time": "2023-01-06T13:15:29.385Z"
   },
   {
    "duration": 10,
    "start_time": "2023-01-06T13:15:29.429Z"
   },
   {
    "duration": 6,
    "start_time": "2023-01-06T13:15:29.441Z"
   },
   {
    "duration": 8,
    "start_time": "2023-01-06T13:15:29.449Z"
   },
   {
    "duration": 12,
    "start_time": "2023-01-06T13:15:29.460Z"
   },
   {
    "duration": 198,
    "start_time": "2023-01-06T13:15:29.474Z"
   },
   {
    "duration": 3,
    "start_time": "2023-01-06T13:15:29.677Z"
   },
   {
    "duration": 17,
    "start_time": "2023-01-06T13:15:29.682Z"
   },
   {
    "duration": 13,
    "start_time": "2023-01-06T13:15:29.702Z"
   },
   {
    "duration": 19,
    "start_time": "2023-01-06T13:15:29.717Z"
   },
   {
    "duration": 196,
    "start_time": "2023-01-06T13:15:29.738Z"
   },
   {
    "duration": 9,
    "start_time": "2023-01-06T13:15:29.936Z"
   },
   {
    "duration": 24,
    "start_time": "2023-01-06T13:15:29.947Z"
   },
   {
    "duration": 14,
    "start_time": "2023-01-06T13:15:29.973Z"
   },
   {
    "duration": 16,
    "start_time": "2023-01-06T13:15:29.990Z"
   },
   {
    "duration": 20,
    "start_time": "2023-01-06T13:15:30.023Z"
   },
   {
    "duration": 22,
    "start_time": "2023-01-06T13:15:30.044Z"
   },
   {
    "duration": 18,
    "start_time": "2023-01-06T13:15:30.068Z"
   },
   {
    "duration": 11,
    "start_time": "2023-01-06T13:15:30.089Z"
   },
   {
    "duration": 28,
    "start_time": "2023-01-06T13:15:30.101Z"
   },
   {
    "duration": 154,
    "start_time": "2023-01-06T13:15:51.551Z"
   },
   {
    "duration": 18,
    "start_time": "2023-01-06T13:16:07.402Z"
   },
   {
    "duration": 188,
    "start_time": "2023-01-06T13:16:20.503Z"
   },
   {
    "duration": 229,
    "start_time": "2023-01-06T13:16:40.669Z"
   },
   {
    "duration": 129,
    "start_time": "2023-01-06T13:36:54.846Z"
   },
   {
    "duration": 571,
    "start_time": "2023-01-07T10:10:28.881Z"
   },
   {
    "duration": 26,
    "start_time": "2023-01-07T10:10:29.454Z"
   },
   {
    "duration": 18,
    "start_time": "2023-01-07T10:10:29.482Z"
   },
   {
    "duration": 15,
    "start_time": "2023-01-07T10:10:29.503Z"
   },
   {
    "duration": 75,
    "start_time": "2023-01-07T10:10:29.520Z"
   },
   {
    "duration": 7,
    "start_time": "2023-01-07T10:10:29.597Z"
   },
   {
    "duration": 44,
    "start_time": "2023-01-07T10:10:29.606Z"
   },
   {
    "duration": 13,
    "start_time": "2023-01-07T10:10:29.653Z"
   },
   {
    "duration": 12,
    "start_time": "2023-01-07T10:10:29.669Z"
   },
   {
    "duration": 9,
    "start_time": "2023-01-07T10:10:29.685Z"
   },
   {
    "duration": 74,
    "start_time": "2023-01-07T10:10:29.696Z"
   },
   {
    "duration": 23,
    "start_time": "2023-01-07T10:10:29.772Z"
   },
   {
    "duration": 12,
    "start_time": "2023-01-07T10:10:29.798Z"
   },
   {
    "duration": 27,
    "start_time": "2023-01-07T10:10:29.812Z"
   },
   {
    "duration": 34,
    "start_time": "2023-01-07T10:10:29.842Z"
   },
   {
    "duration": 29,
    "start_time": "2023-01-07T10:10:29.878Z"
   },
   {
    "duration": 5,
    "start_time": "2023-01-07T10:10:29.909Z"
   },
   {
    "duration": 46,
    "start_time": "2023-01-07T10:10:29.916Z"
   },
   {
    "duration": 29,
    "start_time": "2023-01-07T10:10:29.965Z"
   },
   {
    "duration": 17,
    "start_time": "2023-01-07T10:10:29.996Z"
   },
   {
    "duration": 37,
    "start_time": "2023-01-07T10:10:30.015Z"
   },
   {
    "duration": 1031,
    "start_time": "2023-01-07T10:10:30.054Z"
   },
   {
    "duration": 8,
    "start_time": "2023-01-07T10:10:31.087Z"
   },
   {
    "duration": 12,
    "start_time": "2023-01-07T10:10:31.097Z"
   },
   {
    "duration": 12,
    "start_time": "2023-01-07T10:10:31.110Z"
   },
   {
    "duration": 32,
    "start_time": "2023-01-07T10:10:31.124Z"
   },
   {
    "duration": 26,
    "start_time": "2023-01-07T10:10:31.158Z"
   },
   {
    "duration": 7,
    "start_time": "2023-01-07T10:10:31.189Z"
   },
   {
    "duration": 14,
    "start_time": "2023-01-07T10:10:31.198Z"
   },
   {
    "duration": 13,
    "start_time": "2023-01-07T10:10:31.214Z"
   },
   {
    "duration": 21,
    "start_time": "2023-01-07T10:10:31.230Z"
   },
   {
    "duration": 7,
    "start_time": "2023-01-07T10:10:31.254Z"
   },
   {
    "duration": 10,
    "start_time": "2023-01-07T10:10:31.263Z"
   },
   {
    "duration": 22,
    "start_time": "2023-01-07T10:10:31.276Z"
   },
   {
    "duration": 11,
    "start_time": "2023-01-07T10:10:31.301Z"
   },
   {
    "duration": 14,
    "start_time": "2023-01-07T10:10:31.314Z"
   },
   {
    "duration": 22,
    "start_time": "2023-01-07T10:10:31.330Z"
   },
   {
    "duration": 17,
    "start_time": "2023-01-07T10:10:31.354Z"
   },
   {
    "duration": 20,
    "start_time": "2023-01-07T10:10:31.373Z"
   },
   {
    "duration": 151,
    "start_time": "2023-01-07T10:10:31.396Z"
   },
   {
    "duration": 7,
    "start_time": "2023-01-07T10:10:31.548Z"
   },
   {
    "duration": 18,
    "start_time": "2023-01-07T10:10:31.558Z"
   },
   {
    "duration": 11,
    "start_time": "2023-01-07T10:10:31.579Z"
   },
   {
    "duration": 19,
    "start_time": "2023-01-07T10:10:31.592Z"
   },
   {
    "duration": 188,
    "start_time": "2023-01-07T10:10:31.613Z"
   },
   {
    "duration": 3,
    "start_time": "2023-01-07T10:10:31.803Z"
   },
   {
    "duration": 8,
    "start_time": "2023-01-07T10:10:31.808Z"
   },
   {
    "duration": 7,
    "start_time": "2023-01-07T10:10:31.818Z"
   },
   {
    "duration": 15,
    "start_time": "2023-01-07T10:24:53.781Z"
   },
   {
    "duration": 6,
    "start_time": "2023-01-07T10:25:43.935Z"
   },
   {
    "duration": 8,
    "start_time": "2023-01-07T10:28:14.856Z"
   },
   {
    "duration": 142,
    "start_time": "2023-01-07T10:28:50.536Z"
   },
   {
    "duration": 8,
    "start_time": "2023-01-07T10:29:28.275Z"
   },
   {
    "duration": 10,
    "start_time": "2023-01-07T10:30:28.406Z"
   },
   {
    "duration": 12,
    "start_time": "2023-01-07T10:34:16.956Z"
   },
   {
    "duration": 9,
    "start_time": "2023-01-07T10:34:31.705Z"
   },
   {
    "duration": 6,
    "start_time": "2023-01-07T10:34:43.546Z"
   },
   {
    "duration": 6,
    "start_time": "2023-01-07T10:34:46.516Z"
   },
   {
    "duration": 7,
    "start_time": "2023-01-07T10:34:47.650Z"
   },
   {
    "duration": 12,
    "start_time": "2023-01-07T10:35:29.189Z"
   },
   {
    "duration": 9,
    "start_time": "2023-01-07T10:35:55.516Z"
   },
   {
    "duration": 13,
    "start_time": "2023-01-07T11:17:04.690Z"
   },
   {
    "duration": 16,
    "start_time": "2023-01-07T11:22:04.766Z"
   },
   {
    "duration": 6,
    "start_time": "2023-01-07T11:47:22.409Z"
   },
   {
    "duration": 6,
    "start_time": "2023-01-07T11:58:53.246Z"
   },
   {
    "duration": 25,
    "start_time": "2023-01-07T12:00:09.935Z"
   },
   {
    "duration": 8,
    "start_time": "2023-01-07T12:01:01.434Z"
   },
   {
    "duration": 25,
    "start_time": "2023-01-07T12:01:48.767Z"
   },
   {
    "duration": 7,
    "start_time": "2023-01-07T12:03:16.625Z"
   },
   {
    "duration": 14,
    "start_time": "2023-01-07T12:05:04.323Z"
   },
   {
    "duration": 8,
    "start_time": "2023-01-07T12:05:23.117Z"
   },
   {
    "duration": 1286,
    "start_time": "2023-01-07T12:08:38.018Z"
   },
   {
    "duration": 16,
    "start_time": "2023-01-07T12:09:29.469Z"
   },
   {
    "duration": 14,
    "start_time": "2023-01-07T12:10:06.652Z"
   },
   {
    "duration": 11,
    "start_time": "2023-01-07T12:10:24.609Z"
   },
   {
    "duration": 13,
    "start_time": "2023-01-07T12:10:55.742Z"
   },
   {
    "duration": 9,
    "start_time": "2023-01-07T12:12:54.374Z"
   },
   {
    "duration": 38,
    "start_time": "2023-01-07T12:13:21.649Z"
   },
   {
    "duration": 11,
    "start_time": "2023-01-07T12:13:38.958Z"
   },
   {
    "duration": 11,
    "start_time": "2023-01-07T12:13:56.517Z"
   },
   {
    "duration": 5,
    "start_time": "2023-01-07T12:14:23.512Z"
   },
   {
    "duration": 12,
    "start_time": "2023-01-07T12:15:58.010Z"
   },
   {
    "duration": 14,
    "start_time": "2023-01-07T12:16:05.209Z"
   },
   {
    "duration": 12,
    "start_time": "2023-01-07T12:16:25.347Z"
   },
   {
    "duration": 6,
    "start_time": "2023-01-07T12:17:03.151Z"
   },
   {
    "duration": 1159,
    "start_time": "2023-01-07T12:18:21.231Z"
   },
   {
    "duration": 1144,
    "start_time": "2023-01-07T12:18:45.565Z"
   },
   {
    "duration": 1131,
    "start_time": "2023-01-07T12:18:50.953Z"
   },
   {
    "duration": 3,
    "start_time": "2023-01-07T12:19:18.481Z"
   },
   {
    "duration": 15,
    "start_time": "2023-01-07T12:20:17.661Z"
   },
   {
    "duration": 16,
    "start_time": "2023-01-07T12:21:37.124Z"
   },
   {
    "duration": 26,
    "start_time": "2023-01-07T12:22:43.917Z"
   },
   {
    "duration": 11,
    "start_time": "2023-01-07T12:25:42.801Z"
   },
   {
    "duration": 8,
    "start_time": "2023-01-07T12:27:48.773Z"
   },
   {
    "duration": 15,
    "start_time": "2023-01-07T12:28:22.801Z"
   },
   {
    "duration": 9,
    "start_time": "2023-01-07T12:29:57.074Z"
   },
   {
    "duration": 13,
    "start_time": "2023-01-07T12:30:12.419Z"
   },
   {
    "duration": 6,
    "start_time": "2023-01-07T12:30:14.954Z"
   },
   {
    "duration": 6,
    "start_time": "2023-01-07T12:30:41.837Z"
   },
   {
    "duration": 9,
    "start_time": "2023-01-07T12:30:46.136Z"
   },
   {
    "duration": 15,
    "start_time": "2023-01-07T12:30:47.844Z"
   },
   {
    "duration": 6,
    "start_time": "2023-01-07T12:30:48.649Z"
   },
   {
    "duration": 12,
    "start_time": "2023-01-07T12:32:24.664Z"
   },
   {
    "duration": 8,
    "start_time": "2023-01-07T12:32:35.129Z"
   },
   {
    "duration": 17,
    "start_time": "2023-01-07T12:32:43.201Z"
   },
   {
    "duration": 6,
    "start_time": "2023-01-07T12:33:08.307Z"
   },
   {
    "duration": 10,
    "start_time": "2023-01-07T12:42:15.304Z"
   },
   {
    "duration": 205,
    "start_time": "2023-01-07T12:43:55.502Z"
   },
   {
    "duration": 74,
    "start_time": "2023-01-07T12:50:05.506Z"
   },
   {
    "duration": 10,
    "start_time": "2023-01-07T12:50:40.526Z"
   },
   {
    "duration": 136,
    "start_time": "2023-01-07T12:50:43.265Z"
   },
   {
    "duration": 9,
    "start_time": "2023-01-07T12:50:54.902Z"
   },
   {
    "duration": 137,
    "start_time": "2023-01-07T12:50:55.682Z"
   },
   {
    "duration": 16,
    "start_time": "2023-01-07T13:42:44.501Z"
   },
   {
    "duration": 66,
    "start_time": "2023-01-07T13:53:32.569Z"
   },
   {
    "duration": 77,
    "start_time": "2023-01-07T13:53:41.867Z"
   },
   {
    "duration": 5,
    "start_time": "2023-01-07T13:53:54.541Z"
   },
   {
    "duration": 6,
    "start_time": "2023-01-07T13:53:59.828Z"
   },
   {
    "duration": 6,
    "start_time": "2023-01-07T13:56:16.541Z"
   },
   {
    "duration": 9,
    "start_time": "2023-01-07T13:56:20.869Z"
   },
   {
    "duration": 20,
    "start_time": "2023-01-07T13:56:53.639Z"
   },
   {
    "duration": 4,
    "start_time": "2023-01-07T13:58:22.028Z"
   },
   {
    "duration": 13,
    "start_time": "2023-01-07T13:58:23.343Z"
   },
   {
    "duration": 491,
    "start_time": "2023-01-07T13:58:32.274Z"
   },
   {
    "duration": 23,
    "start_time": "2023-01-07T13:58:32.767Z"
   },
   {
    "duration": 56,
    "start_time": "2023-01-07T13:58:32.791Z"
   },
   {
    "duration": 13,
    "start_time": "2023-01-07T13:58:32.849Z"
   },
   {
    "duration": 67,
    "start_time": "2023-01-07T13:58:32.865Z"
   },
   {
    "duration": 12,
    "start_time": "2023-01-07T13:58:32.933Z"
   },
   {
    "duration": 23,
    "start_time": "2023-01-07T13:58:32.947Z"
   },
   {
    "duration": 25,
    "start_time": "2023-01-07T13:58:32.972Z"
   },
   {
    "duration": 32,
    "start_time": "2023-01-07T13:58:32.999Z"
   },
   {
    "duration": 10,
    "start_time": "2023-01-07T13:58:33.033Z"
   },
   {
    "duration": 75,
    "start_time": "2023-01-07T13:58:33.045Z"
   },
   {
    "duration": 14,
    "start_time": "2023-01-07T13:58:33.122Z"
   },
   {
    "duration": 16,
    "start_time": "2023-01-07T13:58:33.137Z"
   },
   {
    "duration": 37,
    "start_time": "2023-01-07T13:58:33.156Z"
   },
   {
    "duration": 58,
    "start_time": "2023-01-07T13:58:33.195Z"
   },
   {
    "duration": 28,
    "start_time": "2023-01-07T13:58:33.255Z"
   },
   {
    "duration": 5,
    "start_time": "2023-01-07T13:58:33.284Z"
   },
   {
    "duration": 32,
    "start_time": "2023-01-07T13:58:33.291Z"
   },
   {
    "duration": 25,
    "start_time": "2023-01-07T13:58:33.324Z"
   },
   {
    "duration": 32,
    "start_time": "2023-01-07T13:58:33.351Z"
   },
   {
    "duration": 30,
    "start_time": "2023-01-07T13:58:33.385Z"
   },
   {
    "duration": 804,
    "start_time": "2023-01-07T13:58:33.417Z"
   },
   {
    "duration": 6,
    "start_time": "2023-01-07T13:58:34.223Z"
   },
   {
    "duration": 23,
    "start_time": "2023-01-07T13:58:34.231Z"
   },
   {
    "duration": 16,
    "start_time": "2023-01-07T13:58:34.256Z"
   },
   {
    "duration": 24,
    "start_time": "2023-01-07T13:58:34.274Z"
   },
   {
    "duration": 31,
    "start_time": "2023-01-07T13:58:34.300Z"
   },
   {
    "duration": 21,
    "start_time": "2023-01-07T13:58:34.333Z"
   },
   {
    "duration": 32,
    "start_time": "2023-01-07T13:58:34.355Z"
   },
   {
    "duration": 40,
    "start_time": "2023-01-07T13:58:34.388Z"
   },
   {
    "duration": 20,
    "start_time": "2023-01-07T13:58:34.429Z"
   },
   {
    "duration": 28,
    "start_time": "2023-01-07T13:58:34.451Z"
   },
   {
    "duration": 15,
    "start_time": "2023-01-07T13:58:34.481Z"
   },
   {
    "duration": 32,
    "start_time": "2023-01-07T13:58:34.498Z"
   },
   {
    "duration": 5,
    "start_time": "2023-01-07T13:58:34.531Z"
   },
   {
    "duration": 16,
    "start_time": "2023-01-07T13:58:34.538Z"
   },
   {
    "duration": 23,
    "start_time": "2023-01-07T13:58:34.555Z"
   },
   {
    "duration": 26,
    "start_time": "2023-01-07T13:58:34.579Z"
   },
   {
    "duration": 24,
    "start_time": "2023-01-07T13:58:34.607Z"
   },
   {
    "duration": 123,
    "start_time": "2023-01-07T13:58:34.633Z"
   },
   {
    "duration": 3,
    "start_time": "2023-01-07T13:58:34.760Z"
   },
   {
    "duration": 15,
    "start_time": "2023-01-07T13:58:34.765Z"
   },
   {
    "duration": 13,
    "start_time": "2023-01-07T13:58:34.782Z"
   },
   {
    "duration": 56,
    "start_time": "2023-01-07T13:58:34.797Z"
   },
   {
    "duration": 151,
    "start_time": "2023-01-07T13:58:34.854Z"
   },
   {
    "duration": 14,
    "start_time": "2023-01-07T13:58:35.008Z"
   },
   {
    "duration": 35,
    "start_time": "2023-01-07T13:58:35.024Z"
   },
   {
    "duration": 27,
    "start_time": "2023-01-07T13:58:35.061Z"
   },
   {
    "duration": 35,
    "start_time": "2023-01-07T13:58:35.090Z"
   },
   {
    "duration": 25,
    "start_time": "2023-01-07T13:58:35.127Z"
   },
   {
    "duration": 47,
    "start_time": "2023-01-07T13:58:35.155Z"
   },
   {
    "duration": 15,
    "start_time": "2023-01-07T13:58:35.205Z"
   },
   {
    "duration": 168,
    "start_time": "2023-01-07T13:58:35.222Z"
   },
   {
    "duration": 5,
    "start_time": "2023-01-07T13:58:35.391Z"
   },
   {
    "duration": 12,
    "start_time": "2023-01-07T13:58:35.398Z"
   },
   {
    "duration": 35,
    "start_time": "2023-01-07T13:58:35.412Z"
   },
   {
    "duration": 20,
    "start_time": "2023-01-07T13:58:35.449Z"
   },
   {
    "duration": 17,
    "start_time": "2023-01-07T13:58:35.471Z"
   },
   {
    "duration": 31,
    "start_time": "2023-01-07T13:58:35.490Z"
   },
   {
    "duration": 3,
    "start_time": "2023-01-07T14:00:43.664Z"
   },
   {
    "duration": 13,
    "start_time": "2023-01-07T14:00:45.452Z"
   },
   {
    "duration": 4,
    "start_time": "2023-01-07T14:03:56.727Z"
   },
   {
    "duration": 16,
    "start_time": "2023-01-07T14:03:59.220Z"
   },
   {
    "duration": 4,
    "start_time": "2023-01-07T14:04:03.629Z"
   },
   {
    "duration": 4,
    "start_time": "2023-01-07T14:04:06.122Z"
   },
   {
    "duration": 14,
    "start_time": "2023-01-07T14:04:07.419Z"
   },
   {
    "duration": 4,
    "start_time": "2023-01-07T14:05:22.715Z"
   },
   {
    "duration": 10,
    "start_time": "2023-01-07T14:05:24.105Z"
   },
   {
    "duration": 501,
    "start_time": "2023-01-07T14:05:33.612Z"
   },
   {
    "duration": 26,
    "start_time": "2023-01-07T14:05:34.116Z"
   },
   {
    "duration": 18,
    "start_time": "2023-01-07T14:05:34.144Z"
   },
   {
    "duration": 22,
    "start_time": "2023-01-07T14:05:34.164Z"
   },
   {
    "duration": 74,
    "start_time": "2023-01-07T14:05:34.188Z"
   },
   {
    "duration": 4,
    "start_time": "2023-01-07T14:05:34.263Z"
   },
   {
    "duration": 30,
    "start_time": "2023-01-07T14:05:34.268Z"
   },
   {
    "duration": 12,
    "start_time": "2023-01-07T14:05:34.300Z"
   },
   {
    "duration": 12,
    "start_time": "2023-01-07T14:05:34.314Z"
   },
   {
    "duration": 14,
    "start_time": "2023-01-07T14:05:34.329Z"
   },
   {
    "duration": 44,
    "start_time": "2023-01-07T14:05:34.345Z"
   },
   {
    "duration": 12,
    "start_time": "2023-01-07T14:05:34.391Z"
   },
   {
    "duration": 8,
    "start_time": "2023-01-07T14:05:34.404Z"
   },
   {
    "duration": 14,
    "start_time": "2023-01-07T14:05:34.414Z"
   },
   {
    "duration": 46,
    "start_time": "2023-01-07T14:05:34.431Z"
   },
   {
    "duration": 20,
    "start_time": "2023-01-07T14:05:34.479Z"
   },
   {
    "duration": 4,
    "start_time": "2023-01-07T14:05:34.500Z"
   },
   {
    "duration": 20,
    "start_time": "2023-01-07T14:05:34.506Z"
   },
   {
    "duration": 25,
    "start_time": "2023-01-07T14:05:34.528Z"
   },
   {
    "duration": 8,
    "start_time": "2023-01-07T14:05:34.555Z"
   },
   {
    "duration": 34,
    "start_time": "2023-01-07T14:05:34.565Z"
   },
   {
    "duration": 827,
    "start_time": "2023-01-07T14:05:34.601Z"
   },
   {
    "duration": 7,
    "start_time": "2023-01-07T14:05:35.430Z"
   },
   {
    "duration": 20,
    "start_time": "2023-01-07T14:05:35.438Z"
   },
   {
    "duration": 17,
    "start_time": "2023-01-07T14:05:35.460Z"
   },
   {
    "duration": 10,
    "start_time": "2023-01-07T14:05:35.479Z"
   },
   {
    "duration": 17,
    "start_time": "2023-01-07T14:05:35.491Z"
   },
   {
    "duration": 31,
    "start_time": "2023-01-07T14:05:35.512Z"
   },
   {
    "duration": 20,
    "start_time": "2023-01-07T14:05:35.545Z"
   },
   {
    "duration": 21,
    "start_time": "2023-01-07T14:05:35.567Z"
   },
   {
    "duration": 9,
    "start_time": "2023-01-07T14:05:35.591Z"
   },
   {
    "duration": 7,
    "start_time": "2023-01-07T14:05:35.602Z"
   },
   {
    "duration": 14,
    "start_time": "2023-01-07T14:05:35.611Z"
   },
   {
    "duration": 13,
    "start_time": "2023-01-07T14:05:35.626Z"
   },
   {
    "duration": 25,
    "start_time": "2023-01-07T14:05:35.641Z"
   },
   {
    "duration": 18,
    "start_time": "2023-01-07T14:05:35.668Z"
   },
   {
    "duration": 14,
    "start_time": "2023-01-07T14:05:35.688Z"
   },
   {
    "duration": 21,
    "start_time": "2023-01-07T14:05:35.704Z"
   },
   {
    "duration": 19,
    "start_time": "2023-01-07T14:05:35.727Z"
   },
   {
    "duration": 124,
    "start_time": "2023-01-07T14:05:35.748Z"
   },
   {
    "duration": 3,
    "start_time": "2023-01-07T14:05:35.874Z"
   },
   {
    "duration": 25,
    "start_time": "2023-01-07T14:05:35.878Z"
   },
   {
    "duration": 10,
    "start_time": "2023-01-07T14:05:35.904Z"
   },
   {
    "duration": 12,
    "start_time": "2023-01-07T14:05:35.916Z"
   },
   {
    "duration": 147,
    "start_time": "2023-01-07T14:05:35.930Z"
   },
   {
    "duration": 13,
    "start_time": "2023-01-07T14:05:36.079Z"
   },
   {
    "duration": 28,
    "start_time": "2023-01-07T14:05:36.094Z"
   },
   {
    "duration": 15,
    "start_time": "2023-01-07T14:05:36.124Z"
   },
   {
    "duration": 12,
    "start_time": "2023-01-07T14:05:36.140Z"
   },
   {
    "duration": 21,
    "start_time": "2023-01-07T14:05:36.154Z"
   },
   {
    "duration": 10,
    "start_time": "2023-01-07T14:05:36.177Z"
   },
   {
    "duration": 15,
    "start_time": "2023-01-07T14:05:36.189Z"
   },
   {
    "duration": 156,
    "start_time": "2023-01-07T14:05:36.206Z"
   },
   {
    "duration": 4,
    "start_time": "2023-01-07T14:05:36.363Z"
   },
   {
    "duration": 9,
    "start_time": "2023-01-07T14:05:36.369Z"
   },
   {
    "duration": 17,
    "start_time": "2023-01-07T14:05:36.380Z"
   },
   {
    "duration": 12,
    "start_time": "2023-01-07T14:05:36.399Z"
   },
   {
    "duration": 8,
    "start_time": "2023-01-07T14:05:36.413Z"
   },
   {
    "duration": 8,
    "start_time": "2023-01-07T14:05:36.423Z"
   },
   {
    "duration": 24,
    "start_time": "2023-01-07T14:07:49.811Z"
   },
   {
    "duration": 13,
    "start_time": "2023-01-07T14:08:04.537Z"
   },
   {
    "duration": 9,
    "start_time": "2023-01-07T14:08:42.402Z"
   },
   {
    "duration": 10,
    "start_time": "2023-01-07T14:10:11.027Z"
   },
   {
    "duration": 4,
    "start_time": "2023-01-07T14:10:15.836Z"
   },
   {
    "duration": 8,
    "start_time": "2023-01-07T14:10:28.624Z"
   },
   {
    "duration": 9,
    "start_time": "2023-01-07T14:10:40.851Z"
   },
   {
    "duration": 12,
    "start_time": "2023-01-07T14:11:21.512Z"
   },
   {
    "duration": 3,
    "start_time": "2023-01-07T14:12:18.355Z"
   },
   {
    "duration": 18,
    "start_time": "2023-01-07T14:12:19.270Z"
   },
   {
    "duration": 11,
    "start_time": "2023-01-07T14:12:20.986Z"
   },
   {
    "duration": 15,
    "start_time": "2023-01-07T14:12:28.893Z"
   },
   {
    "duration": 8,
    "start_time": "2023-01-07T14:13:01.047Z"
   },
   {
    "duration": 8,
    "start_time": "2023-01-07T14:14:16.516Z"
   },
   {
    "duration": 73,
    "start_time": "2023-01-07T14:16:22.901Z"
   },
   {
    "duration": 7,
    "start_time": "2023-01-07T14:16:31.783Z"
   },
   {
    "duration": 8,
    "start_time": "2023-01-07T14:16:42.835Z"
   },
   {
    "duration": 8,
    "start_time": "2023-01-07T14:17:17.519Z"
   },
   {
    "duration": 5,
    "start_time": "2023-01-07T14:18:18.337Z"
   },
   {
    "duration": 5,
    "start_time": "2023-01-07T15:03:24.463Z"
   },
   {
    "duration": 7,
    "start_time": "2023-01-07T15:03:42.342Z"
   },
   {
    "duration": 5,
    "start_time": "2023-01-07T15:03:58.820Z"
   },
   {
    "duration": 6,
    "start_time": "2023-01-07T15:07:53.037Z"
   },
   {
    "duration": 5,
    "start_time": "2023-01-07T15:08:11.808Z"
   },
   {
    "duration": 6,
    "start_time": "2023-01-07T15:08:29.448Z"
   },
   {
    "duration": 21,
    "start_time": "2023-01-07T15:16:00.719Z"
   },
   {
    "duration": 1364,
    "start_time": "2023-01-07T15:19:30.348Z"
   },
   {
    "duration": 10,
    "start_time": "2023-01-07T15:19:40.217Z"
   },
   {
    "duration": 8,
    "start_time": "2023-01-07T15:20:19.161Z"
   },
   {
    "duration": 6,
    "start_time": "2023-01-07T15:20:28.526Z"
   },
   {
    "duration": 7,
    "start_time": "2023-01-07T15:20:38.616Z"
   },
   {
    "duration": 8,
    "start_time": "2023-01-07T15:20:49.906Z"
   },
   {
    "duration": 499,
    "start_time": "2023-01-09T04:10:06.541Z"
   },
   {
    "duration": 21,
    "start_time": "2023-01-09T04:10:07.042Z"
   },
   {
    "duration": 14,
    "start_time": "2023-01-09T04:10:07.065Z"
   },
   {
    "duration": 14,
    "start_time": "2023-01-09T04:10:07.082Z"
   },
   {
    "duration": 37,
    "start_time": "2023-01-09T04:10:07.098Z"
   },
   {
    "duration": 4,
    "start_time": "2023-01-09T04:10:07.137Z"
   },
   {
    "duration": 10,
    "start_time": "2023-01-09T04:10:07.143Z"
   },
   {
    "duration": 5,
    "start_time": "2023-01-09T04:10:07.155Z"
   },
   {
    "duration": 20,
    "start_time": "2023-01-09T04:10:07.162Z"
   },
   {
    "duration": 5,
    "start_time": "2023-01-09T04:10:07.185Z"
   },
   {
    "duration": 32,
    "start_time": "2023-01-09T04:10:07.192Z"
   },
   {
    "duration": 10,
    "start_time": "2023-01-09T04:10:07.226Z"
   },
   {
    "duration": 5,
    "start_time": "2023-01-09T04:10:07.237Z"
   },
   {
    "duration": 37,
    "start_time": "2023-01-09T04:10:07.244Z"
   },
   {
    "duration": 20,
    "start_time": "2023-01-09T04:10:07.283Z"
   },
   {
    "duration": 16,
    "start_time": "2023-01-09T04:10:07.305Z"
   },
   {
    "duration": 3,
    "start_time": "2023-01-09T04:10:07.323Z"
   },
   {
    "duration": 13,
    "start_time": "2023-01-09T04:10:07.327Z"
   },
   {
    "duration": 9,
    "start_time": "2023-01-09T04:10:07.342Z"
   },
   {
    "duration": 4,
    "start_time": "2023-01-09T04:10:07.352Z"
   },
   {
    "duration": 11,
    "start_time": "2023-01-09T04:10:07.379Z"
   },
   {
    "duration": 867,
    "start_time": "2023-01-09T04:10:07.392Z"
   },
   {
    "duration": 8,
    "start_time": "2023-01-09T04:10:08.260Z"
   },
   {
    "duration": 6,
    "start_time": "2023-01-09T04:10:08.277Z"
   },
   {
    "duration": 6,
    "start_time": "2023-01-09T04:10:08.285Z"
   },
   {
    "duration": 5,
    "start_time": "2023-01-09T04:10:08.293Z"
   },
   {
    "duration": 12,
    "start_time": "2023-01-09T04:10:08.299Z"
   },
   {
    "duration": 6,
    "start_time": "2023-01-09T04:10:08.316Z"
   },
   {
    "duration": 10,
    "start_time": "2023-01-09T04:10:08.323Z"
   },
   {
    "duration": 9,
    "start_time": "2023-01-09T04:10:08.334Z"
   },
   {
    "duration": 39,
    "start_time": "2023-01-09T04:10:08.344Z"
   },
   {
    "duration": 6,
    "start_time": "2023-01-09T04:10:08.384Z"
   },
   {
    "duration": 9,
    "start_time": "2023-01-09T04:10:08.392Z"
   },
   {
    "duration": 29,
    "start_time": "2023-01-09T04:10:08.403Z"
   },
   {
    "duration": 4,
    "start_time": "2023-01-09T04:10:08.434Z"
   },
   {
    "duration": 9,
    "start_time": "2023-01-09T04:10:08.440Z"
   },
   {
    "duration": 6,
    "start_time": "2023-01-09T04:10:08.450Z"
   },
   {
    "duration": 7,
    "start_time": "2023-01-09T04:10:08.457Z"
   },
   {
    "duration": 14,
    "start_time": "2023-01-09T04:10:08.466Z"
   },
   {
    "duration": 121,
    "start_time": "2023-01-09T04:10:08.482Z"
   },
   {
    "duration": 3,
    "start_time": "2023-01-09T04:10:08.605Z"
   },
   {
    "duration": 6,
    "start_time": "2023-01-09T04:10:08.610Z"
   },
   {
    "duration": 6,
    "start_time": "2023-01-09T04:10:08.618Z"
   },
   {
    "duration": 12,
    "start_time": "2023-01-09T04:10:08.626Z"
   },
   {
    "duration": 153,
    "start_time": "2023-01-09T04:10:08.640Z"
   },
   {
    "duration": 6,
    "start_time": "2023-01-09T04:10:08.795Z"
   },
   {
    "duration": 12,
    "start_time": "2023-01-09T04:10:08.803Z"
   },
   {
    "duration": 18,
    "start_time": "2023-01-09T04:10:08.817Z"
   },
   {
    "duration": 14,
    "start_time": "2023-01-09T04:10:08.837Z"
   },
   {
    "duration": 24,
    "start_time": "2023-01-09T04:10:08.853Z"
   },
   {
    "duration": 8,
    "start_time": "2023-01-09T04:10:08.879Z"
   },
   {
    "duration": 150,
    "start_time": "2023-01-09T04:10:08.888Z"
   },
   {
    "duration": 9,
    "start_time": "2023-01-09T04:10:09.039Z"
   },
   {
    "duration": 8,
    "start_time": "2023-01-09T04:10:09.050Z"
   },
   {
    "duration": 24,
    "start_time": "2023-01-09T04:10:09.060Z"
   },
   {
    "duration": 15,
    "start_time": "2023-01-09T04:10:09.086Z"
   },
   {
    "duration": 11,
    "start_time": "2023-01-09T04:10:09.103Z"
   },
   {
    "duration": 9,
    "start_time": "2023-01-09T04:10:09.117Z"
   },
   {
    "duration": 6,
    "start_time": "2023-01-09T04:10:09.127Z"
   },
   {
    "duration": 16,
    "start_time": "2023-01-09T04:10:09.135Z"
   },
   {
    "duration": 30,
    "start_time": "2023-01-09T04:10:09.153Z"
   },
   {
    "duration": 1256,
    "start_time": "2023-01-09T04:10:09.185Z"
   },
   {
    "duration": 0,
    "start_time": "2023-01-09T04:10:10.443Z"
   },
   {
    "duration": 11690,
    "start_time": "2023-01-09T04:17:35.392Z"
   },
   {
    "duration": 6,
    "start_time": "2023-01-09T04:19:53.463Z"
   },
   {
    "duration": 6,
    "start_time": "2023-01-09T04:20:02.703Z"
   },
   {
    "duration": 10,
    "start_time": "2023-01-09T04:22:32.975Z"
   },
   {
    "duration": 10,
    "start_time": "2023-01-09T04:22:41.588Z"
   },
   {
    "duration": 12,
    "start_time": "2023-01-09T04:43:08.173Z"
   },
   {
    "duration": 11,
    "start_time": "2023-01-09T04:43:50.223Z"
   },
   {
    "duration": 17,
    "start_time": "2023-01-09T04:44:18.599Z"
   },
   {
    "duration": 12,
    "start_time": "2023-01-09T04:51:52.819Z"
   },
   {
    "duration": 3,
    "start_time": "2023-01-09T04:54:41.949Z"
   },
   {
    "duration": 16,
    "start_time": "2023-01-09T04:57:00.028Z"
   },
   {
    "duration": 21,
    "start_time": "2023-01-09T04:57:36.685Z"
   },
   {
    "duration": 13,
    "start_time": "2023-01-09T04:58:52.896Z"
   },
   {
    "duration": 20,
    "start_time": "2023-01-09T05:01:51.729Z"
   },
   {
    "duration": 8,
    "start_time": "2023-01-09T05:02:15.612Z"
   },
   {
    "duration": 9,
    "start_time": "2023-01-09T05:03:55.125Z"
   },
   {
    "duration": 5,
    "start_time": "2023-01-09T05:04:01.991Z"
   },
   {
    "duration": 7,
    "start_time": "2023-01-09T05:05:03.599Z"
   },
   {
    "duration": 8,
    "start_time": "2023-01-09T05:05:29.604Z"
   },
   {
    "duration": 7,
    "start_time": "2023-01-09T05:06:13.663Z"
   },
   {
    "duration": 12,
    "start_time": "2023-01-09T05:06:58.605Z"
   },
   {
    "duration": 484,
    "start_time": "2023-01-09T05:07:11.647Z"
   },
   {
    "duration": 22,
    "start_time": "2023-01-09T05:07:12.133Z"
   },
   {
    "duration": 34,
    "start_time": "2023-01-09T05:07:12.156Z"
   },
   {
    "duration": 20,
    "start_time": "2023-01-09T05:07:12.194Z"
   },
   {
    "duration": 40,
    "start_time": "2023-01-09T05:07:12.215Z"
   },
   {
    "duration": 4,
    "start_time": "2023-01-09T05:07:12.256Z"
   },
   {
    "duration": 47,
    "start_time": "2023-01-09T05:07:12.262Z"
   },
   {
    "duration": 9,
    "start_time": "2023-01-09T05:07:12.311Z"
   },
   {
    "duration": 21,
    "start_time": "2023-01-09T05:07:12.322Z"
   },
   {
    "duration": 12,
    "start_time": "2023-01-09T05:07:12.345Z"
   },
   {
    "duration": 60,
    "start_time": "2023-01-09T05:07:12.358Z"
   },
   {
    "duration": 12,
    "start_time": "2023-01-09T05:07:12.419Z"
   },
   {
    "duration": 11,
    "start_time": "2023-01-09T05:07:12.433Z"
   },
   {
    "duration": 26,
    "start_time": "2023-01-09T05:07:12.445Z"
   },
   {
    "duration": 45,
    "start_time": "2023-01-09T05:07:12.474Z"
   },
   {
    "duration": 17,
    "start_time": "2023-01-09T05:07:12.521Z"
   },
   {
    "duration": 19,
    "start_time": "2023-01-09T05:07:12.540Z"
   },
   {
    "duration": 32,
    "start_time": "2023-01-09T05:07:12.560Z"
   },
   {
    "duration": 16,
    "start_time": "2023-01-09T05:07:12.594Z"
   },
   {
    "duration": 13,
    "start_time": "2023-01-09T05:07:12.612Z"
   },
   {
    "duration": 21,
    "start_time": "2023-01-09T05:07:12.627Z"
   },
   {
    "duration": 755,
    "start_time": "2023-01-09T05:07:12.650Z"
   },
   {
    "duration": 6,
    "start_time": "2023-01-09T05:07:13.406Z"
   },
   {
    "duration": 26,
    "start_time": "2023-01-09T05:07:13.413Z"
   },
   {
    "duration": 21,
    "start_time": "2023-01-09T05:07:13.441Z"
   },
   {
    "duration": 10,
    "start_time": "2023-01-09T05:07:13.464Z"
   },
   {
    "duration": 41,
    "start_time": "2023-01-09T05:07:13.475Z"
   },
   {
    "duration": 6,
    "start_time": "2023-01-09T05:07:13.522Z"
   },
   {
    "duration": 28,
    "start_time": "2023-01-09T05:07:13.530Z"
   },
   {
    "duration": 40,
    "start_time": "2023-01-09T05:07:13.560Z"
   },
   {
    "duration": 20,
    "start_time": "2023-01-09T05:07:13.602Z"
   },
   {
    "duration": 13,
    "start_time": "2023-01-09T05:07:13.624Z"
   },
   {
    "duration": 30,
    "start_time": "2023-01-09T05:07:13.639Z"
   },
   {
    "duration": 41,
    "start_time": "2023-01-09T05:07:13.671Z"
   },
   {
    "duration": 27,
    "start_time": "2023-01-09T05:07:13.714Z"
   },
   {
    "duration": 21,
    "start_time": "2023-01-09T05:07:13.743Z"
   },
   {
    "duration": 35,
    "start_time": "2023-01-09T05:07:13.765Z"
   },
   {
    "duration": 13,
    "start_time": "2023-01-09T05:07:13.802Z"
   },
   {
    "duration": 26,
    "start_time": "2023-01-09T05:07:13.817Z"
   },
   {
    "duration": 170,
    "start_time": "2023-01-09T05:07:13.844Z"
   },
   {
    "duration": 5,
    "start_time": "2023-01-09T05:07:14.016Z"
   },
   {
    "duration": 29,
    "start_time": "2023-01-09T05:07:14.024Z"
   },
   {
    "duration": 27,
    "start_time": "2023-01-09T05:07:14.056Z"
   },
   {
    "duration": 43,
    "start_time": "2023-01-09T05:07:14.085Z"
   },
   {
    "duration": 194,
    "start_time": "2023-01-09T05:07:14.130Z"
   },
   {
    "duration": 7,
    "start_time": "2023-01-09T05:07:14.326Z"
   },
   {
    "duration": 28,
    "start_time": "2023-01-09T05:07:14.335Z"
   },
   {
    "duration": 37,
    "start_time": "2023-01-09T05:07:14.365Z"
   },
   {
    "duration": 23,
    "start_time": "2023-01-09T05:07:14.404Z"
   },
   {
    "duration": 16,
    "start_time": "2023-01-09T05:07:14.428Z"
   },
   {
    "duration": 28,
    "start_time": "2023-01-09T05:07:14.445Z"
   },
   {
    "duration": 157,
    "start_time": "2023-01-09T05:07:14.475Z"
   },
   {
    "duration": 9,
    "start_time": "2023-01-09T05:07:14.633Z"
   },
   {
    "duration": 22,
    "start_time": "2023-01-09T05:07:14.643Z"
   },
   {
    "duration": 52,
    "start_time": "2023-01-09T05:07:14.668Z"
   },
   {
    "duration": 17,
    "start_time": "2023-01-09T05:07:14.722Z"
   },
   {
    "duration": 35,
    "start_time": "2023-01-09T05:07:14.741Z"
   },
   {
    "duration": 21,
    "start_time": "2023-01-09T05:07:14.780Z"
   },
   {
    "duration": 13,
    "start_time": "2023-01-09T05:07:14.803Z"
   },
   {
    "duration": 37,
    "start_time": "2023-01-09T05:07:14.818Z"
   },
   {
    "duration": 37,
    "start_time": "2023-01-09T05:07:14.857Z"
   },
   {
    "duration": 25,
    "start_time": "2023-01-09T05:07:14.896Z"
   },
   {
    "duration": 32,
    "start_time": "2023-01-09T05:07:14.923Z"
   },
   {
    "duration": 62,
    "start_time": "2023-01-09T05:07:14.956Z"
   },
   {
    "duration": 22,
    "start_time": "2023-01-09T05:07:15.020Z"
   },
   {
    "duration": 6,
    "start_time": "2023-01-09T05:09:03.545Z"
   },
   {
    "duration": 5,
    "start_time": "2023-01-09T05:10:08.853Z"
   },
   {
    "duration": 7,
    "start_time": "2023-01-09T05:10:16.202Z"
   },
   {
    "duration": 5,
    "start_time": "2023-01-09T05:15:24.118Z"
   },
   {
    "duration": 8,
    "start_time": "2023-01-09T05:15:28.065Z"
   },
   {
    "duration": 521,
    "start_time": "2023-01-09T05:16:03.108Z"
   },
   {
    "duration": 22,
    "start_time": "2023-01-09T05:16:03.631Z"
   },
   {
    "duration": 26,
    "start_time": "2023-01-09T05:16:03.655Z"
   },
   {
    "duration": 13,
    "start_time": "2023-01-09T05:16:03.685Z"
   },
   {
    "duration": 53,
    "start_time": "2023-01-09T05:16:03.700Z"
   },
   {
    "duration": 4,
    "start_time": "2023-01-09T05:16:03.754Z"
   },
   {
    "duration": 16,
    "start_time": "2023-01-09T05:16:03.759Z"
   },
   {
    "duration": 31,
    "start_time": "2023-01-09T05:16:03.779Z"
   },
   {
    "duration": 11,
    "start_time": "2023-01-09T05:16:03.812Z"
   },
   {
    "duration": 8,
    "start_time": "2023-01-09T05:16:03.826Z"
   },
   {
    "duration": 33,
    "start_time": "2023-01-09T05:16:03.836Z"
   },
   {
    "duration": 12,
    "start_time": "2023-01-09T05:16:03.871Z"
   },
   {
    "duration": 36,
    "start_time": "2023-01-09T05:16:03.885Z"
   },
   {
    "duration": 16,
    "start_time": "2023-01-09T05:16:03.924Z"
   },
   {
    "duration": 32,
    "start_time": "2023-01-09T05:16:03.942Z"
   },
   {
    "duration": 30,
    "start_time": "2023-01-09T05:16:03.976Z"
   },
   {
    "duration": 14,
    "start_time": "2023-01-09T05:16:04.008Z"
   },
   {
    "duration": 24,
    "start_time": "2023-01-09T05:16:04.025Z"
   },
   {
    "duration": 8,
    "start_time": "2023-01-09T05:16:04.051Z"
   },
   {
    "duration": 15,
    "start_time": "2023-01-09T05:16:04.061Z"
   },
   {
    "duration": 48,
    "start_time": "2023-01-09T05:16:04.083Z"
   },
   {
    "duration": 825,
    "start_time": "2023-01-09T05:16:04.132Z"
   },
   {
    "duration": 8,
    "start_time": "2023-01-09T05:16:04.961Z"
   },
   {
    "duration": 35,
    "start_time": "2023-01-09T05:16:04.971Z"
   },
   {
    "duration": 16,
    "start_time": "2023-01-09T05:16:05.008Z"
   },
   {
    "duration": 5,
    "start_time": "2023-01-09T05:16:05.025Z"
   },
   {
    "duration": 21,
    "start_time": "2023-01-09T05:16:05.032Z"
   },
   {
    "duration": 6,
    "start_time": "2023-01-09T05:16:05.057Z"
   },
   {
    "duration": 19,
    "start_time": "2023-01-09T05:16:05.064Z"
   },
   {
    "duration": 37,
    "start_time": "2023-01-09T05:16:05.085Z"
   },
   {
    "duration": 14,
    "start_time": "2023-01-09T05:16:05.124Z"
   },
   {
    "duration": 21,
    "start_time": "2023-01-09T05:16:05.140Z"
   },
   {
    "duration": 9,
    "start_time": "2023-01-09T05:16:05.162Z"
   },
   {
    "duration": 45,
    "start_time": "2023-01-09T05:16:05.173Z"
   },
   {
    "duration": 14,
    "start_time": "2023-01-09T05:16:05.220Z"
   },
   {
    "duration": 25,
    "start_time": "2023-01-09T05:16:05.236Z"
   },
   {
    "duration": 13,
    "start_time": "2023-01-09T05:16:05.263Z"
   },
   {
    "duration": 32,
    "start_time": "2023-01-09T05:16:05.280Z"
   },
   {
    "duration": 15,
    "start_time": "2023-01-09T05:16:05.313Z"
   },
   {
    "duration": 126,
    "start_time": "2023-01-09T05:16:05.330Z"
   },
   {
    "duration": 3,
    "start_time": "2023-01-09T05:16:05.458Z"
   },
   {
    "duration": 11,
    "start_time": "2023-01-09T05:16:05.462Z"
   },
   {
    "duration": 27,
    "start_time": "2023-01-09T05:16:05.484Z"
   },
   {
    "duration": 13,
    "start_time": "2023-01-09T05:16:05.513Z"
   },
   {
    "duration": 148,
    "start_time": "2023-01-09T05:16:05.528Z"
   },
   {
    "duration": 9,
    "start_time": "2023-01-09T05:16:05.677Z"
   },
   {
    "duration": 35,
    "start_time": "2023-01-09T05:16:05.692Z"
   },
   {
    "duration": 8,
    "start_time": "2023-01-09T05:16:05.730Z"
   },
   {
    "duration": 15,
    "start_time": "2023-01-09T05:16:05.740Z"
   },
   {
    "duration": 12,
    "start_time": "2023-01-09T05:16:05.756Z"
   },
   {
    "duration": 51,
    "start_time": "2023-01-09T05:16:05.771Z"
   },
   {
    "duration": 140,
    "start_time": "2023-01-09T05:16:05.824Z"
   },
   {
    "duration": 19,
    "start_time": "2023-01-09T05:16:05.966Z"
   },
   {
    "duration": 31,
    "start_time": "2023-01-09T05:16:05.986Z"
   },
   {
    "duration": 18,
    "start_time": "2023-01-09T05:16:06.019Z"
   },
   {
    "duration": 12,
    "start_time": "2023-01-09T05:16:06.039Z"
   },
   {
    "duration": 10,
    "start_time": "2023-01-09T05:16:06.053Z"
   },
   {
    "duration": 8,
    "start_time": "2023-01-09T05:16:06.064Z"
   },
   {
    "duration": 8,
    "start_time": "2023-01-09T05:16:06.073Z"
   },
   {
    "duration": 43,
    "start_time": "2023-01-09T05:16:06.084Z"
   },
   {
    "duration": 15,
    "start_time": "2023-01-09T05:16:06.129Z"
   },
   {
    "duration": 2,
    "start_time": "2023-01-09T05:16:06.146Z"
   },
   {
    "duration": 15,
    "start_time": "2023-01-09T05:16:06.150Z"
   },
   {
    "duration": 14,
    "start_time": "2023-01-09T05:16:06.167Z"
   },
   {
    "duration": 36,
    "start_time": "2023-01-09T05:16:06.185Z"
   },
   {
    "duration": 13341,
    "start_time": "2023-01-09T05:16:06.223Z"
   },
   {
    "duration": 3,
    "start_time": "2023-01-09T05:16:19.566Z"
   },
   {
    "duration": 50,
    "start_time": "2023-01-09T05:16:19.571Z"
   },
   {
    "duration": 4,
    "start_time": "2023-01-09T05:19:37.327Z"
   },
   {
    "duration": 157,
    "start_time": "2023-01-09T05:20:31.498Z"
   },
   {
    "duration": 4,
    "start_time": "2023-01-09T05:21:12.531Z"
   },
   {
    "duration": 44,
    "start_time": "2023-01-09T05:21:13.761Z"
   },
   {
    "duration": 482,
    "start_time": "2023-01-09T05:21:29.663Z"
   },
   {
    "duration": 22,
    "start_time": "2023-01-09T05:21:30.147Z"
   },
   {
    "duration": 39,
    "start_time": "2023-01-09T05:21:30.171Z"
   },
   {
    "duration": 18,
    "start_time": "2023-01-09T05:21:30.212Z"
   },
   {
    "duration": 59,
    "start_time": "2023-01-09T05:21:30.232Z"
   },
   {
    "duration": 6,
    "start_time": "2023-01-09T05:21:30.294Z"
   },
   {
    "duration": 35,
    "start_time": "2023-01-09T05:21:30.302Z"
   },
   {
    "duration": 33,
    "start_time": "2023-01-09T05:21:30.339Z"
   },
   {
    "duration": 30,
    "start_time": "2023-01-09T05:21:30.374Z"
   },
   {
    "duration": 6,
    "start_time": "2023-01-09T05:21:30.406Z"
   },
   {
    "duration": 75,
    "start_time": "2023-01-09T05:21:30.414Z"
   },
   {
    "duration": 10,
    "start_time": "2023-01-09T05:21:30.495Z"
   },
   {
    "duration": 24,
    "start_time": "2023-01-09T05:21:30.508Z"
   },
   {
    "duration": 26,
    "start_time": "2023-01-09T05:21:30.535Z"
   },
   {
    "duration": 33,
    "start_time": "2023-01-09T05:21:30.563Z"
   },
   {
    "duration": 37,
    "start_time": "2023-01-09T05:21:30.598Z"
   },
   {
    "duration": 21,
    "start_time": "2023-01-09T05:21:30.637Z"
   },
   {
    "duration": 27,
    "start_time": "2023-01-09T05:21:30.660Z"
   },
   {
    "duration": 22,
    "start_time": "2023-01-09T05:21:30.688Z"
   },
   {
    "duration": 31,
    "start_time": "2023-01-09T05:21:30.711Z"
   },
   {
    "duration": 42,
    "start_time": "2023-01-09T05:21:30.744Z"
   },
   {
    "duration": 747,
    "start_time": "2023-01-09T05:21:30.787Z"
   },
   {
    "duration": 6,
    "start_time": "2023-01-09T05:21:31.536Z"
   },
   {
    "duration": 18,
    "start_time": "2023-01-09T05:21:31.543Z"
   },
   {
    "duration": 20,
    "start_time": "2023-01-09T05:21:31.562Z"
   },
   {
    "duration": 21,
    "start_time": "2023-01-09T05:21:31.593Z"
   },
   {
    "duration": 22,
    "start_time": "2023-01-09T05:21:31.616Z"
   },
   {
    "duration": 23,
    "start_time": "2023-01-09T05:21:31.640Z"
   },
   {
    "duration": 39,
    "start_time": "2023-01-09T05:21:31.665Z"
   },
   {
    "duration": 15,
    "start_time": "2023-01-09T05:21:31.705Z"
   },
   {
    "duration": 15,
    "start_time": "2023-01-09T05:21:31.722Z"
   },
   {
    "duration": 15,
    "start_time": "2023-01-09T05:21:31.739Z"
   },
   {
    "duration": 15,
    "start_time": "2023-01-09T05:21:31.755Z"
   },
   {
    "duration": 33,
    "start_time": "2023-01-09T05:21:31.772Z"
   },
   {
    "duration": 7,
    "start_time": "2023-01-09T05:21:31.807Z"
   },
   {
    "duration": 12,
    "start_time": "2023-01-09T05:21:31.815Z"
   },
   {
    "duration": 15,
    "start_time": "2023-01-09T05:21:31.829Z"
   },
   {
    "duration": 14,
    "start_time": "2023-01-09T05:21:31.845Z"
   },
   {
    "duration": 34,
    "start_time": "2023-01-09T05:21:31.861Z"
   },
   {
    "duration": 134,
    "start_time": "2023-01-09T05:21:31.901Z"
   },
   {
    "duration": 4,
    "start_time": "2023-01-09T05:21:32.041Z"
   },
   {
    "duration": 10,
    "start_time": "2023-01-09T05:21:32.047Z"
   },
   {
    "duration": 13,
    "start_time": "2023-01-09T05:21:32.059Z"
   },
   {
    "duration": 40,
    "start_time": "2023-01-09T05:21:32.074Z"
   },
   {
    "duration": 172,
    "start_time": "2023-01-09T05:21:32.116Z"
   },
   {
    "duration": 7,
    "start_time": "2023-01-09T05:21:32.292Z"
   },
   {
    "duration": 21,
    "start_time": "2023-01-09T05:21:32.301Z"
   },
   {
    "duration": 18,
    "start_time": "2023-01-09T05:21:32.323Z"
   },
   {
    "duration": 18,
    "start_time": "2023-01-09T05:21:32.343Z"
   },
   {
    "duration": 7,
    "start_time": "2023-01-09T05:21:32.363Z"
   },
   {
    "duration": 22,
    "start_time": "2023-01-09T05:21:32.371Z"
   },
   {
    "duration": 136,
    "start_time": "2023-01-09T05:21:32.395Z"
   },
   {
    "duration": 9,
    "start_time": "2023-01-09T05:21:32.532Z"
   },
   {
    "duration": 9,
    "start_time": "2023-01-09T05:21:32.543Z"
   },
   {
    "duration": 42,
    "start_time": "2023-01-09T05:21:32.553Z"
   },
   {
    "duration": 34,
    "start_time": "2023-01-09T05:21:32.597Z"
   },
   {
    "duration": 19,
    "start_time": "2023-01-09T05:21:32.633Z"
   },
   {
    "duration": 22,
    "start_time": "2023-01-09T05:21:32.654Z"
   },
   {
    "duration": 25,
    "start_time": "2023-01-09T05:21:32.678Z"
   },
   {
    "duration": 28,
    "start_time": "2023-01-09T05:21:32.705Z"
   },
   {
    "duration": 19,
    "start_time": "2023-01-09T05:21:32.735Z"
   },
   {
    "duration": 3,
    "start_time": "2023-01-09T05:21:32.756Z"
   },
   {
    "duration": 36,
    "start_time": "2023-01-09T05:21:32.760Z"
   },
   {
    "duration": 20,
    "start_time": "2023-01-09T05:21:32.797Z"
   },
   {
    "duration": 19,
    "start_time": "2023-01-09T05:21:32.819Z"
   },
   {
    "duration": 154,
    "start_time": "2023-01-09T05:21:32.840Z"
   },
   {
    "duration": 0,
    "start_time": "2023-01-09T05:21:32.997Z"
   },
   {
    "duration": 0,
    "start_time": "2023-01-09T05:21:32.998Z"
   },
   {
    "duration": 0,
    "start_time": "2023-01-09T05:21:33.000Z"
   },
   {
    "duration": 0,
    "start_time": "2023-01-09T05:21:33.001Z"
   },
   {
    "duration": 7,
    "start_time": "2023-01-09T05:22:01.222Z"
   },
   {
    "duration": 8,
    "start_time": "2023-01-09T05:22:17.326Z"
   },
   {
    "duration": 10,
    "start_time": "2023-01-09T05:24:12.274Z"
   },
   {
    "duration": 13,
    "start_time": "2023-01-09T05:24:16.328Z"
   },
   {
    "duration": 4,
    "start_time": "2023-01-09T05:24:42.822Z"
   },
   {
    "duration": 4,
    "start_time": "2023-01-09T05:25:02.297Z"
   },
   {
    "duration": 9,
    "start_time": "2023-01-09T05:25:23.926Z"
   },
   {
    "duration": 15,
    "start_time": "2023-01-09T05:25:42.260Z"
   },
   {
    "duration": 3,
    "start_time": "2023-01-09T05:28:01.045Z"
   },
   {
    "duration": 13,
    "start_time": "2023-01-09T05:28:02.010Z"
   },
   {
    "duration": 6,
    "start_time": "2023-01-09T05:28:03.644Z"
   },
   {
    "duration": 22,
    "start_time": "2023-01-09T05:28:07.175Z"
   },
   {
    "duration": 3,
    "start_time": "2023-01-09T05:28:38.600Z"
   },
   {
    "duration": 10,
    "start_time": "2023-01-09T05:28:39.232Z"
   },
   {
    "duration": 6,
    "start_time": "2023-01-09T05:29:56.523Z"
   },
   {
    "duration": 15,
    "start_time": "2023-01-09T05:29:57.534Z"
   },
   {
    "duration": 6,
    "start_time": "2023-01-09T05:31:15.175Z"
   },
   {
    "duration": 6,
    "start_time": "2023-01-09T05:31:17.617Z"
   },
   {
    "duration": 16,
    "start_time": "2023-01-09T05:31:25.064Z"
   },
   {
    "duration": 7,
    "start_time": "2023-01-09T05:35:54.774Z"
   },
   {
    "duration": 23,
    "start_time": "2023-01-09T05:35:57.428Z"
   },
   {
    "duration": 475,
    "start_time": "2023-01-09T05:36:08.309Z"
   },
   {
    "duration": 22,
    "start_time": "2023-01-09T05:36:08.794Z"
   },
   {
    "duration": 16,
    "start_time": "2023-01-09T05:36:08.818Z"
   },
   {
    "duration": 9,
    "start_time": "2023-01-09T05:36:08.836Z"
   },
   {
    "duration": 55,
    "start_time": "2023-01-09T05:36:08.847Z"
   },
   {
    "duration": 3,
    "start_time": "2023-01-09T05:36:08.904Z"
   },
   {
    "duration": 11,
    "start_time": "2023-01-09T05:36:08.909Z"
   },
   {
    "duration": 6,
    "start_time": "2023-01-09T05:36:08.922Z"
   },
   {
    "duration": 22,
    "start_time": "2023-01-09T05:36:08.930Z"
   },
   {
    "duration": 23,
    "start_time": "2023-01-09T05:36:08.961Z"
   },
   {
    "duration": 55,
    "start_time": "2023-01-09T05:36:08.991Z"
   },
   {
    "duration": 9,
    "start_time": "2023-01-09T05:36:09.048Z"
   },
   {
    "duration": 4,
    "start_time": "2023-01-09T05:36:09.059Z"
   },
   {
    "duration": 21,
    "start_time": "2023-01-09T05:36:09.064Z"
   },
   {
    "duration": 40,
    "start_time": "2023-01-09T05:36:09.088Z"
   },
   {
    "duration": 19,
    "start_time": "2023-01-09T05:36:09.130Z"
   },
   {
    "duration": 4,
    "start_time": "2023-01-09T05:36:09.150Z"
   },
   {
    "duration": 28,
    "start_time": "2023-01-09T05:36:09.156Z"
   },
   {
    "duration": 21,
    "start_time": "2023-01-09T05:36:09.188Z"
   },
   {
    "duration": 4,
    "start_time": "2023-01-09T05:36:09.210Z"
   },
   {
    "duration": 14,
    "start_time": "2023-01-09T05:36:09.216Z"
   },
   {
    "duration": 800,
    "start_time": "2023-01-09T05:36:09.232Z"
   },
   {
    "duration": 7,
    "start_time": "2023-01-09T05:36:10.034Z"
   },
   {
    "duration": 27,
    "start_time": "2023-01-09T05:36:10.043Z"
   },
   {
    "duration": 38,
    "start_time": "2023-01-09T05:36:10.072Z"
   },
   {
    "duration": 7,
    "start_time": "2023-01-09T05:36:10.112Z"
   },
   {
    "duration": 24,
    "start_time": "2023-01-09T05:36:10.121Z"
   },
   {
    "duration": 6,
    "start_time": "2023-01-09T05:36:10.151Z"
   },
   {
    "duration": 53,
    "start_time": "2023-01-09T05:36:10.158Z"
   },
   {
    "duration": 25,
    "start_time": "2023-01-09T05:36:10.213Z"
   },
   {
    "duration": 16,
    "start_time": "2023-01-09T05:36:10.240Z"
   },
   {
    "duration": 13,
    "start_time": "2023-01-09T05:36:10.258Z"
   },
   {
    "duration": 29,
    "start_time": "2023-01-09T05:36:10.273Z"
   },
   {
    "duration": 23,
    "start_time": "2023-01-09T05:36:10.304Z"
   },
   {
    "duration": 11,
    "start_time": "2023-01-09T05:36:10.330Z"
   },
   {
    "duration": 8,
    "start_time": "2023-01-09T05:36:10.343Z"
   },
   {
    "duration": 10,
    "start_time": "2023-01-09T05:36:10.353Z"
   },
   {
    "duration": 31,
    "start_time": "2023-01-09T05:36:10.364Z"
   },
   {
    "duration": 8,
    "start_time": "2023-01-09T05:36:10.397Z"
   },
   {
    "duration": 128,
    "start_time": "2023-01-09T05:36:10.407Z"
   },
   {
    "duration": 3,
    "start_time": "2023-01-09T05:36:10.537Z"
   },
   {
    "duration": 7,
    "start_time": "2023-01-09T05:36:10.541Z"
   },
   {
    "duration": 16,
    "start_time": "2023-01-09T05:36:10.550Z"
   },
   {
    "duration": 35,
    "start_time": "2023-01-09T05:36:10.568Z"
   },
   {
    "duration": 192,
    "start_time": "2023-01-09T05:36:10.605Z"
   },
   {
    "duration": 5,
    "start_time": "2023-01-09T05:36:10.799Z"
   },
   {
    "duration": 11,
    "start_time": "2023-01-09T05:36:10.806Z"
   },
   {
    "duration": 14,
    "start_time": "2023-01-09T05:36:10.819Z"
   },
   {
    "duration": 16,
    "start_time": "2023-01-09T05:36:10.834Z"
   },
   {
    "duration": 16,
    "start_time": "2023-01-09T05:36:10.852Z"
   },
   {
    "duration": 25,
    "start_time": "2023-01-09T05:36:10.870Z"
   },
   {
    "duration": 144,
    "start_time": "2023-01-09T05:36:10.898Z"
   },
   {
    "duration": 10,
    "start_time": "2023-01-09T05:36:11.044Z"
   },
   {
    "duration": 17,
    "start_time": "2023-01-09T05:36:11.056Z"
   },
   {
    "duration": 61,
    "start_time": "2023-01-09T05:36:11.074Z"
   },
   {
    "duration": 16,
    "start_time": "2023-01-09T05:36:11.137Z"
   },
   {
    "duration": 24,
    "start_time": "2023-01-09T05:36:11.157Z"
   },
   {
    "duration": 42,
    "start_time": "2023-01-09T05:36:11.182Z"
   },
   {
    "duration": 27,
    "start_time": "2023-01-09T05:36:11.226Z"
   },
   {
    "duration": 41,
    "start_time": "2023-01-09T05:36:11.254Z"
   },
   {
    "duration": 47,
    "start_time": "2023-01-09T05:36:11.297Z"
   },
   {
    "duration": 21,
    "start_time": "2023-01-09T05:36:11.345Z"
   },
   {
    "duration": 42,
    "start_time": "2023-01-09T05:36:11.371Z"
   },
   {
    "duration": 19,
    "start_time": "2023-01-09T05:36:11.414Z"
   },
   {
    "duration": 28,
    "start_time": "2023-01-09T05:36:11.435Z"
   },
   {
    "duration": 109,
    "start_time": "2023-01-09T05:36:11.466Z"
   },
   {
    "duration": 0,
    "start_time": "2023-01-09T05:36:11.583Z"
   },
   {
    "duration": 0,
    "start_time": "2023-01-09T05:36:11.584Z"
   },
   {
    "duration": 0,
    "start_time": "2023-01-09T05:36:11.584Z"
   },
   {
    "duration": 0,
    "start_time": "2023-01-09T05:36:11.585Z"
   },
   {
    "duration": 311,
    "start_time": "2023-01-09T05:39:03.561Z"
   },
   {
    "duration": 20,
    "start_time": "2023-01-09T05:41:53.076Z"
   },
   {
    "duration": 8,
    "start_time": "2023-01-09T05:41:54.364Z"
   },
   {
    "duration": 4,
    "start_time": "2023-01-09T05:43:08.610Z"
   },
   {
    "duration": 6,
    "start_time": "2023-01-09T05:44:14.219Z"
   },
   {
    "duration": 5,
    "start_time": "2023-01-09T05:44:33.709Z"
   },
   {
    "duration": 12,
    "start_time": "2023-01-09T05:46:35.098Z"
   },
   {
    "duration": 7,
    "start_time": "2023-01-09T05:47:07.498Z"
   },
   {
    "duration": 7,
    "start_time": "2023-01-09T05:48:53.030Z"
   },
   {
    "duration": 6,
    "start_time": "2023-01-09T05:48:59.612Z"
   },
   {
    "duration": 6,
    "start_time": "2023-01-09T05:49:14.739Z"
   },
   {
    "duration": 5,
    "start_time": "2023-01-09T05:49:29.651Z"
   },
   {
    "duration": 7,
    "start_time": "2023-01-09T05:49:33.358Z"
   },
   {
    "duration": 10,
    "start_time": "2023-01-09T05:49:40.620Z"
   },
   {
    "duration": 7,
    "start_time": "2023-01-09T05:49:41.496Z"
   },
   {
    "duration": 6,
    "start_time": "2023-01-09T05:49:53.243Z"
   },
   {
    "duration": 5,
    "start_time": "2023-01-09T05:50:30.402Z"
   },
   {
    "duration": 7,
    "start_time": "2023-01-09T05:51:07.696Z"
   },
   {
    "duration": 17,
    "start_time": "2023-01-09T05:51:38.875Z"
   },
   {
    "duration": 4,
    "start_time": "2023-01-09T05:52:16.272Z"
   },
   {
    "duration": 12,
    "start_time": "2023-01-09T05:53:19.373Z"
   },
   {
    "duration": 13,
    "start_time": "2023-01-09T05:53:24.732Z"
   },
   {
    "duration": 4,
    "start_time": "2023-01-09T05:54:06.365Z"
   },
   {
    "duration": 8,
    "start_time": "2023-01-09T05:54:23.569Z"
   },
   {
    "duration": 7,
    "start_time": "2023-01-09T05:54:44.100Z"
   },
   {
    "duration": 3,
    "start_time": "2023-01-09T05:56:38.497Z"
   },
   {
    "duration": 5,
    "start_time": "2023-01-09T05:56:43.317Z"
   },
   {
    "duration": 4,
    "start_time": "2023-01-09T05:59:25.643Z"
   },
   {
    "duration": 8,
    "start_time": "2023-01-09T06:00:08.932Z"
   },
   {
    "duration": 6,
    "start_time": "2023-01-09T06:05:52.917Z"
   },
   {
    "duration": 317,
    "start_time": "2023-01-09T06:07:17.497Z"
   },
   {
    "duration": 297,
    "start_time": "2023-01-09T06:07:29.452Z"
   },
   {
    "duration": 338,
    "start_time": "2023-01-09T06:07:38.802Z"
   },
   {
    "duration": 3,
    "start_time": "2023-01-09T06:07:49.200Z"
   },
   {
    "duration": 11,
    "start_time": "2023-01-09T06:07:50.116Z"
   },
   {
    "duration": 7,
    "start_time": "2023-01-09T06:08:03.911Z"
   },
   {
    "duration": 8,
    "start_time": "2023-01-09T06:12:55.791Z"
   },
   {
    "duration": 6,
    "start_time": "2023-01-09T06:13:28.350Z"
   },
   {
    "duration": 1100,
    "start_time": "2023-01-09T06:20:56.174Z"
   },
   {
    "duration": 11,
    "start_time": "2023-01-09T06:21:12.445Z"
   },
   {
    "duration": 11,
    "start_time": "2023-01-09T06:22:29.421Z"
   },
   {
    "duration": 10,
    "start_time": "2023-01-09T06:22:36.947Z"
   },
   {
    "duration": 4,
    "start_time": "2023-01-09T06:25:34.136Z"
   },
   {
    "duration": 3,
    "start_time": "2023-01-09T06:25:38.127Z"
   },
   {
    "duration": 6,
    "start_time": "2023-01-09T06:25:54.922Z"
   },
   {
    "duration": 2,
    "start_time": "2023-01-09T06:26:01.848Z"
   },
   {
    "duration": 5,
    "start_time": "2023-01-09T06:26:06.620Z"
   },
   {
    "duration": 7,
    "start_time": "2023-01-09T06:27:26.444Z"
   },
   {
    "duration": 7,
    "start_time": "2023-01-09T06:28:06.156Z"
   },
   {
    "duration": 7,
    "start_time": "2023-01-09T06:28:15.717Z"
   },
   {
    "duration": 5,
    "start_time": "2023-01-09T06:28:43.420Z"
   },
   {
    "duration": 1151,
    "start_time": "2023-01-09T06:29:04.326Z"
   },
   {
    "duration": 6,
    "start_time": "2023-01-09T07:08:42.812Z"
   },
   {
    "duration": 3,
    "start_time": "2023-01-09T07:08:49.642Z"
   },
   {
    "duration": 13,
    "start_time": "2023-01-09T07:09:27.107Z"
   },
   {
    "duration": 5,
    "start_time": "2023-01-09T07:09:39.316Z"
   },
   {
    "duration": 12,
    "start_time": "2023-01-09T07:13:05.419Z"
   },
   {
    "duration": 48,
    "start_time": "2023-01-09T14:33:03.199Z"
   },
   {
    "duration": 544,
    "start_time": "2023-01-09T14:33:18.168Z"
   },
   {
    "duration": 23,
    "start_time": "2023-01-09T14:33:18.714Z"
   },
   {
    "duration": 15,
    "start_time": "2023-01-09T14:33:18.739Z"
   },
   {
    "duration": 29,
    "start_time": "2023-01-09T14:33:18.756Z"
   },
   {
    "duration": 39,
    "start_time": "2023-01-09T14:33:18.787Z"
   },
   {
    "duration": 4,
    "start_time": "2023-01-09T14:33:18.828Z"
   },
   {
    "duration": 19,
    "start_time": "2023-01-09T14:33:18.833Z"
   },
   {
    "duration": 5,
    "start_time": "2023-01-09T14:33:18.856Z"
   },
   {
    "duration": 14,
    "start_time": "2023-01-09T14:33:18.878Z"
   },
   {
    "duration": 6,
    "start_time": "2023-01-09T14:33:18.895Z"
   },
   {
    "duration": 46,
    "start_time": "2023-01-09T14:33:18.903Z"
   },
   {
    "duration": 30,
    "start_time": "2023-01-09T14:33:18.951Z"
   },
   {
    "duration": 6,
    "start_time": "2023-01-09T14:33:18.983Z"
   },
   {
    "duration": 22,
    "start_time": "2023-01-09T14:33:18.991Z"
   },
   {
    "duration": 32,
    "start_time": "2023-01-09T14:33:19.015Z"
   },
   {
    "duration": 40,
    "start_time": "2023-01-09T14:33:19.049Z"
   },
   {
    "duration": 4,
    "start_time": "2023-01-09T14:33:19.092Z"
   },
   {
    "duration": 41,
    "start_time": "2023-01-09T14:33:19.098Z"
   },
   {
    "duration": 14,
    "start_time": "2023-01-09T14:33:19.141Z"
   },
   {
    "duration": 4,
    "start_time": "2023-01-09T14:33:19.157Z"
   },
   {
    "duration": 21,
    "start_time": "2023-01-09T14:33:19.164Z"
   },
   {
    "duration": 921,
    "start_time": "2023-01-09T14:33:19.187Z"
   },
   {
    "duration": 8,
    "start_time": "2023-01-09T14:33:20.109Z"
   },
   {
    "duration": 8,
    "start_time": "2023-01-09T14:33:20.119Z"
   },
   {
    "duration": 7,
    "start_time": "2023-01-09T14:33:20.129Z"
   },
   {
    "duration": 5,
    "start_time": "2023-01-09T14:33:20.137Z"
   },
   {
    "duration": 35,
    "start_time": "2023-01-09T14:33:20.143Z"
   },
   {
    "duration": 5,
    "start_time": "2023-01-09T14:33:20.182Z"
   },
   {
    "duration": 9,
    "start_time": "2023-01-09T14:33:20.188Z"
   },
   {
    "duration": 8,
    "start_time": "2023-01-09T14:33:20.199Z"
   },
   {
    "duration": 6,
    "start_time": "2023-01-09T14:33:20.209Z"
   },
   {
    "duration": 6,
    "start_time": "2023-01-09T14:33:20.216Z"
   },
   {
    "duration": 8,
    "start_time": "2023-01-09T14:33:20.224Z"
   },
   {
    "duration": 11,
    "start_time": "2023-01-09T14:33:20.233Z"
   },
   {
    "duration": 4,
    "start_time": "2023-01-09T14:33:20.277Z"
   },
   {
    "duration": 8,
    "start_time": "2023-01-09T14:33:20.283Z"
   },
   {
    "duration": 6,
    "start_time": "2023-01-09T14:33:20.293Z"
   },
   {
    "duration": 8,
    "start_time": "2023-01-09T14:33:20.300Z"
   },
   {
    "duration": 6,
    "start_time": "2023-01-09T14:33:20.309Z"
   },
   {
    "duration": 138,
    "start_time": "2023-01-09T14:33:20.316Z"
   },
   {
    "duration": 3,
    "start_time": "2023-01-09T14:33:20.456Z"
   },
   {
    "duration": 6,
    "start_time": "2023-01-09T14:33:20.461Z"
   },
   {
    "duration": 13,
    "start_time": "2023-01-09T14:33:20.478Z"
   },
   {
    "duration": 20,
    "start_time": "2023-01-09T14:33:20.492Z"
   },
   {
    "duration": 155,
    "start_time": "2023-01-09T14:33:20.514Z"
   },
   {
    "duration": 5,
    "start_time": "2023-01-09T14:33:20.677Z"
   },
   {
    "duration": 12,
    "start_time": "2023-01-09T14:33:20.684Z"
   },
   {
    "duration": 9,
    "start_time": "2023-01-09T14:33:20.698Z"
   },
   {
    "duration": 12,
    "start_time": "2023-01-09T14:33:20.709Z"
   },
   {
    "duration": 5,
    "start_time": "2023-01-09T14:33:20.723Z"
   },
   {
    "duration": 11,
    "start_time": "2023-01-09T14:33:20.730Z"
   },
   {
    "duration": 204,
    "start_time": "2023-01-09T14:33:20.742Z"
   },
   {
    "duration": 11,
    "start_time": "2023-01-09T14:33:20.948Z"
   },
   {
    "duration": 19,
    "start_time": "2023-01-09T14:33:20.961Z"
   },
   {
    "duration": 25,
    "start_time": "2023-01-09T14:33:20.982Z"
   },
   {
    "duration": 20,
    "start_time": "2023-01-09T14:33:21.009Z"
   },
   {
    "duration": 12,
    "start_time": "2023-01-09T14:33:21.031Z"
   },
   {
    "duration": 7,
    "start_time": "2023-01-09T14:33:21.045Z"
   },
   {
    "duration": 5,
    "start_time": "2023-01-09T14:33:21.054Z"
   },
   {
    "duration": 25,
    "start_time": "2023-01-09T14:33:21.060Z"
   },
   {
    "duration": 13,
    "start_time": "2023-01-09T14:33:21.087Z"
   },
   {
    "duration": 3,
    "start_time": "2023-01-09T14:33:21.101Z"
   },
   {
    "duration": 13,
    "start_time": "2023-01-09T14:33:21.105Z"
   },
   {
    "duration": 4,
    "start_time": "2023-01-09T14:33:21.119Z"
   },
   {
    "duration": 5,
    "start_time": "2023-01-09T14:33:21.124Z"
   },
   {
    "duration": 4,
    "start_time": "2023-01-09T14:33:21.131Z"
   },
   {
    "duration": 257,
    "start_time": "2023-01-09T14:33:21.137Z"
   },
   {
    "duration": 0,
    "start_time": "2023-01-09T14:33:21.395Z"
   },
   {
    "duration": 0,
    "start_time": "2023-01-09T14:33:21.397Z"
   },
   {
    "duration": 0,
    "start_time": "2023-01-09T14:33:21.398Z"
   },
   {
    "duration": 135,
    "start_time": "2023-01-09T14:33:50.669Z"
   },
   {
    "duration": 211,
    "start_time": "2023-01-09T14:35:18.329Z"
   },
   {
    "duration": 1032,
    "start_time": "2023-01-09T14:35:27.206Z"
   },
   {
    "duration": 137,
    "start_time": "2023-01-09T14:38:25.921Z"
   },
   {
    "duration": 966,
    "start_time": "2023-01-09T14:44:39.161Z"
   },
   {
    "duration": 20,
    "start_time": "2023-01-09T14:44:49.512Z"
   },
   {
    "duration": 2287,
    "start_time": "2023-01-09T14:53:46.683Z"
   },
   {
    "duration": 2621,
    "start_time": "2023-01-09T14:54:07.936Z"
   },
   {
    "duration": 2173,
    "start_time": "2023-01-09T14:54:19.452Z"
   },
   {
    "duration": 2152,
    "start_time": "2023-01-09T14:54:34.878Z"
   },
   {
    "duration": 2296,
    "start_time": "2023-01-09T14:54:46.635Z"
   },
   {
    "duration": 2451,
    "start_time": "2023-01-09T14:55:16.006Z"
   },
   {
    "duration": 2472,
    "start_time": "2023-01-09T14:55:26.356Z"
   },
   {
    "duration": 7,
    "start_time": "2023-01-09T14:57:57.270Z"
   },
   {
    "duration": 6,
    "start_time": "2023-01-09T14:58:19.507Z"
   },
   {
    "duration": 5,
    "start_time": "2023-01-09T14:58:26.744Z"
   },
   {
    "duration": 6,
    "start_time": "2023-01-09T14:58:35.847Z"
   },
   {
    "duration": 6,
    "start_time": "2023-01-09T14:58:45.432Z"
   },
   {
    "duration": 10,
    "start_time": "2023-01-09T14:59:10.434Z"
   },
   {
    "duration": 10,
    "start_time": "2023-01-09T14:59:17.444Z"
   },
   {
    "duration": 11,
    "start_time": "2023-01-09T14:59:21.466Z"
   },
   {
    "duration": 13,
    "start_time": "2023-01-09T14:59:28.793Z"
   },
   {
    "duration": 5,
    "start_time": "2023-01-09T14:59:38.403Z"
   },
   {
    "duration": 6,
    "start_time": "2023-01-09T14:59:44.868Z"
   },
   {
    "duration": 6,
    "start_time": "2023-01-09T15:01:06.909Z"
   },
   {
    "duration": 6,
    "start_time": "2023-01-09T15:01:17.016Z"
   },
   {
    "duration": 6,
    "start_time": "2023-01-09T15:01:46.155Z"
   },
   {
    "duration": 4,
    "start_time": "2023-01-09T15:02:01.282Z"
   },
   {
    "duration": 11,
    "start_time": "2023-01-09T15:02:39.135Z"
   },
   {
    "duration": 12,
    "start_time": "2023-01-09T15:02:57.819Z"
   },
   {
    "duration": 4,
    "start_time": "2023-01-09T15:03:52.802Z"
   },
   {
    "duration": 5,
    "start_time": "2023-01-09T15:04:07.359Z"
   },
   {
    "duration": 3,
    "start_time": "2023-01-09T15:04:22.338Z"
   },
   {
    "duration": 4,
    "start_time": "2023-01-09T15:04:26.610Z"
   },
   {
    "duration": 7,
    "start_time": "2023-01-09T15:06:19.549Z"
   },
   {
    "duration": 6,
    "start_time": "2023-01-09T15:06:35.117Z"
   },
   {
    "duration": 6,
    "start_time": "2023-01-09T15:06:46.213Z"
   },
   {
    "duration": 6,
    "start_time": "2023-01-09T15:07:14.802Z"
   },
   {
    "duration": 6,
    "start_time": "2023-01-09T15:07:24.755Z"
   },
   {
    "duration": 7,
    "start_time": "2023-01-09T15:07:36.573Z"
   },
   {
    "duration": 5,
    "start_time": "2023-01-09T15:07:42.599Z"
   },
   {
    "duration": 6,
    "start_time": "2023-01-09T15:08:21.047Z"
   },
   {
    "duration": 6,
    "start_time": "2023-01-09T15:08:26.468Z"
   },
   {
    "duration": 14,
    "start_time": "2023-01-09T15:09:46.663Z"
   },
   {
    "duration": 8,
    "start_time": "2023-01-09T15:11:11.244Z"
   },
   {
    "duration": 14,
    "start_time": "2023-01-09T15:12:48.478Z"
   },
   {
    "duration": 11,
    "start_time": "2023-01-09T15:16:33.420Z"
   },
   {
    "duration": 8,
    "start_time": "2023-01-09T15:16:49.741Z"
   },
   {
    "duration": 12,
    "start_time": "2023-01-09T15:17:00.093Z"
   },
   {
    "duration": 4,
    "start_time": "2023-01-09T15:17:45.347Z"
   },
   {
    "duration": 7,
    "start_time": "2023-01-09T15:18:10.689Z"
   },
   {
    "duration": 8,
    "start_time": "2023-01-09T15:19:17.551Z"
   },
   {
    "duration": 9,
    "start_time": "2023-01-09T15:22:41.987Z"
   },
   {
    "duration": 10,
    "start_time": "2023-01-09T15:24:14.186Z"
   },
   {
    "duration": 425,
    "start_time": "2023-01-09T15:24:36.325Z"
   },
   {
    "duration": 10,
    "start_time": "2023-01-09T15:24:53.325Z"
   },
   {
    "duration": 8,
    "start_time": "2023-01-09T15:25:05.328Z"
   },
   {
    "duration": 6,
    "start_time": "2023-01-09T15:25:40.211Z"
   },
   {
    "duration": 6,
    "start_time": "2023-01-09T15:29:41.665Z"
   },
   {
    "duration": 9,
    "start_time": "2023-01-09T15:32:24.706Z"
   },
   {
    "duration": 5,
    "start_time": "2023-01-09T15:32:32.570Z"
   },
   {
    "duration": 5,
    "start_time": "2023-01-09T15:32:33.085Z"
   },
   {
    "duration": 4,
    "start_time": "2023-01-09T15:32:33.753Z"
   },
   {
    "duration": 6,
    "start_time": "2023-01-09T15:37:02.463Z"
   },
   {
    "duration": 11,
    "start_time": "2023-01-09T15:37:11.205Z"
   },
   {
    "duration": 10,
    "start_time": "2023-01-09T15:38:18.311Z"
   },
   {
    "duration": 8,
    "start_time": "2023-01-09T15:38:52.172Z"
   },
   {
    "duration": 11,
    "start_time": "2023-01-09T15:39:01.249Z"
   },
   {
    "duration": 6,
    "start_time": "2023-01-09T15:39:55.709Z"
   },
   {
    "duration": 6,
    "start_time": "2023-01-09T15:44:30.823Z"
   },
   {
    "duration": 13,
    "start_time": "2023-01-09T15:44:57.422Z"
   },
   {
    "duration": 3,
    "start_time": "2023-01-09T15:46:21.261Z"
   },
   {
    "duration": 5,
    "start_time": "2023-01-09T15:47:28.529Z"
   },
   {
    "duration": 3,
    "start_time": "2023-01-09T15:47:33.140Z"
   },
   {
    "duration": 4,
    "start_time": "2023-01-09T15:47:46.311Z"
   },
   {
    "duration": 5,
    "start_time": "2023-01-09T15:48:38.148Z"
   },
   {
    "duration": 18,
    "start_time": "2023-01-09T15:49:48.861Z"
   },
   {
    "duration": 55,
    "start_time": "2023-01-09T15:50:38.754Z"
   },
   {
    "duration": 45,
    "start_time": "2023-01-09T15:50:57.794Z"
   },
   {
    "duration": 45,
    "start_time": "2023-01-09T15:51:07.812Z"
   },
   {
    "duration": 3,
    "start_time": "2023-01-09T15:51:17.099Z"
   },
   {
    "duration": 6,
    "start_time": "2023-01-09T15:51:21.737Z"
   },
   {
    "duration": 304,
    "start_time": "2023-01-09T15:51:27.541Z"
   },
   {
    "duration": 7,
    "start_time": "2023-01-09T17:15:01.912Z"
   },
   {
    "duration": 4,
    "start_time": "2023-01-09T17:15:07.797Z"
   },
   {
    "duration": 6,
    "start_time": "2023-01-09T17:15:56.719Z"
   },
   {
    "duration": 8,
    "start_time": "2023-01-09T17:18:04.402Z"
   },
   {
    "duration": 7,
    "start_time": "2023-01-09T17:18:24.151Z"
   },
   {
    "duration": 106,
    "start_time": "2023-01-09T17:19:13.913Z"
   },
   {
    "duration": 10,
    "start_time": "2023-01-09T17:19:26.049Z"
   },
   {
    "duration": 8,
    "start_time": "2023-01-09T17:50:48.747Z"
   },
   {
    "duration": 48,
    "start_time": "2023-01-10T02:48:36.921Z"
   },
   {
    "duration": 6,
    "start_time": "2023-01-10T02:48:52.993Z"
   },
   {
    "duration": 1030,
    "start_time": "2023-01-10T02:49:02.228Z"
   },
   {
    "duration": 21,
    "start_time": "2023-01-10T02:49:03.259Z"
   },
   {
    "duration": 14,
    "start_time": "2023-01-10T02:49:03.282Z"
   },
   {
    "duration": 9,
    "start_time": "2023-01-10T02:49:03.298Z"
   },
   {
    "duration": 36,
    "start_time": "2023-01-10T02:49:03.309Z"
   },
   {
    "duration": 4,
    "start_time": "2023-01-10T02:49:03.346Z"
   },
   {
    "duration": 12,
    "start_time": "2023-01-10T02:49:03.351Z"
   },
   {
    "duration": 4,
    "start_time": "2023-01-10T02:49:03.364Z"
   },
   {
    "duration": 29,
    "start_time": "2023-01-10T02:49:03.370Z"
   },
   {
    "duration": 5,
    "start_time": "2023-01-10T02:49:03.401Z"
   },
   {
    "duration": 38,
    "start_time": "2023-01-10T02:49:03.407Z"
   },
   {
    "duration": 9,
    "start_time": "2023-01-10T02:49:03.447Z"
   },
   {
    "duration": 12,
    "start_time": "2023-01-10T02:49:03.457Z"
   },
   {
    "duration": 26,
    "start_time": "2023-01-10T02:49:03.472Z"
   },
   {
    "duration": 69,
    "start_time": "2023-01-10T02:49:03.499Z"
   },
   {
    "duration": 18,
    "start_time": "2023-01-10T02:49:03.569Z"
   },
   {
    "duration": 12,
    "start_time": "2023-01-10T02:49:03.588Z"
   },
   {
    "duration": 27,
    "start_time": "2023-01-10T02:49:03.601Z"
   },
   {
    "duration": 50,
    "start_time": "2023-01-10T02:49:03.630Z"
   },
   {
    "duration": 36,
    "start_time": "2023-01-10T02:49:03.682Z"
   },
   {
    "duration": 42,
    "start_time": "2023-01-10T02:49:03.720Z"
   },
   {
    "duration": 906,
    "start_time": "2023-01-10T02:49:03.763Z"
   },
   {
    "duration": 6,
    "start_time": "2023-01-10T02:49:04.671Z"
   },
   {
    "duration": 17,
    "start_time": "2023-01-10T02:49:04.679Z"
   },
   {
    "duration": 5,
    "start_time": "2023-01-10T02:49:04.697Z"
   },
   {
    "duration": 7,
    "start_time": "2023-01-10T02:49:04.704Z"
   },
   {
    "duration": 11,
    "start_time": "2023-01-10T02:49:04.712Z"
   },
   {
    "duration": 4,
    "start_time": "2023-01-10T02:49:04.725Z"
   },
   {
    "duration": 7,
    "start_time": "2023-01-10T02:49:04.730Z"
   },
   {
    "duration": 8,
    "start_time": "2023-01-10T02:49:04.739Z"
   },
   {
    "duration": 6,
    "start_time": "2023-01-10T02:49:04.749Z"
   },
   {
    "duration": 6,
    "start_time": "2023-01-10T02:49:04.756Z"
   },
   {
    "duration": 36,
    "start_time": "2023-01-10T02:49:04.764Z"
   },
   {
    "duration": 10,
    "start_time": "2023-01-10T02:49:04.802Z"
   },
   {
    "duration": 4,
    "start_time": "2023-01-10T02:49:04.813Z"
   },
   {
    "duration": 6,
    "start_time": "2023-01-10T02:49:04.818Z"
   },
   {
    "duration": 9,
    "start_time": "2023-01-10T02:49:04.825Z"
   },
   {
    "duration": 6,
    "start_time": "2023-01-10T02:49:04.835Z"
   },
   {
    "duration": 8,
    "start_time": "2023-01-10T02:49:04.843Z"
   },
   {
    "duration": 127,
    "start_time": "2023-01-10T02:49:04.853Z"
   },
   {
    "duration": 11,
    "start_time": "2023-01-10T02:49:04.985Z"
   },
   {
    "duration": 2,
    "start_time": "2023-01-10T02:49:04.999Z"
   },
   {
    "duration": 9,
    "start_time": "2023-01-10T02:49:05.003Z"
   },
   {
    "duration": 9,
    "start_time": "2023-01-10T02:49:05.014Z"
   },
   {
    "duration": 156,
    "start_time": "2023-01-10T02:49:05.025Z"
   },
   {
    "duration": 18,
    "start_time": "2023-01-10T02:49:05.184Z"
   },
   {
    "duration": 17,
    "start_time": "2023-01-10T02:49:05.204Z"
   },
   {
    "duration": 10,
    "start_time": "2023-01-10T02:49:05.222Z"
   },
   {
    "duration": 12,
    "start_time": "2023-01-10T02:49:05.234Z"
   },
   {
    "duration": 6,
    "start_time": "2023-01-10T02:49:05.248Z"
   },
   {
    "duration": 10,
    "start_time": "2023-01-10T02:49:05.255Z"
   },
   {
    "duration": 136,
    "start_time": "2023-01-10T02:49:05.296Z"
   },
   {
    "duration": 9,
    "start_time": "2023-01-10T02:49:05.433Z"
   },
   {
    "duration": 8,
    "start_time": "2023-01-10T02:49:05.443Z"
   },
   {
    "duration": 15,
    "start_time": "2023-01-10T02:49:05.453Z"
   },
   {
    "duration": 13,
    "start_time": "2023-01-10T02:49:05.469Z"
   },
   {
    "duration": 19,
    "start_time": "2023-01-10T02:49:05.484Z"
   },
   {
    "duration": 7,
    "start_time": "2023-01-10T02:49:05.505Z"
   },
   {
    "duration": 4,
    "start_time": "2023-01-10T02:49:05.514Z"
   },
   {
    "duration": 14,
    "start_time": "2023-01-10T02:49:05.520Z"
   },
   {
    "duration": 14,
    "start_time": "2023-01-10T02:49:05.536Z"
   },
   {
    "duration": 2,
    "start_time": "2023-01-10T02:49:05.552Z"
   },
   {
    "duration": 47,
    "start_time": "2023-01-10T02:49:05.556Z"
   },
   {
    "duration": 5,
    "start_time": "2023-01-10T02:49:05.604Z"
   },
   {
    "duration": 50,
    "start_time": "2023-01-10T02:49:05.611Z"
   },
   {
    "duration": 0,
    "start_time": "2023-01-10T02:49:05.663Z"
   },
   {
    "duration": 0,
    "start_time": "2023-01-10T02:49:05.665Z"
   },
   {
    "duration": 0,
    "start_time": "2023-01-10T02:49:05.666Z"
   },
   {
    "duration": 0,
    "start_time": "2023-01-10T02:49:05.668Z"
   },
   {
    "duration": 0,
    "start_time": "2023-01-10T02:49:05.669Z"
   },
   {
    "duration": 1,
    "start_time": "2023-01-10T02:49:05.670Z"
   },
   {
    "duration": 0,
    "start_time": "2023-01-10T02:49:05.672Z"
   },
   {
    "duration": 0,
    "start_time": "2023-01-10T02:49:05.673Z"
   },
   {
    "duration": 0,
    "start_time": "2023-01-10T02:49:05.674Z"
   },
   {
    "duration": 0,
    "start_time": "2023-01-10T02:49:05.676Z"
   },
   {
    "duration": 0,
    "start_time": "2023-01-10T02:49:05.677Z"
   },
   {
    "duration": 0,
    "start_time": "2023-01-10T02:49:05.678Z"
   },
   {
    "duration": 0,
    "start_time": "2023-01-10T02:49:05.679Z"
   },
   {
    "duration": 0,
    "start_time": "2023-01-10T02:49:05.680Z"
   },
   {
    "duration": 97,
    "start_time": "2023-01-10T02:49:20.917Z"
   },
   {
    "duration": 11,
    "start_time": "2023-01-10T02:49:35.924Z"
   },
   {
    "duration": 8,
    "start_time": "2023-01-10T02:49:40.583Z"
   },
   {
    "duration": 9,
    "start_time": "2023-01-10T02:49:44.778Z"
   },
   {
    "duration": 5,
    "start_time": "2023-01-10T02:50:32.340Z"
   },
   {
    "duration": 6,
    "start_time": "2023-01-10T02:50:48.058Z"
   },
   {
    "duration": 8,
    "start_time": "2023-01-10T02:50:51.714Z"
   },
   {
    "duration": 45,
    "start_time": "2023-01-10T02:52:45.762Z"
   },
   {
    "duration": 53,
    "start_time": "2023-01-10T02:53:06.131Z"
   },
   {
    "duration": 4,
    "start_time": "2023-01-10T03:04:47.879Z"
   },
   {
    "duration": 9,
    "start_time": "2023-01-10T03:04:55.003Z"
   },
   {
    "duration": 45,
    "start_time": "2023-01-10T03:06:03.483Z"
   },
   {
    "duration": 3,
    "start_time": "2023-01-10T03:06:13.816Z"
   },
   {
    "duration": 6,
    "start_time": "2023-01-10T03:06:17.124Z"
   },
   {
    "duration": 8,
    "start_time": "2023-01-10T03:13:42.495Z"
   },
   {
    "duration": 8,
    "start_time": "2023-01-10T03:14:19.342Z"
   },
   {
    "duration": 8,
    "start_time": "2023-01-10T03:15:01.144Z"
   },
   {
    "duration": 5,
    "start_time": "2023-01-10T03:16:23.779Z"
   },
   {
    "duration": 7,
    "start_time": "2023-01-10T03:16:59.439Z"
   },
   {
    "duration": 705,
    "start_time": "2023-01-10T03:17:19.907Z"
   },
   {
    "duration": 560,
    "start_time": "2023-01-10T03:17:34.013Z"
   },
   {
    "duration": 606,
    "start_time": "2023-01-10T03:18:12.049Z"
   },
   {
    "duration": 9,
    "start_time": "2023-01-10T03:18:23.423Z"
   },
   {
    "duration": 8,
    "start_time": "2023-01-10T03:18:25.092Z"
   },
   {
    "duration": 5,
    "start_time": "2023-01-10T03:18:27.463Z"
   },
   {
    "duration": 4,
    "start_time": "2023-01-10T03:19:44.577Z"
   },
   {
    "duration": 5,
    "start_time": "2023-01-10T03:19:52.710Z"
   },
   {
    "duration": 10,
    "start_time": "2023-01-10T03:20:44.012Z"
   },
   {
    "duration": 6,
    "start_time": "2023-01-10T03:20:51.721Z"
   },
   {
    "duration": 11,
    "start_time": "2023-01-10T03:24:07.989Z"
   },
   {
    "duration": 8,
    "start_time": "2023-01-10T03:27:55.428Z"
   },
   {
    "duration": 7,
    "start_time": "2023-01-10T03:28:44.318Z"
   },
   {
    "duration": 7,
    "start_time": "2023-01-10T03:29:24.652Z"
   },
   {
    "duration": 8,
    "start_time": "2023-01-10T03:34:12.716Z"
   },
   {
    "duration": 11,
    "start_time": "2023-01-10T03:35:17.805Z"
   },
   {
    "duration": 9,
    "start_time": "2023-01-10T03:53:00.755Z"
   },
   {
    "duration": 9,
    "start_time": "2023-01-10T03:53:57.078Z"
   },
   {
    "duration": 15,
    "start_time": "2023-01-10T03:58:32.548Z"
   },
   {
    "duration": 10,
    "start_time": "2023-01-10T03:58:52.072Z"
   },
   {
    "duration": 15,
    "start_time": "2023-01-10T03:59:23.376Z"
   },
   {
    "duration": 19,
    "start_time": "2023-01-10T03:59:29.895Z"
   },
   {
    "duration": 10,
    "start_time": "2023-01-10T03:59:39.376Z"
   },
   {
    "duration": 11,
    "start_time": "2023-01-10T04:03:33.598Z"
   },
   {
    "duration": 9,
    "start_time": "2023-01-10T04:07:41.211Z"
   },
   {
    "duration": 5,
    "start_time": "2023-01-10T04:07:57.601Z"
   },
   {
    "duration": 4,
    "start_time": "2023-01-10T04:08:06.093Z"
   },
   {
    "duration": 5,
    "start_time": "2023-01-10T04:08:21.491Z"
   },
   {
    "duration": 6,
    "start_time": "2023-01-10T04:08:24.814Z"
   },
   {
    "duration": 6,
    "start_time": "2023-01-10T04:08:32.549Z"
   },
   {
    "duration": 4,
    "start_time": "2023-01-10T04:08:43.826Z"
   },
   {
    "duration": 5,
    "start_time": "2023-01-10T04:11:32.936Z"
   },
   {
    "duration": 6,
    "start_time": "2023-01-10T04:12:16.051Z"
   },
   {
    "duration": 9,
    "start_time": "2023-01-10T04:13:55.559Z"
   },
   {
    "duration": 4,
    "start_time": "2023-01-10T04:14:38.687Z"
   },
   {
    "duration": 4,
    "start_time": "2023-01-10T04:15:41.627Z"
   },
   {
    "duration": 4,
    "start_time": "2023-01-10T04:16:02.385Z"
   },
   {
    "duration": 5,
    "start_time": "2023-01-10T04:16:15.568Z"
   },
   {
    "duration": 63,
    "start_time": "2023-01-10T04:16:39.637Z"
   },
   {
    "duration": 6,
    "start_time": "2023-01-10T04:16:46.037Z"
   },
   {
    "duration": 181,
    "start_time": "2023-01-10T04:21:30.262Z"
   },
   {
    "duration": 477,
    "start_time": "2023-01-10T04:21:45.827Z"
   },
   {
    "duration": 22,
    "start_time": "2023-01-10T04:21:46.305Z"
   },
   {
    "duration": 15,
    "start_time": "2023-01-10T04:21:46.329Z"
   },
   {
    "duration": 9,
    "start_time": "2023-01-10T04:21:46.345Z"
   },
   {
    "duration": 48,
    "start_time": "2023-01-10T04:21:46.356Z"
   },
   {
    "duration": 3,
    "start_time": "2023-01-10T04:21:46.406Z"
   },
   {
    "duration": 14,
    "start_time": "2023-01-10T04:21:46.411Z"
   },
   {
    "duration": 4,
    "start_time": "2023-01-10T04:21:46.427Z"
   },
   {
    "duration": 13,
    "start_time": "2023-01-10T04:21:46.432Z"
   },
   {
    "duration": 4,
    "start_time": "2023-01-10T04:21:46.447Z"
   },
   {
    "duration": 49,
    "start_time": "2023-01-10T04:21:46.453Z"
   },
   {
    "duration": 9,
    "start_time": "2023-01-10T04:21:46.503Z"
   },
   {
    "duration": 4,
    "start_time": "2023-01-10T04:21:46.514Z"
   },
   {
    "duration": 12,
    "start_time": "2023-01-10T04:21:46.521Z"
   },
   {
    "duration": 25,
    "start_time": "2023-01-10T04:21:46.534Z"
   },
   {
    "duration": 35,
    "start_time": "2023-01-10T04:21:46.561Z"
   },
   {
    "duration": 4,
    "start_time": "2023-01-10T04:21:46.598Z"
   },
   {
    "duration": 30,
    "start_time": "2023-01-10T04:21:46.603Z"
   },
   {
    "duration": 14,
    "start_time": "2023-01-10T04:21:46.634Z"
   },
   {
    "duration": 16,
    "start_time": "2023-01-10T04:21:46.649Z"
   },
   {
    "duration": 11,
    "start_time": "2023-01-10T04:21:46.667Z"
   },
   {
    "duration": 704,
    "start_time": "2023-01-10T04:21:46.680Z"
   },
   {
    "duration": 11,
    "start_time": "2023-01-10T04:21:47.386Z"
   },
   {
    "duration": 5,
    "start_time": "2023-01-10T04:21:47.398Z"
   },
   {
    "duration": 6,
    "start_time": "2023-01-10T04:21:47.404Z"
   },
   {
    "duration": 6,
    "start_time": "2023-01-10T04:21:47.411Z"
   },
   {
    "duration": 10,
    "start_time": "2023-01-10T04:21:47.418Z"
   },
   {
    "duration": 4,
    "start_time": "2023-01-10T04:21:47.429Z"
   },
   {
    "duration": 10,
    "start_time": "2023-01-10T04:21:47.434Z"
   },
   {
    "duration": 6,
    "start_time": "2023-01-10T04:21:47.446Z"
   },
   {
    "duration": 5,
    "start_time": "2023-01-10T04:21:47.454Z"
   },
   {
    "duration": 36,
    "start_time": "2023-01-10T04:21:47.461Z"
   },
   {
    "duration": 5,
    "start_time": "2023-01-10T04:21:47.499Z"
   },
   {
    "duration": 11,
    "start_time": "2023-01-10T04:21:47.505Z"
   },
   {
    "duration": 3,
    "start_time": "2023-01-10T04:21:47.518Z"
   },
   {
    "duration": 7,
    "start_time": "2023-01-10T04:21:47.523Z"
   },
   {
    "duration": 6,
    "start_time": "2023-01-10T04:21:47.531Z"
   },
   {
    "duration": 7,
    "start_time": "2023-01-10T04:21:47.538Z"
   },
   {
    "duration": 6,
    "start_time": "2023-01-10T04:21:47.546Z"
   },
   {
    "duration": 143,
    "start_time": "2023-01-10T04:21:47.554Z"
   },
   {
    "duration": 3,
    "start_time": "2023-01-10T04:21:47.701Z"
   },
   {
    "duration": 8,
    "start_time": "2023-01-10T04:21:47.705Z"
   },
   {
    "duration": 8,
    "start_time": "2023-01-10T04:21:47.715Z"
   },
   {
    "duration": 18,
    "start_time": "2023-01-10T04:21:47.725Z"
   },
   {
    "duration": 131,
    "start_time": "2023-01-10T04:21:47.744Z"
   },
   {
    "duration": 6,
    "start_time": "2023-01-10T04:21:47.876Z"
   },
   {
    "duration": 11,
    "start_time": "2023-01-10T04:21:47.896Z"
   },
   {
    "duration": 18,
    "start_time": "2023-01-10T04:21:47.909Z"
   },
   {
    "duration": 25,
    "start_time": "2023-01-10T04:21:47.929Z"
   },
   {
    "duration": 6,
    "start_time": "2023-01-10T04:21:47.955Z"
   },
   {
    "duration": 10,
    "start_time": "2023-01-10T04:21:47.963Z"
   },
   {
    "duration": 148,
    "start_time": "2023-01-10T04:21:47.975Z"
   },
   {
    "duration": 7,
    "start_time": "2023-01-10T04:21:48.124Z"
   },
   {
    "duration": 5,
    "start_time": "2023-01-10T04:21:48.133Z"
   },
   {
    "duration": 22,
    "start_time": "2023-01-10T04:21:48.140Z"
   },
   {
    "duration": 9,
    "start_time": "2023-01-10T04:21:48.163Z"
   },
   {
    "duration": 8,
    "start_time": "2023-01-10T04:21:48.197Z"
   },
   {
    "duration": 10,
    "start_time": "2023-01-10T04:21:48.207Z"
   },
   {
    "duration": 5,
    "start_time": "2023-01-10T04:21:48.218Z"
   },
   {
    "duration": 14,
    "start_time": "2023-01-10T04:21:48.224Z"
   },
   {
    "duration": 2,
    "start_time": "2023-01-10T04:21:48.240Z"
   },
   {
    "duration": 12,
    "start_time": "2023-01-10T04:21:48.244Z"
   },
   {
    "duration": 4,
    "start_time": "2023-01-10T04:21:48.257Z"
   },
   {
    "duration": 7,
    "start_time": "2023-01-10T04:21:48.263Z"
   },
   {
    "duration": 3,
    "start_time": "2023-01-10T04:21:48.297Z"
   },
   {
    "duration": 1989,
    "start_time": "2023-01-10T04:21:48.302Z"
   },
   {
    "duration": 6,
    "start_time": "2023-01-10T04:21:50.296Z"
   },
   {
    "duration": 15,
    "start_time": "2023-01-10T04:21:50.303Z"
   },
   {
    "duration": 9,
    "start_time": "2023-01-10T04:21:50.319Z"
   },
   {
    "duration": 47,
    "start_time": "2023-01-10T04:21:50.330Z"
   },
   {
    "duration": 8,
    "start_time": "2023-01-10T04:21:50.379Z"
   },
   {
    "duration": 7,
    "start_time": "2023-01-10T04:21:50.389Z"
   },
   {
    "duration": 92,
    "start_time": "2023-01-10T04:21:50.397Z"
   },
   {
    "duration": 0,
    "start_time": "2023-01-10T04:21:50.490Z"
   },
   {
    "duration": 0,
    "start_time": "2023-01-10T04:21:50.492Z"
   },
   {
    "duration": 0,
    "start_time": "2023-01-10T04:21:50.496Z"
   },
   {
    "duration": 0,
    "start_time": "2023-01-10T04:21:50.497Z"
   },
   {
    "duration": 0,
    "start_time": "2023-01-10T04:21:50.498Z"
   },
   {
    "duration": 0,
    "start_time": "2023-01-10T04:21:50.499Z"
   },
   {
    "duration": 0,
    "start_time": "2023-01-10T04:21:50.500Z"
   },
   {
    "duration": 0,
    "start_time": "2023-01-10T04:21:50.501Z"
   },
   {
    "duration": 0,
    "start_time": "2023-01-10T04:21:50.502Z"
   },
   {
    "duration": 5,
    "start_time": "2023-01-10T04:33:33.265Z"
   },
   {
    "duration": 6,
    "start_time": "2023-01-10T04:35:42.267Z"
   },
   {
    "duration": 9,
    "start_time": "2023-01-10T04:36:17.469Z"
   },
   {
    "duration": 6,
    "start_time": "2023-01-10T04:36:20.396Z"
   },
   {
    "duration": 6,
    "start_time": "2023-01-10T04:36:21.132Z"
   },
   {
    "duration": 8,
    "start_time": "2023-01-10T04:36:21.724Z"
   },
   {
    "duration": 4,
    "start_time": "2023-01-10T04:39:48.532Z"
   },
   {
    "duration": 2,
    "start_time": "2023-01-10T04:42:24.719Z"
   },
   {
    "duration": 10,
    "start_time": "2023-01-10T04:47:14.532Z"
   },
   {
    "duration": 3,
    "start_time": "2023-01-10T04:48:28.550Z"
   },
   {
    "duration": 8,
    "start_time": "2023-01-10T04:48:48.820Z"
   },
   {
    "duration": 5,
    "start_time": "2023-01-10T04:52:00.258Z"
   },
   {
    "duration": 4,
    "start_time": "2023-01-10T04:52:01.059Z"
   },
   {
    "duration": 4,
    "start_time": "2023-01-10T04:52:02.306Z"
   },
   {
    "duration": 4,
    "start_time": "2023-01-10T04:52:03.449Z"
   },
   {
    "duration": 6,
    "start_time": "2023-01-10T04:52:04.464Z"
   },
   {
    "duration": 6,
    "start_time": "2023-01-10T04:52:07.657Z"
   },
   {
    "duration": 3,
    "start_time": "2023-01-10T04:52:08.473Z"
   },
   {
    "duration": 8,
    "start_time": "2023-01-10T04:52:09.336Z"
   },
   {
    "duration": 7,
    "start_time": "2023-01-10T04:52:10.510Z"
   },
   {
    "duration": 10,
    "start_time": "2023-01-10T04:52:11.521Z"
   },
   {
    "duration": 10,
    "start_time": "2023-01-10T04:52:12.453Z"
   },
   {
    "duration": 5,
    "start_time": "2023-01-10T04:52:13.467Z"
   },
   {
    "duration": 4,
    "start_time": "2023-01-10T04:52:14.495Z"
   },
   {
    "duration": 9,
    "start_time": "2023-01-10T04:52:17.204Z"
   },
   {
    "duration": 2067,
    "start_time": "2023-01-10T04:52:18.273Z"
   },
   {
    "duration": 8,
    "start_time": "2023-01-10T04:53:19.254Z"
   },
   {
    "duration": 6,
    "start_time": "2023-01-10T04:53:26.283Z"
   },
   {
    "duration": 4,
    "start_time": "2023-01-10T04:55:10.998Z"
   },
   {
    "duration": 2,
    "start_time": "2023-01-10T04:59:28.134Z"
   },
   {
    "duration": 6,
    "start_time": "2023-01-10T04:59:29.193Z"
   },
   {
    "duration": 7,
    "start_time": "2023-01-10T04:59:29.721Z"
   },
   {
    "duration": 4,
    "start_time": "2023-01-10T04:59:30.310Z"
   },
   {
    "duration": 10,
    "start_time": "2023-01-10T04:59:32.667Z"
   },
   {
    "duration": 10,
    "start_time": "2023-01-10T04:59:33.217Z"
   },
   {
    "duration": 13,
    "start_time": "2023-01-10T04:59:33.886Z"
   },
   {
    "duration": 11,
    "start_time": "2023-01-10T04:59:34.725Z"
   },
   {
    "duration": 6,
    "start_time": "2023-01-10T04:59:35.660Z"
   },
   {
    "duration": 4,
    "start_time": "2023-01-10T04:59:36.710Z"
   },
   {
    "duration": 10,
    "start_time": "2023-01-10T04:59:42.508Z"
   },
   {
    "duration": 8,
    "start_time": "2023-01-10T05:00:30.383Z"
   },
   {
    "duration": 3,
    "start_time": "2023-01-10T05:01:32.033Z"
   },
   {
    "duration": 6,
    "start_time": "2023-01-10T05:01:41.616Z"
   },
   {
    "duration": 8,
    "start_time": "2023-01-10T05:01:45.951Z"
   },
   {
    "duration": 5,
    "start_time": "2023-01-10T05:01:49.720Z"
   },
   {
    "duration": 5,
    "start_time": "2023-01-10T05:01:53.060Z"
   },
   {
    "duration": 6,
    "start_time": "2023-01-10T05:01:58.472Z"
   },
   {
    "duration": 6,
    "start_time": "2023-01-10T05:02:00.070Z"
   },
   {
    "duration": 2,
    "start_time": "2023-01-10T05:02:06.464Z"
   },
   {
    "duration": 9,
    "start_time": "2023-01-10T05:02:07.419Z"
   },
   {
    "duration": 9,
    "start_time": "2023-01-10T05:02:10.197Z"
   },
   {
    "duration": 11,
    "start_time": "2023-01-10T05:02:12.519Z"
   },
   {
    "duration": 12,
    "start_time": "2023-01-10T05:02:14.601Z"
   },
   {
    "duration": 6,
    "start_time": "2023-01-10T05:02:17.868Z"
   },
   {
    "duration": 4,
    "start_time": "2023-01-10T05:02:20.718Z"
   },
   {
    "duration": 5,
    "start_time": "2023-01-10T05:02:23.664Z"
   },
   {
    "duration": 371,
    "start_time": "2023-01-10T05:02:27.889Z"
   },
   {
    "duration": 8,
    "start_time": "2023-01-10T06:06:39.676Z"
   },
   {
    "duration": 8,
    "start_time": "2023-01-10T06:07:10.830Z"
   },
   {
    "duration": 9,
    "start_time": "2023-01-10T06:11:57.958Z"
   },
   {
    "duration": 9,
    "start_time": "2023-01-10T06:13:11.107Z"
   },
   {
    "duration": 4,
    "start_time": "2023-01-10T06:16:47.871Z"
   },
   {
    "duration": 4,
    "start_time": "2023-01-10T06:18:01.788Z"
   },
   {
    "duration": 4,
    "start_time": "2023-01-10T06:25:15.387Z"
   },
   {
    "duration": 3,
    "start_time": "2023-01-10T06:33:37.426Z"
   },
   {
    "duration": 289,
    "start_time": "2023-01-10T06:33:38.107Z"
   },
   {
    "duration": 8,
    "start_time": "2023-01-10T07:44:26.814Z"
   },
   {
    "duration": 8,
    "start_time": "2023-01-10T07:44:56.817Z"
   },
   {
    "duration": 8,
    "start_time": "2023-01-10T07:45:07.793Z"
   },
   {
    "duration": 8,
    "start_time": "2023-01-10T07:46:42.766Z"
   },
   {
    "duration": 8,
    "start_time": "2023-01-10T07:52:47.554Z"
   },
   {
    "duration": 9,
    "start_time": "2023-01-10T07:55:11.154Z"
   },
   {
    "duration": 10,
    "start_time": "2023-01-10T07:55:35.956Z"
   },
   {
    "duration": 6,
    "start_time": "2023-01-10T07:55:52.349Z"
   },
   {
    "duration": 6,
    "start_time": "2023-01-10T07:55:54.168Z"
   },
   {
    "duration": 5,
    "start_time": "2023-01-10T07:55:54.978Z"
   },
   {
    "duration": 4,
    "start_time": "2023-01-10T07:58:09.528Z"
   },
   {
    "duration": 9,
    "start_time": "2023-01-10T07:58:18.159Z"
   },
   {
    "duration": 3,
    "start_time": "2023-01-10T07:59:15.423Z"
   },
   {
    "duration": 960,
    "start_time": "2023-01-10T08:07:07.123Z"
   },
   {
    "duration": 813,
    "start_time": "2023-01-10T08:07:38.117Z"
   },
   {
    "duration": 9,
    "start_time": "2023-01-10T08:07:52.482Z"
   },
   {
    "duration": 2,
    "start_time": "2023-01-10T08:08:22.769Z"
   },
   {
    "duration": 3,
    "start_time": "2023-01-10T08:08:23.458Z"
   },
   {
    "duration": 9,
    "start_time": "2023-01-10T08:08:24.486Z"
   },
   {
    "duration": 3,
    "start_time": "2023-01-10T08:08:25.715Z"
   },
   {
    "duration": 4,
    "start_time": "2023-01-10T08:08:34.215Z"
   },
   {
    "duration": 5,
    "start_time": "2023-01-10T08:09:13.923Z"
   },
   {
    "duration": 3,
    "start_time": "2023-01-10T08:13:16.414Z"
   },
   {
    "duration": 4,
    "start_time": "2023-01-10T08:13:26.621Z"
   },
   {
    "duration": 5,
    "start_time": "2023-01-10T08:13:46.311Z"
   },
   {
    "duration": 4,
    "start_time": "2023-01-10T08:13:58.315Z"
   },
   {
    "duration": 5,
    "start_time": "2023-01-10T08:14:18.432Z"
   },
   {
    "duration": 4,
    "start_time": "2023-01-10T08:14:41.276Z"
   },
   {
    "duration": 5,
    "start_time": "2023-01-10T08:14:59.811Z"
   },
   {
    "duration": 5,
    "start_time": "2023-01-10T08:15:49.155Z"
   },
   {
    "duration": 10,
    "start_time": "2023-01-10T08:16:34.416Z"
   },
   {
    "duration": 3,
    "start_time": "2023-01-10T08:16:44.515Z"
   },
   {
    "duration": 3,
    "start_time": "2023-01-10T08:17:40.123Z"
   },
   {
    "duration": 4,
    "start_time": "2023-01-10T08:17:47.861Z"
   },
   {
    "duration": 9,
    "start_time": "2023-01-10T08:21:40.958Z"
   },
   {
    "duration": 4,
    "start_time": "2023-01-10T08:22:04.019Z"
   },
   {
    "duration": 5,
    "start_time": "2023-01-10T08:22:44.741Z"
   },
   {
    "duration": 9,
    "start_time": "2023-01-10T08:29:40.209Z"
   },
   {
    "duration": 16,
    "start_time": "2023-01-10T08:29:45.800Z"
   },
   {
    "duration": 5,
    "start_time": "2023-01-10T08:29:50.371Z"
   },
   {
    "duration": 5,
    "start_time": "2023-01-10T08:29:55.308Z"
   },
   {
    "duration": 10,
    "start_time": "2023-01-10T08:30:37.910Z"
   },
   {
    "duration": 5,
    "start_time": "2023-01-10T08:30:43.143Z"
   },
   {
    "duration": 10,
    "start_time": "2023-01-10T08:30:55.007Z"
   },
   {
    "duration": 4,
    "start_time": "2023-01-10T08:31:24.376Z"
   },
   {
    "duration": 4,
    "start_time": "2023-01-10T08:31:34.077Z"
   },
   {
    "duration": 11,
    "start_time": "2023-01-10T08:34:18.714Z"
   },
   {
    "duration": 4,
    "start_time": "2023-01-10T08:34:30.369Z"
   },
   {
    "duration": 5,
    "start_time": "2023-01-10T08:34:31.009Z"
   },
   {
    "duration": 12,
    "start_time": "2023-01-10T08:34:31.868Z"
   },
   {
    "duration": 5,
    "start_time": "2023-01-10T08:34:52.973Z"
   },
   {
    "duration": 4,
    "start_time": "2023-01-10T08:34:54.773Z"
   },
   {
    "duration": 11,
    "start_time": "2023-01-10T08:35:02.884Z"
   },
   {
    "duration": 502,
    "start_time": "2023-01-10T08:35:08.208Z"
   },
   {
    "duration": 22,
    "start_time": "2023-01-10T08:35:08.712Z"
   },
   {
    "duration": 15,
    "start_time": "2023-01-10T08:35:08.735Z"
   },
   {
    "duration": 9,
    "start_time": "2023-01-10T08:35:08.751Z"
   },
   {
    "duration": 49,
    "start_time": "2023-01-10T08:35:08.762Z"
   },
   {
    "duration": 4,
    "start_time": "2023-01-10T08:35:08.814Z"
   },
   {
    "duration": 16,
    "start_time": "2023-01-10T08:35:08.819Z"
   },
   {
    "duration": 7,
    "start_time": "2023-01-10T08:35:08.837Z"
   },
   {
    "duration": 9,
    "start_time": "2023-01-10T08:35:08.846Z"
   },
   {
    "duration": 5,
    "start_time": "2023-01-10T08:35:08.857Z"
   },
   {
    "duration": 60,
    "start_time": "2023-01-10T08:35:08.863Z"
   },
   {
    "duration": 11,
    "start_time": "2023-01-10T08:35:08.926Z"
   },
   {
    "duration": 8,
    "start_time": "2023-01-10T08:35:08.939Z"
   },
   {
    "duration": 15,
    "start_time": "2023-01-10T08:35:08.950Z"
   },
   {
    "duration": 18,
    "start_time": "2023-01-10T08:35:08.967Z"
   },
   {
    "duration": 24,
    "start_time": "2023-01-10T08:35:08.997Z"
   },
   {
    "duration": 5,
    "start_time": "2023-01-10T08:35:09.022Z"
   },
   {
    "duration": 13,
    "start_time": "2023-01-10T08:35:09.029Z"
   },
   {
    "duration": 5,
    "start_time": "2023-01-10T08:35:09.044Z"
   },
   {
    "duration": 4,
    "start_time": "2023-01-10T08:35:09.051Z"
   },
   {
    "duration": 11,
    "start_time": "2023-01-10T08:35:09.056Z"
   },
   {
    "duration": 773,
    "start_time": "2023-01-10T08:35:09.069Z"
   },
   {
    "duration": 6,
    "start_time": "2023-01-10T08:35:09.844Z"
   },
   {
    "duration": 4,
    "start_time": "2023-01-10T08:35:09.852Z"
   },
   {
    "duration": 10,
    "start_time": "2023-01-10T08:35:09.858Z"
   },
   {
    "duration": 4,
    "start_time": "2023-01-10T08:35:09.870Z"
   },
   {
    "duration": 28,
    "start_time": "2023-01-10T08:35:09.875Z"
   },
   {
    "duration": 5,
    "start_time": "2023-01-10T08:35:09.904Z"
   },
   {
    "duration": 13,
    "start_time": "2023-01-10T08:35:09.910Z"
   },
   {
    "duration": 14,
    "start_time": "2023-01-10T08:35:09.925Z"
   },
   {
    "duration": 7,
    "start_time": "2023-01-10T08:35:09.940Z"
   },
   {
    "duration": 5,
    "start_time": "2023-01-10T08:35:09.949Z"
   },
   {
    "duration": 12,
    "start_time": "2023-01-10T08:35:09.955Z"
   },
   {
    "duration": 15,
    "start_time": "2023-01-10T08:35:09.968Z"
   },
   {
    "duration": 34,
    "start_time": "2023-01-10T08:35:09.984Z"
   },
   {
    "duration": 28,
    "start_time": "2023-01-10T08:35:10.019Z"
   },
   {
    "duration": 34,
    "start_time": "2023-01-10T08:35:10.049Z"
   },
   {
    "duration": 36,
    "start_time": "2023-01-10T08:35:10.084Z"
   },
   {
    "duration": 29,
    "start_time": "2023-01-10T08:35:10.122Z"
   },
   {
    "duration": 129,
    "start_time": "2023-01-10T08:35:10.153Z"
   },
   {
    "duration": 4,
    "start_time": "2023-01-10T08:35:10.288Z"
   },
   {
    "duration": 20,
    "start_time": "2023-01-10T08:35:10.300Z"
   },
   {
    "duration": 8,
    "start_time": "2023-01-10T08:35:10.322Z"
   },
   {
    "duration": 26,
    "start_time": "2023-01-10T08:35:10.331Z"
   },
   {
    "duration": 157,
    "start_time": "2023-01-10T08:35:10.358Z"
   },
   {
    "duration": 5,
    "start_time": "2023-01-10T08:35:10.517Z"
   },
   {
    "duration": 21,
    "start_time": "2023-01-10T08:35:10.523Z"
   },
   {
    "duration": 63,
    "start_time": "2023-01-10T08:35:10.546Z"
   },
   {
    "duration": 23,
    "start_time": "2023-01-10T08:35:10.611Z"
   },
   {
    "duration": 6,
    "start_time": "2023-01-10T08:35:10.635Z"
   },
   {
    "duration": 9,
    "start_time": "2023-01-10T08:35:10.643Z"
   },
   {
    "duration": 153,
    "start_time": "2023-01-10T08:35:10.653Z"
   },
   {
    "duration": 7,
    "start_time": "2023-01-10T08:35:10.812Z"
   },
   {
    "duration": 16,
    "start_time": "2023-01-10T08:35:10.821Z"
   },
   {
    "duration": 15,
    "start_time": "2023-01-10T08:35:10.839Z"
   },
   {
    "duration": 29,
    "start_time": "2023-01-10T08:35:10.855Z"
   },
   {
    "duration": 24,
    "start_time": "2023-01-10T08:35:10.886Z"
   },
   {
    "duration": 33,
    "start_time": "2023-01-10T08:35:10.912Z"
   },
   {
    "duration": 32,
    "start_time": "2023-01-10T08:35:10.947Z"
   },
   {
    "duration": 66,
    "start_time": "2023-01-10T08:35:10.981Z"
   },
   {
    "duration": 8,
    "start_time": "2023-01-10T08:35:11.049Z"
   },
   {
    "duration": 18,
    "start_time": "2023-01-10T08:35:11.058Z"
   },
   {
    "duration": 8,
    "start_time": "2023-01-10T08:35:11.077Z"
   },
   {
    "duration": 7,
    "start_time": "2023-01-10T08:35:11.086Z"
   },
   {
    "duration": 24,
    "start_time": "2023-01-10T08:35:11.094Z"
   },
   {
    "duration": 2147,
    "start_time": "2023-01-10T08:35:11.120Z"
   },
   {
    "duration": 6,
    "start_time": "2023-01-10T08:35:13.269Z"
   },
   {
    "duration": 28,
    "start_time": "2023-01-10T08:35:13.277Z"
   },
   {
    "duration": 15,
    "start_time": "2023-01-10T08:35:13.308Z"
   },
   {
    "duration": 8,
    "start_time": "2023-01-10T08:35:13.325Z"
   },
   {
    "duration": 13,
    "start_time": "2023-01-10T08:35:13.335Z"
   },
   {
    "duration": 6,
    "start_time": "2023-01-10T08:35:13.350Z"
   },
   {
    "duration": 9,
    "start_time": "2023-01-10T08:35:13.358Z"
   },
   {
    "duration": 12,
    "start_time": "2023-01-10T08:35:13.368Z"
   },
   {
    "duration": 31,
    "start_time": "2023-01-10T08:35:13.381Z"
   },
   {
    "duration": 9,
    "start_time": "2023-01-10T08:35:13.414Z"
   },
   {
    "duration": 12,
    "start_time": "2023-01-10T08:35:13.424Z"
   },
   {
    "duration": 8,
    "start_time": "2023-01-10T08:35:13.438Z"
   },
   {
    "duration": 12,
    "start_time": "2023-01-10T08:35:13.448Z"
   },
   {
    "duration": 7,
    "start_time": "2023-01-10T08:35:13.462Z"
   },
   {
    "duration": 1469,
    "start_time": "2023-01-10T08:35:13.470Z"
   },
   {
    "duration": 0,
    "start_time": "2023-01-10T08:35:14.941Z"
   },
   {
    "duration": 0,
    "start_time": "2023-01-10T08:35:14.942Z"
   },
   {
    "duration": 0,
    "start_time": "2023-01-10T08:35:14.943Z"
   },
   {
    "duration": 5,
    "start_time": "2023-01-10T08:35:27.012Z"
   },
   {
    "duration": 861,
    "start_time": "2023-01-10T08:35:28.013Z"
   },
   {
    "duration": 4,
    "start_time": "2023-01-10T08:35:42.306Z"
   },
   {
    "duration": 5,
    "start_time": "2023-01-10T08:48:38.973Z"
   },
   {
    "duration": 6,
    "start_time": "2023-01-10T08:48:50.006Z"
   },
   {
    "duration": 5,
    "start_time": "2023-01-10T08:49:04.896Z"
   },
   {
    "duration": 4,
    "start_time": "2023-01-10T08:49:21.443Z"
   },
   {
    "duration": 11,
    "start_time": "2023-01-10T08:53:45.642Z"
   },
   {
    "duration": 3,
    "start_time": "2023-01-10T08:53:54.853Z"
   },
   {
    "duration": 3,
    "start_time": "2023-01-10T08:55:19.655Z"
   },
   {
    "duration": 4,
    "start_time": "2023-01-10T08:55:28.973Z"
   },
   {
    "duration": 4,
    "start_time": "2023-01-10T08:55:35.577Z"
   },
   {
    "duration": 6,
    "start_time": "2023-01-10T08:55:55.973Z"
   },
   {
    "duration": 3,
    "start_time": "2023-01-10T09:10:32.797Z"
   },
   {
    "duration": 301,
    "start_time": "2023-01-10T09:10:33.576Z"
   },
   {
    "duration": 10,
    "start_time": "2023-01-10T09:11:11.601Z"
   },
   {
    "duration": 191,
    "start_time": "2023-01-10T09:38:04.022Z"
   },
   {
    "duration": 263,
    "start_time": "2023-01-10T09:38:47.590Z"
   },
   {
    "duration": 176,
    "start_time": "2023-01-10T09:38:59.609Z"
   },
   {
    "duration": 302,
    "start_time": "2023-01-10T09:43:21.381Z"
   },
   {
    "duration": 301,
    "start_time": "2023-01-10T09:44:38.458Z"
   },
   {
    "duration": 4,
    "start_time": "2023-01-10T09:53:49.964Z"
   },
   {
    "duration": 3,
    "start_time": "2023-01-10T09:53:51.546Z"
   },
   {
    "duration": 4,
    "start_time": "2023-01-10T09:53:54.082Z"
   },
   {
    "duration": 12,
    "start_time": "2023-01-10T09:53:54.901Z"
   },
   {
    "duration": 6,
    "start_time": "2023-01-10T09:53:58.351Z"
   },
   {
    "duration": 4,
    "start_time": "2023-01-10T09:53:59.672Z"
   },
   {
    "duration": 3,
    "start_time": "2023-01-10T09:54:23.334Z"
   },
   {
    "duration": 10,
    "start_time": "2023-01-10T09:54:23.864Z"
   },
   {
    "duration": 5,
    "start_time": "2023-01-10T09:54:24.511Z"
   },
   {
    "duration": 6,
    "start_time": "2023-01-10T09:54:25.323Z"
   },
   {
    "duration": 28,
    "start_time": "2023-01-10T10:39:01.574Z"
   },
   {
    "duration": 8,
    "start_time": "2023-01-10T10:39:58.380Z"
   },
   {
    "duration": 6,
    "start_time": "2023-01-10T10:41:03.579Z"
   },
   {
    "duration": 401,
    "start_time": "2023-01-10T10:42:22.756Z"
   },
   {
    "duration": 20,
    "start_time": "2023-01-10T10:43:14.813Z"
   },
   {
    "duration": 8,
    "start_time": "2023-01-10T10:43:54.986Z"
   },
   {
    "duration": 9,
    "start_time": "2023-01-10T10:44:22.656Z"
   },
   {
    "duration": 11,
    "start_time": "2023-01-10T10:44:39.110Z"
   },
   {
    "duration": 6,
    "start_time": "2023-01-10T10:46:29.218Z"
   },
   {
    "duration": 6,
    "start_time": "2023-01-10T10:46:38.360Z"
   },
   {
    "duration": 8,
    "start_time": "2023-01-10T10:47:12.595Z"
   },
   {
    "duration": 6,
    "start_time": "2023-01-10T10:49:03.099Z"
   },
   {
    "duration": 8,
    "start_time": "2023-01-10T10:49:08.477Z"
   },
   {
    "duration": 1586,
    "start_time": "2023-01-11T02:34:19.610Z"
   },
   {
    "duration": 8,
    "start_time": "2023-01-11T03:35:43.150Z"
   },
   {
    "duration": 113,
    "start_time": "2023-01-11T03:36:24.166Z"
   },
   {
    "duration": 8,
    "start_time": "2023-01-11T03:36:37.654Z"
   },
   {
    "duration": 1343,
    "start_time": "2023-01-11T03:36:53.756Z"
   },
   {
    "duration": 22,
    "start_time": "2023-01-11T03:36:55.102Z"
   },
   {
    "duration": 32,
    "start_time": "2023-01-11T03:36:55.125Z"
   },
   {
    "duration": 12,
    "start_time": "2023-01-11T03:36:55.159Z"
   },
   {
    "duration": 45,
    "start_time": "2023-01-11T03:36:55.173Z"
   },
   {
    "duration": 4,
    "start_time": "2023-01-11T03:36:55.220Z"
   },
   {
    "duration": 9,
    "start_time": "2023-01-11T03:36:55.250Z"
   },
   {
    "duration": 5,
    "start_time": "2023-01-11T03:36:55.260Z"
   },
   {
    "duration": 11,
    "start_time": "2023-01-11T03:36:55.266Z"
   },
   {
    "duration": 5,
    "start_time": "2023-01-11T03:36:55.279Z"
   },
   {
    "duration": 65,
    "start_time": "2023-01-11T03:36:55.286Z"
   },
   {
    "duration": 11,
    "start_time": "2023-01-11T03:36:55.352Z"
   },
   {
    "duration": 3,
    "start_time": "2023-01-11T03:36:55.365Z"
   },
   {
    "duration": 13,
    "start_time": "2023-01-11T03:36:55.371Z"
   },
   {
    "duration": 23,
    "start_time": "2023-01-11T03:36:55.386Z"
   },
   {
    "duration": 41,
    "start_time": "2023-01-11T03:36:55.411Z"
   },
   {
    "duration": 3,
    "start_time": "2023-01-11T03:36:55.454Z"
   },
   {
    "duration": 15,
    "start_time": "2023-01-11T03:36:55.459Z"
   },
   {
    "duration": 5,
    "start_time": "2023-01-11T03:36:55.476Z"
   },
   {
    "duration": 4,
    "start_time": "2023-01-11T03:36:55.483Z"
   },
   {
    "duration": 15,
    "start_time": "2023-01-11T03:36:55.489Z"
   },
   {
    "duration": 16,
    "start_time": "2023-01-11T03:36:55.505Z"
   },
   {
    "duration": 6,
    "start_time": "2023-01-11T03:36:55.523Z"
   },
   {
    "duration": 23,
    "start_time": "2023-01-11T03:36:55.531Z"
   },
   {
    "duration": 17,
    "start_time": "2023-01-11T03:36:55.556Z"
   },
   {
    "duration": 9,
    "start_time": "2023-01-11T03:36:55.575Z"
   },
   {
    "duration": 26,
    "start_time": "2023-01-11T03:36:55.586Z"
   },
   {
    "duration": 13,
    "start_time": "2023-01-11T03:36:55.614Z"
   },
   {
    "duration": 36,
    "start_time": "2023-01-11T03:36:55.628Z"
   },
   {
    "duration": 12,
    "start_time": "2023-01-11T03:36:55.666Z"
   },
   {
    "duration": 5,
    "start_time": "2023-01-11T03:36:55.680Z"
   },
   {
    "duration": 5,
    "start_time": "2023-01-11T03:36:55.687Z"
   },
   {
    "duration": 8,
    "start_time": "2023-01-11T03:36:55.694Z"
   },
   {
    "duration": 13,
    "start_time": "2023-01-11T03:36:55.704Z"
   },
   {
    "duration": 6,
    "start_time": "2023-01-11T03:36:55.718Z"
   },
   {
    "duration": 19,
    "start_time": "2023-01-11T03:36:55.726Z"
   },
   {
    "duration": 25,
    "start_time": "2023-01-11T03:36:55.747Z"
   },
   {
    "duration": 8,
    "start_time": "2023-01-11T03:36:55.774Z"
   },
   {
    "duration": 10,
    "start_time": "2023-01-11T03:36:55.784Z"
   },
   {
    "duration": 119,
    "start_time": "2023-01-11T03:36:55.796Z"
   },
   {
    "duration": 3,
    "start_time": "2023-01-11T03:36:55.919Z"
   },
   {
    "duration": 7,
    "start_time": "2023-01-11T03:36:55.924Z"
   },
   {
    "duration": 19,
    "start_time": "2023-01-11T03:36:55.932Z"
   },
   {
    "duration": 13,
    "start_time": "2023-01-11T03:36:55.953Z"
   },
   {
    "duration": 154,
    "start_time": "2023-01-11T03:36:55.968Z"
   },
   {
    "duration": 6,
    "start_time": "2023-01-11T03:36:56.125Z"
   },
   {
    "duration": 24,
    "start_time": "2023-01-11T03:36:56.132Z"
   },
   {
    "duration": 8,
    "start_time": "2023-01-11T03:36:56.159Z"
   },
   {
    "duration": 14,
    "start_time": "2023-01-11T03:36:56.169Z"
   },
   {
    "duration": 12,
    "start_time": "2023-01-11T03:36:56.185Z"
   },
   {
    "duration": 16,
    "start_time": "2023-01-11T03:36:56.199Z"
   },
   {
    "duration": 154,
    "start_time": "2023-01-11T03:36:56.217Z"
   },
   {
    "duration": 8,
    "start_time": "2023-01-11T03:36:56.373Z"
   },
   {
    "duration": 7,
    "start_time": "2023-01-11T03:36:56.383Z"
   },
   {
    "duration": 16,
    "start_time": "2023-01-11T03:36:56.392Z"
   },
   {
    "duration": 17,
    "start_time": "2023-01-11T03:36:56.410Z"
   },
   {
    "duration": 23,
    "start_time": "2023-01-11T03:36:56.429Z"
   },
   {
    "duration": 8,
    "start_time": "2023-01-11T03:36:56.453Z"
   },
   {
    "duration": 7,
    "start_time": "2023-01-11T03:36:56.462Z"
   },
   {
    "duration": 15,
    "start_time": "2023-01-11T03:36:56.470Z"
   },
   {
    "duration": 2,
    "start_time": "2023-01-11T03:36:56.487Z"
   },
   {
    "duration": 18,
    "start_time": "2023-01-11T03:36:56.491Z"
   },
   {
    "duration": 8,
    "start_time": "2023-01-11T03:36:56.511Z"
   },
   {
    "duration": 11,
    "start_time": "2023-01-11T03:36:56.521Z"
   },
   {
    "duration": 8,
    "start_time": "2023-01-11T03:36:56.552Z"
   },
   {
    "duration": 2146,
    "start_time": "2023-01-11T03:36:56.561Z"
   },
   {
    "duration": 6,
    "start_time": "2023-01-11T03:36:58.709Z"
   },
   {
    "duration": 14,
    "start_time": "2023-01-11T03:36:58.717Z"
   },
   {
    "duration": 18,
    "start_time": "2023-01-11T03:36:58.733Z"
   },
   {
    "duration": 4,
    "start_time": "2023-01-11T03:36:58.753Z"
   },
   {
    "duration": 12,
    "start_time": "2023-01-11T03:36:58.758Z"
   },
   {
    "duration": 7,
    "start_time": "2023-01-11T03:36:58.772Z"
   },
   {
    "duration": 7,
    "start_time": "2023-01-11T03:36:58.781Z"
   },
   {
    "duration": 5,
    "start_time": "2023-01-11T03:36:58.790Z"
   },
   {
    "duration": 9,
    "start_time": "2023-01-11T03:36:58.796Z"
   },
   {
    "duration": 17,
    "start_time": "2023-01-11T03:36:58.807Z"
   },
   {
    "duration": 10,
    "start_time": "2023-01-11T03:36:58.825Z"
   },
   {
    "duration": 10,
    "start_time": "2023-01-11T03:36:58.852Z"
   },
   {
    "duration": 7,
    "start_time": "2023-01-11T03:36:58.863Z"
   },
   {
    "duration": 18,
    "start_time": "2023-01-11T03:36:58.872Z"
   },
   {
    "duration": 9,
    "start_time": "2023-01-11T03:36:58.892Z"
   },
   {
    "duration": 6,
    "start_time": "2023-01-11T03:36:58.903Z"
   },
   {
    "duration": 8,
    "start_time": "2023-01-11T03:36:58.911Z"
   },
   {
    "duration": 355,
    "start_time": "2023-01-11T03:36:58.921Z"
   },
   {
    "duration": 23,
    "start_time": "2023-01-11T03:36:59.277Z"
   },
   {
    "duration": 10,
    "start_time": "2023-01-11T03:36:59.301Z"
   },
   {
    "duration": 7,
    "start_time": "2023-01-11T03:36:59.312Z"
   },
   {
    "duration": 30,
    "start_time": "2023-01-11T03:36:59.321Z"
   },
   {
    "duration": 6,
    "start_time": "2023-01-11T03:36:59.353Z"
   },
   {
    "duration": 9,
    "start_time": "2023-01-11T03:36:59.360Z"
   },
   {
    "duration": 5,
    "start_time": "2023-01-11T03:44:27.327Z"
   },
   {
    "duration": 5,
    "start_time": "2023-01-11T03:44:42.084Z"
   },
   {
    "duration": 22,
    "start_time": "2023-01-11T03:44:52.704Z"
   },
   {
    "duration": 8,
    "start_time": "2023-01-11T03:45:09.594Z"
   },
   {
    "duration": 6,
    "start_time": "2023-01-11T03:46:16.324Z"
   },
   {
    "duration": 7,
    "start_time": "2023-01-11T03:46:42.097Z"
   },
   {
    "duration": 107,
    "start_time": "2023-01-11T03:47:17.220Z"
   },
   {
    "duration": 11,
    "start_time": "2023-01-11T03:47:31.655Z"
   },
   {
    "duration": 7,
    "start_time": "2023-01-11T03:48:44.101Z"
   },
   {
    "duration": 3,
    "start_time": "2023-01-11T03:50:15.955Z"
   },
   {
    "duration": 3,
    "start_time": "2023-01-11T03:56:12.498Z"
   },
   {
    "duration": 4,
    "start_time": "2023-01-11T03:58:32.956Z"
   },
   {
    "duration": 4,
    "start_time": "2023-01-11T03:58:46.967Z"
   },
   {
    "duration": 3,
    "start_time": "2023-01-11T03:58:49.256Z"
   },
   {
    "duration": 231,
    "start_time": "2023-01-11T03:58:52.430Z"
   },
   {
    "duration": 255,
    "start_time": "2023-01-11T04:08:37.199Z"
   },
   {
    "duration": 174,
    "start_time": "2023-01-11T04:09:14.599Z"
   },
   {
    "duration": 201,
    "start_time": "2023-01-11T04:10:25.144Z"
   },
   {
    "duration": 177,
    "start_time": "2023-01-11T04:13:28.662Z"
   },
   {
    "duration": 172,
    "start_time": "2023-01-11T04:15:16.691Z"
   },
   {
    "duration": 191,
    "start_time": "2023-01-11T04:15:25.536Z"
   },
   {
    "duration": 168,
    "start_time": "2023-01-11T04:15:36.015Z"
   },
   {
    "duration": 3,
    "start_time": "2023-01-11T04:21:25.867Z"
   },
   {
    "duration": 4,
    "start_time": "2023-01-11T04:21:28.441Z"
   },
   {
    "duration": 4,
    "start_time": "2023-01-11T04:21:32.466Z"
   },
   {
    "duration": 10,
    "start_time": "2023-01-11T04:21:34.386Z"
   },
   {
    "duration": 198,
    "start_time": "2023-01-11T04:21:38.918Z"
   },
   {
    "duration": 4,
    "start_time": "2023-01-11T04:22:22.763Z"
   },
   {
    "duration": 196,
    "start_time": "2023-01-11T04:22:30.225Z"
   },
   {
    "duration": 8,
    "start_time": "2023-01-11T04:22:39.314Z"
   },
   {
    "duration": 3,
    "start_time": "2023-01-11T04:22:42.026Z"
   },
   {
    "duration": 3,
    "start_time": "2023-01-11T04:22:44.762Z"
   },
   {
    "duration": 7,
    "start_time": "2023-01-11T04:22:49.692Z"
   },
   {
    "duration": 11,
    "start_time": "2023-01-11T04:22:51.363Z"
   },
   {
    "duration": 205,
    "start_time": "2023-01-11T04:22:54.849Z"
   },
   {
    "duration": 177,
    "start_time": "2023-01-11T04:24:56.450Z"
   },
   {
    "duration": 5,
    "start_time": "2023-01-11T04:27:24.589Z"
   },
   {
    "duration": 12,
    "start_time": "2023-01-11T04:27:25.279Z"
   },
   {
    "duration": 235,
    "start_time": "2023-01-11T04:27:26.185Z"
   },
   {
    "duration": 281,
    "start_time": "2023-01-11T04:28:58.874Z"
   },
   {
    "duration": 11,
    "start_time": "2023-01-11T05:00:55.295Z"
   },
   {
    "duration": 11,
    "start_time": "2023-01-11T05:01:00.911Z"
   },
   {
    "duration": 15,
    "start_time": "2023-01-11T05:01:07.469Z"
   },
   {
    "duration": 21,
    "start_time": "2023-01-11T05:03:26.175Z"
   },
   {
    "duration": 20,
    "start_time": "2023-01-11T05:04:32.125Z"
   },
   {
    "duration": 17,
    "start_time": "2023-01-11T05:04:37.131Z"
   },
   {
    "duration": 15,
    "start_time": "2023-01-11T05:04:43.879Z"
   },
   {
    "duration": 350,
    "start_time": "2023-01-11T05:06:33.763Z"
   },
   {
    "duration": 22,
    "start_time": "2023-01-11T05:07:02.306Z"
   },
   {
    "duration": 20,
    "start_time": "2023-01-11T05:07:18.440Z"
   },
   {
    "duration": 22,
    "start_time": "2023-01-11T05:13:37.380Z"
   },
   {
    "duration": 10,
    "start_time": "2023-01-11T05:17:25.337Z"
   },
   {
    "duration": 20,
    "start_time": "2023-01-11T05:17:37.612Z"
   },
   {
    "duration": 24,
    "start_time": "2023-01-11T05:20:26.769Z"
   },
   {
    "duration": 8,
    "start_time": "2023-01-11T05:20:40.442Z"
   },
   {
    "duration": 22,
    "start_time": "2023-01-11T05:21:25.298Z"
   },
   {
    "duration": 30,
    "start_time": "2023-01-11T05:22:05.232Z"
   },
   {
    "duration": 27,
    "start_time": "2023-01-11T05:22:30.719Z"
   },
   {
    "duration": 26,
    "start_time": "2023-01-11T05:30:36.735Z"
   },
   {
    "duration": 26,
    "start_time": "2023-01-11T05:31:06.465Z"
   },
   {
    "duration": 18,
    "start_time": "2023-01-11T05:38:36.919Z"
   },
   {
    "duration": 21,
    "start_time": "2023-01-11T05:39:58.445Z"
   },
   {
    "duration": 16,
    "start_time": "2023-01-11T05:45:27.697Z"
   },
   {
    "duration": 15,
    "start_time": "2023-01-11T05:47:31.564Z"
   },
   {
    "duration": 171,
    "start_time": "2023-01-11T05:49:41.389Z"
   },
   {
    "duration": 4,
    "start_time": "2023-01-11T05:57:52.706Z"
   },
   {
    "duration": 10,
    "start_time": "2023-01-11T05:58:38.953Z"
   },
   {
    "duration": 5,
    "start_time": "2023-01-11T05:59:03.032Z"
   },
   {
    "duration": 10,
    "start_time": "2023-01-11T05:59:32.194Z"
   },
   {
    "duration": 11,
    "start_time": "2023-01-11T06:02:42.166Z"
   },
   {
    "duration": 9,
    "start_time": "2023-01-11T06:04:17.858Z"
   },
   {
    "duration": 13,
    "start_time": "2023-01-11T06:04:25.972Z"
   },
   {
    "duration": 7,
    "start_time": "2023-01-11T06:04:28.867Z"
   },
   {
    "duration": 9,
    "start_time": "2023-01-11T06:05:09.756Z"
   },
   {
    "duration": 7,
    "start_time": "2023-01-11T06:05:25.058Z"
   },
   {
    "duration": 3446,
    "start_time": "2023-01-11T06:05:52.780Z"
   },
   {
    "duration": 3376,
    "start_time": "2023-01-11T06:05:57.505Z"
   },
   {
    "duration": 1693,
    "start_time": "2023-01-11T06:06:12.749Z"
   },
   {
    "duration": 4,
    "start_time": "2023-01-11T06:06:43.265Z"
   },
   {
    "duration": 6,
    "start_time": "2023-01-11T06:06:49.258Z"
   },
   {
    "duration": 127,
    "start_time": "2023-01-11T06:14:29.528Z"
   },
   {
    "duration": 17,
    "start_time": "2023-01-11T06:17:08.522Z"
   },
   {
    "duration": 25,
    "start_time": "2023-01-11T06:17:18.104Z"
   },
   {
    "duration": 84,
    "start_time": "2023-01-11T06:20:19.803Z"
   },
   {
    "duration": 17,
    "start_time": "2023-01-11T06:20:39.639Z"
   },
   {
    "duration": 25,
    "start_time": "2023-01-11T06:21:36.299Z"
   },
   {
    "duration": 10,
    "start_time": "2023-01-11T06:22:02.505Z"
   },
   {
    "duration": 12,
    "start_time": "2023-01-11T06:22:10.853Z"
   },
   {
    "duration": 14,
    "start_time": "2023-01-11T06:22:32.548Z"
   },
   {
    "duration": 109,
    "start_time": "2023-01-11T07:12:03.686Z"
   },
   {
    "duration": 92,
    "start_time": "2023-01-11T07:12:08.102Z"
   },
   {
    "duration": 92,
    "start_time": "2023-01-11T07:12:49.029Z"
   },
   {
    "duration": 77,
    "start_time": "2023-01-11T07:13:16.969Z"
   },
   {
    "duration": 73,
    "start_time": "2023-01-11T07:13:53.119Z"
   },
   {
    "duration": 87,
    "start_time": "2023-01-11T07:14:34.007Z"
   },
   {
    "duration": 69,
    "start_time": "2023-01-11T07:14:56.880Z"
   },
   {
    "duration": 90,
    "start_time": "2023-01-11T07:15:00.207Z"
   },
   {
    "duration": 1386,
    "start_time": "2023-01-11T07:15:10.565Z"
   },
   {
    "duration": 30,
    "start_time": "2023-01-11T07:15:11.954Z"
   },
   {
    "duration": 67,
    "start_time": "2023-01-11T07:15:11.985Z"
   },
   {
    "duration": 71,
    "start_time": "2023-01-11T07:15:12.055Z"
   },
   {
    "duration": 81,
    "start_time": "2023-01-11T07:15:12.128Z"
   },
   {
    "duration": 56,
    "start_time": "2023-01-11T07:15:12.211Z"
   },
   {
    "duration": 41,
    "start_time": "2023-01-11T07:15:12.269Z"
   },
   {
    "duration": 92,
    "start_time": "2023-01-11T07:15:12.312Z"
   },
   {
    "duration": 42,
    "start_time": "2023-01-11T07:15:12.406Z"
   },
   {
    "duration": 63,
    "start_time": "2023-01-11T07:15:12.451Z"
   },
   {
    "duration": 53,
    "start_time": "2023-01-11T07:15:12.516Z"
   },
   {
    "duration": 48,
    "start_time": "2023-01-11T07:15:12.571Z"
   },
   {
    "duration": 81,
    "start_time": "2023-01-11T07:15:12.621Z"
   },
   {
    "duration": 71,
    "start_time": "2023-01-11T07:15:12.704Z"
   },
   {
    "duration": 58,
    "start_time": "2023-01-11T07:15:12.777Z"
   },
   {
    "duration": 67,
    "start_time": "2023-01-11T07:15:12.837Z"
   },
   {
    "duration": 18,
    "start_time": "2023-01-11T07:15:12.906Z"
   },
   {
    "duration": 66,
    "start_time": "2023-01-11T07:15:12.926Z"
   },
   {
    "duration": 28,
    "start_time": "2023-01-11T07:15:12.994Z"
   },
   {
    "duration": 58,
    "start_time": "2023-01-11T07:15:13.024Z"
   },
   {
    "duration": 48,
    "start_time": "2023-01-11T07:15:13.085Z"
   },
   {
    "duration": 56,
    "start_time": "2023-01-11T07:15:13.135Z"
   },
   {
    "duration": 97,
    "start_time": "2023-01-11T07:15:13.193Z"
   },
   {
    "duration": 34,
    "start_time": "2023-01-11T07:15:13.292Z"
   },
   {
    "duration": 23,
    "start_time": "2023-01-11T07:15:13.328Z"
   },
   {
    "duration": 45,
    "start_time": "2023-01-11T07:15:13.353Z"
   },
   {
    "duration": 89,
    "start_time": "2023-01-11T07:15:13.400Z"
   },
   {
    "duration": 0,
    "start_time": "2023-01-11T07:15:13.493Z"
   },
   {
    "duration": 0,
    "start_time": "2023-01-11T07:15:13.494Z"
   },
   {
    "duration": 0,
    "start_time": "2023-01-11T07:15:13.495Z"
   },
   {
    "duration": 0,
    "start_time": "2023-01-11T07:15:13.496Z"
   },
   {
    "duration": 0,
    "start_time": "2023-01-11T07:15:13.497Z"
   },
   {
    "duration": 0,
    "start_time": "2023-01-11T07:15:13.498Z"
   },
   {
    "duration": 0,
    "start_time": "2023-01-11T07:15:13.499Z"
   },
   {
    "duration": 0,
    "start_time": "2023-01-11T07:15:13.500Z"
   },
   {
    "duration": 0,
    "start_time": "2023-01-11T07:15:13.501Z"
   },
   {
    "duration": 0,
    "start_time": "2023-01-11T07:15:13.502Z"
   },
   {
    "duration": 0,
    "start_time": "2023-01-11T07:15:13.503Z"
   },
   {
    "duration": 0,
    "start_time": "2023-01-11T07:15:13.505Z"
   },
   {
    "duration": 1,
    "start_time": "2023-01-11T07:15:13.505Z"
   },
   {
    "duration": 0,
    "start_time": "2023-01-11T07:15:13.507Z"
   },
   {
    "duration": 0,
    "start_time": "2023-01-11T07:15:13.508Z"
   },
   {
    "duration": 0,
    "start_time": "2023-01-11T07:15:13.509Z"
   },
   {
    "duration": 0,
    "start_time": "2023-01-11T07:15:13.510Z"
   },
   {
    "duration": 0,
    "start_time": "2023-01-11T07:15:13.511Z"
   },
   {
    "duration": 0,
    "start_time": "2023-01-11T07:15:13.512Z"
   },
   {
    "duration": 0,
    "start_time": "2023-01-11T07:15:13.513Z"
   },
   {
    "duration": 0,
    "start_time": "2023-01-11T07:15:13.514Z"
   },
   {
    "duration": 0,
    "start_time": "2023-01-11T07:15:13.515Z"
   },
   {
    "duration": 0,
    "start_time": "2023-01-11T07:15:13.516Z"
   },
   {
    "duration": 0,
    "start_time": "2023-01-11T07:15:13.517Z"
   },
   {
    "duration": 0,
    "start_time": "2023-01-11T07:15:13.519Z"
   },
   {
    "duration": 0,
    "start_time": "2023-01-11T07:15:13.520Z"
   },
   {
    "duration": 0,
    "start_time": "2023-01-11T07:15:13.521Z"
   },
   {
    "duration": 0,
    "start_time": "2023-01-11T07:15:13.522Z"
   },
   {
    "duration": 0,
    "start_time": "2023-01-11T07:15:13.523Z"
   },
   {
    "duration": 0,
    "start_time": "2023-01-11T07:15:13.524Z"
   },
   {
    "duration": 0,
    "start_time": "2023-01-11T07:15:13.525Z"
   },
   {
    "duration": 0,
    "start_time": "2023-01-11T07:15:13.526Z"
   },
   {
    "duration": 0,
    "start_time": "2023-01-11T07:15:13.527Z"
   },
   {
    "duration": 0,
    "start_time": "2023-01-11T07:15:13.528Z"
   },
   {
    "duration": 0,
    "start_time": "2023-01-11T07:15:13.551Z"
   },
   {
    "duration": 0,
    "start_time": "2023-01-11T07:15:13.552Z"
   },
   {
    "duration": 0,
    "start_time": "2023-01-11T07:15:13.553Z"
   },
   {
    "duration": 0,
    "start_time": "2023-01-11T07:15:13.553Z"
   },
   {
    "duration": 0,
    "start_time": "2023-01-11T07:15:13.556Z"
   },
   {
    "duration": 0,
    "start_time": "2023-01-11T07:15:13.557Z"
   },
   {
    "duration": 0,
    "start_time": "2023-01-11T07:15:13.558Z"
   },
   {
    "duration": 0,
    "start_time": "2023-01-11T07:15:13.559Z"
   },
   {
    "duration": 0,
    "start_time": "2023-01-11T07:15:13.560Z"
   },
   {
    "duration": 0,
    "start_time": "2023-01-11T07:15:13.561Z"
   },
   {
    "duration": 0,
    "start_time": "2023-01-11T07:15:13.562Z"
   },
   {
    "duration": 0,
    "start_time": "2023-01-11T07:15:13.563Z"
   },
   {
    "duration": 0,
    "start_time": "2023-01-11T07:15:13.564Z"
   },
   {
    "duration": 0,
    "start_time": "2023-01-11T07:15:13.566Z"
   },
   {
    "duration": 0,
    "start_time": "2023-01-11T07:15:13.567Z"
   },
   {
    "duration": 0,
    "start_time": "2023-01-11T07:15:13.568Z"
   },
   {
    "duration": 0,
    "start_time": "2023-01-11T07:15:13.570Z"
   },
   {
    "duration": 0,
    "start_time": "2023-01-11T07:15:13.571Z"
   },
   {
    "duration": 0,
    "start_time": "2023-01-11T07:15:13.572Z"
   },
   {
    "duration": 0,
    "start_time": "2023-01-11T07:15:13.573Z"
   },
   {
    "duration": 0,
    "start_time": "2023-01-11T07:15:13.574Z"
   },
   {
    "duration": 0,
    "start_time": "2023-01-11T07:15:13.575Z"
   },
   {
    "duration": 0,
    "start_time": "2023-01-11T07:15:13.576Z"
   },
   {
    "duration": 0,
    "start_time": "2023-01-11T07:15:13.577Z"
   },
   {
    "duration": 0,
    "start_time": "2023-01-11T07:15:13.578Z"
   },
   {
    "duration": 0,
    "start_time": "2023-01-11T07:15:13.579Z"
   },
   {
    "duration": 0,
    "start_time": "2023-01-11T07:15:13.581Z"
   },
   {
    "duration": 0,
    "start_time": "2023-01-11T07:15:13.582Z"
   },
   {
    "duration": 0,
    "start_time": "2023-01-11T07:15:13.585Z"
   },
   {
    "duration": 0,
    "start_time": "2023-01-11T07:15:13.586Z"
   },
   {
    "duration": 0,
    "start_time": "2023-01-11T07:15:13.587Z"
   },
   {
    "duration": 0,
    "start_time": "2023-01-11T07:15:13.588Z"
   },
   {
    "duration": 0,
    "start_time": "2023-01-11T07:15:13.589Z"
   },
   {
    "duration": 0,
    "start_time": "2023-01-11T07:15:13.590Z"
   },
   {
    "duration": 19,
    "start_time": "2023-01-11T07:16:14.866Z"
   },
   {
    "duration": 148,
    "start_time": "2023-01-11T07:19:10.514Z"
   },
   {
    "duration": 10,
    "start_time": "2023-01-11T07:19:19.623Z"
   },
   {
    "duration": 6,
    "start_time": "2023-01-11T07:19:21.603Z"
   },
   {
    "duration": 5,
    "start_time": "2023-01-11T07:19:22.979Z"
   },
   {
    "duration": 6,
    "start_time": "2023-01-11T07:19:27.967Z"
   },
   {
    "duration": 5,
    "start_time": "2023-01-11T07:19:29.367Z"
   },
   {
    "duration": 8,
    "start_time": "2023-01-11T07:19:35.435Z"
   },
   {
    "duration": 8,
    "start_time": "2023-01-11T07:19:38.139Z"
   },
   {
    "duration": 5,
    "start_time": "2023-01-11T07:19:40.475Z"
   },
   {
    "duration": 9,
    "start_time": "2023-01-11T07:19:44.499Z"
   },
   {
    "duration": 6,
    "start_time": "2023-01-11T07:19:48.632Z"
   },
   {
    "duration": 8,
    "start_time": "2023-01-11T07:19:50.715Z"
   },
   {
    "duration": 5,
    "start_time": "2023-01-11T07:19:58.176Z"
   },
   {
    "duration": 12,
    "start_time": "2023-01-11T07:19:59.971Z"
   },
   {
    "duration": 5,
    "start_time": "2023-01-11T07:20:08.898Z"
   },
   {
    "duration": 7,
    "start_time": "2023-01-11T07:21:44.473Z"
   },
   {
    "duration": 5,
    "start_time": "2023-01-11T07:22:41.424Z"
   },
   {
    "duration": 4,
    "start_time": "2023-01-11T07:22:44.144Z"
   },
   {
    "duration": 4,
    "start_time": "2023-01-11T07:23:57.486Z"
   },
   {
    "duration": 3,
    "start_time": "2023-01-11T07:23:58.970Z"
   },
   {
    "duration": 159,
    "start_time": "2023-01-11T07:24:00.922Z"
   },
   {
    "duration": 16,
    "start_time": "2023-01-11T07:26:40.918Z"
   },
   {
    "duration": 4,
    "start_time": "2023-01-11T07:33:46.912Z"
   },
   {
    "duration": 4,
    "start_time": "2023-01-11T07:34:17.592Z"
   },
   {
    "duration": 10,
    "start_time": "2023-01-11T07:34:49.675Z"
   },
   {
    "duration": 8,
    "start_time": "2023-01-11T07:49:45.731Z"
   },
   {
    "duration": 9,
    "start_time": "2023-01-11T07:49:55.971Z"
   },
   {
    "duration": 5,
    "start_time": "2023-01-11T07:55:42.513Z"
   },
   {
    "duration": 16,
    "start_time": "2023-01-11T07:55:50.944Z"
   },
   {
    "duration": 14,
    "start_time": "2023-01-11T07:58:52.461Z"
   },
   {
    "duration": 8,
    "start_time": "2023-01-11T07:59:07.064Z"
   },
   {
    "duration": 5,
    "start_time": "2023-01-11T08:00:01.168Z"
   },
   {
    "duration": 19,
    "start_time": "2023-01-11T08:00:09.890Z"
   },
   {
    "duration": 4,
    "start_time": "2023-01-11T08:00:23.520Z"
   },
   {
    "duration": 14,
    "start_time": "2023-01-11T08:00:35.309Z"
   },
   {
    "duration": 4,
    "start_time": "2023-01-11T08:00:57.477Z"
   },
   {
    "duration": 8,
    "start_time": "2023-01-11T08:01:03.366Z"
   },
   {
    "duration": 12,
    "start_time": "2023-01-11T08:01:14.361Z"
   },
   {
    "duration": 6,
    "start_time": "2023-01-11T08:02:25.258Z"
   },
   {
    "duration": 8,
    "start_time": "2023-01-11T08:02:32.470Z"
   },
   {
    "duration": 73,
    "start_time": "2023-01-11T08:03:23.959Z"
   },
   {
    "duration": 4,
    "start_time": "2023-01-11T08:03:32.451Z"
   },
   {
    "duration": 7,
    "start_time": "2023-01-11T08:03:48.255Z"
   },
   {
    "duration": 8,
    "start_time": "2023-01-11T08:03:50.780Z"
   },
   {
    "duration": 5,
    "start_time": "2023-01-11T08:04:27.882Z"
   },
   {
    "duration": 6,
    "start_time": "2023-01-11T08:04:41.272Z"
   },
   {
    "duration": 7,
    "start_time": "2023-01-11T08:04:42.824Z"
   },
   {
    "duration": 1391,
    "start_time": "2023-01-11T08:04:55.445Z"
   },
   {
    "duration": 27,
    "start_time": "2023-01-11T08:04:56.838Z"
   },
   {
    "duration": 16,
    "start_time": "2023-01-11T08:04:56.867Z"
   },
   {
    "duration": 12,
    "start_time": "2023-01-11T08:04:56.885Z"
   },
   {
    "duration": 54,
    "start_time": "2023-01-11T08:04:56.899Z"
   },
   {
    "duration": 6,
    "start_time": "2023-01-11T08:04:56.956Z"
   },
   {
    "duration": 19,
    "start_time": "2023-01-11T08:04:56.964Z"
   },
   {
    "duration": 5,
    "start_time": "2023-01-11T08:04:56.985Z"
   },
   {
    "duration": 12,
    "start_time": "2023-01-11T08:04:56.991Z"
   },
   {
    "duration": 8,
    "start_time": "2023-01-11T08:04:57.005Z"
   },
   {
    "duration": 63,
    "start_time": "2023-01-11T08:04:57.014Z"
   },
   {
    "duration": 10,
    "start_time": "2023-01-11T08:04:57.079Z"
   },
   {
    "duration": 6,
    "start_time": "2023-01-11T08:04:57.091Z"
   },
   {
    "duration": 18,
    "start_time": "2023-01-11T08:04:57.099Z"
   },
   {
    "duration": 34,
    "start_time": "2023-01-11T08:04:57.119Z"
   },
   {
    "duration": 24,
    "start_time": "2023-01-11T08:04:57.155Z"
   },
   {
    "duration": 34,
    "start_time": "2023-01-11T08:04:57.181Z"
   },
   {
    "duration": 14,
    "start_time": "2023-01-11T08:04:57.216Z"
   },
   {
    "duration": 9,
    "start_time": "2023-01-11T08:04:57.231Z"
   },
   {
    "duration": 4,
    "start_time": "2023-01-11T08:04:57.241Z"
   },
   {
    "duration": 22,
    "start_time": "2023-01-11T08:04:57.246Z"
   },
   {
    "duration": 9,
    "start_time": "2023-01-11T08:04:57.270Z"
   },
   {
    "duration": 5,
    "start_time": "2023-01-11T08:04:57.281Z"
   },
   {
    "duration": 8,
    "start_time": "2023-01-11T08:04:57.288Z"
   },
   {
    "duration": 5,
    "start_time": "2023-01-11T08:04:57.297Z"
   },
   {
    "duration": 6,
    "start_time": "2023-01-11T08:04:57.303Z"
   },
   {
    "duration": 9,
    "start_time": "2023-01-11T08:04:57.311Z"
   },
   {
    "duration": 28,
    "start_time": "2023-01-11T08:04:57.324Z"
   },
   {
    "duration": 14,
    "start_time": "2023-01-11T08:04:57.353Z"
   },
   {
    "duration": 8,
    "start_time": "2023-01-11T08:04:57.370Z"
   },
   {
    "duration": 118,
    "start_time": "2023-01-11T08:04:57.379Z"
   },
   {
    "duration": 0,
    "start_time": "2023-01-11T08:04:57.499Z"
   },
   {
    "duration": 0,
    "start_time": "2023-01-11T08:04:57.501Z"
   },
   {
    "duration": 0,
    "start_time": "2023-01-11T08:04:57.502Z"
   },
   {
    "duration": 0,
    "start_time": "2023-01-11T08:04:57.504Z"
   },
   {
    "duration": 0,
    "start_time": "2023-01-11T08:04:57.506Z"
   },
   {
    "duration": 1,
    "start_time": "2023-01-11T08:04:57.507Z"
   },
   {
    "duration": 0,
    "start_time": "2023-01-11T08:04:57.509Z"
   },
   {
    "duration": 1,
    "start_time": "2023-01-11T08:04:57.510Z"
   },
   {
    "duration": 0,
    "start_time": "2023-01-11T08:04:57.512Z"
   },
   {
    "duration": 0,
    "start_time": "2023-01-11T08:04:57.513Z"
   },
   {
    "duration": 0,
    "start_time": "2023-01-11T08:04:57.515Z"
   },
   {
    "duration": 0,
    "start_time": "2023-01-11T08:04:57.517Z"
   },
   {
    "duration": 0,
    "start_time": "2023-01-11T08:04:57.518Z"
   },
   {
    "duration": 0,
    "start_time": "2023-01-11T08:04:57.519Z"
   },
   {
    "duration": 0,
    "start_time": "2023-01-11T08:04:57.520Z"
   },
   {
    "duration": 0,
    "start_time": "2023-01-11T08:04:57.552Z"
   },
   {
    "duration": 0,
    "start_time": "2023-01-11T08:04:57.554Z"
   },
   {
    "duration": 0,
    "start_time": "2023-01-11T08:04:57.555Z"
   },
   {
    "duration": 0,
    "start_time": "2023-01-11T08:04:57.561Z"
   },
   {
    "duration": 0,
    "start_time": "2023-01-11T08:04:57.563Z"
   },
   {
    "duration": 0,
    "start_time": "2023-01-11T08:04:57.564Z"
   },
   {
    "duration": 0,
    "start_time": "2023-01-11T08:04:57.565Z"
   },
   {
    "duration": 0,
    "start_time": "2023-01-11T08:04:57.567Z"
   },
   {
    "duration": 0,
    "start_time": "2023-01-11T08:04:57.568Z"
   },
   {
    "duration": 0,
    "start_time": "2023-01-11T08:04:57.570Z"
   },
   {
    "duration": 0,
    "start_time": "2023-01-11T08:04:57.572Z"
   },
   {
    "duration": 0,
    "start_time": "2023-01-11T08:04:57.572Z"
   },
   {
    "duration": 0,
    "start_time": "2023-01-11T08:04:57.573Z"
   },
   {
    "duration": 0,
    "start_time": "2023-01-11T08:04:57.574Z"
   },
   {
    "duration": 0,
    "start_time": "2023-01-11T08:04:57.575Z"
   },
   {
    "duration": 0,
    "start_time": "2023-01-11T08:04:57.576Z"
   },
   {
    "duration": 0,
    "start_time": "2023-01-11T08:04:57.577Z"
   },
   {
    "duration": 0,
    "start_time": "2023-01-11T08:04:57.578Z"
   },
   {
    "duration": 0,
    "start_time": "2023-01-11T08:04:57.579Z"
   },
   {
    "duration": 0,
    "start_time": "2023-01-11T08:04:57.580Z"
   },
   {
    "duration": 0,
    "start_time": "2023-01-11T08:04:57.581Z"
   },
   {
    "duration": 0,
    "start_time": "2023-01-11T08:04:57.583Z"
   },
   {
    "duration": 0,
    "start_time": "2023-01-11T08:04:57.584Z"
   },
   {
    "duration": 0,
    "start_time": "2023-01-11T08:04:57.584Z"
   },
   {
    "duration": 0,
    "start_time": "2023-01-11T08:04:57.585Z"
   },
   {
    "duration": 0,
    "start_time": "2023-01-11T08:04:57.586Z"
   },
   {
    "duration": 0,
    "start_time": "2023-01-11T08:04:57.588Z"
   },
   {
    "duration": 0,
    "start_time": "2023-01-11T08:04:57.589Z"
   },
   {
    "duration": 0,
    "start_time": "2023-01-11T08:04:57.590Z"
   },
   {
    "duration": 0,
    "start_time": "2023-01-11T08:04:57.591Z"
   },
   {
    "duration": 1,
    "start_time": "2023-01-11T08:04:57.591Z"
   },
   {
    "duration": 0,
    "start_time": "2023-01-11T08:04:57.651Z"
   },
   {
    "duration": 0,
    "start_time": "2023-01-11T08:04:57.652Z"
   },
   {
    "duration": 0,
    "start_time": "2023-01-11T08:04:57.656Z"
   },
   {
    "duration": 0,
    "start_time": "2023-01-11T08:04:57.657Z"
   },
   {
    "duration": 0,
    "start_time": "2023-01-11T08:04:57.658Z"
   },
   {
    "duration": 0,
    "start_time": "2023-01-11T08:04:57.659Z"
   },
   {
    "duration": 0,
    "start_time": "2023-01-11T08:04:57.660Z"
   },
   {
    "duration": 0,
    "start_time": "2023-01-11T08:04:57.661Z"
   },
   {
    "duration": 0,
    "start_time": "2023-01-11T08:04:57.663Z"
   },
   {
    "duration": 0,
    "start_time": "2023-01-11T08:04:57.664Z"
   },
   {
    "duration": 0,
    "start_time": "2023-01-11T08:04:57.665Z"
   },
   {
    "duration": 0,
    "start_time": "2023-01-11T08:04:57.666Z"
   },
   {
    "duration": 0,
    "start_time": "2023-01-11T08:04:57.667Z"
   },
   {
    "duration": 0,
    "start_time": "2023-01-11T08:04:57.668Z"
   },
   {
    "duration": 10,
    "start_time": "2023-01-11T08:05:48.510Z"
   },
   {
    "duration": 15,
    "start_time": "2023-01-11T08:05:55.894Z"
   },
   {
    "duration": 5,
    "start_time": "2023-01-11T08:05:58.745Z"
   },
   {
    "duration": 4,
    "start_time": "2023-01-11T08:06:04.936Z"
   },
   {
    "duration": 7,
    "start_time": "2023-01-11T08:06:08.509Z"
   },
   {
    "duration": 8,
    "start_time": "2023-01-11T08:06:10.338Z"
   },
   {
    "duration": 10,
    "start_time": "2023-01-11T08:06:16.732Z"
   },
   {
    "duration": 169,
    "start_time": "2023-01-11T08:07:34.871Z"
   },
   {
    "duration": 11,
    "start_time": "2023-01-11T08:07:58.872Z"
   },
   {
    "duration": 6,
    "start_time": "2023-01-11T08:08:09.516Z"
   },
   {
    "duration": 6,
    "start_time": "2023-01-11T08:08:11.114Z"
   },
   {
    "duration": 6,
    "start_time": "2023-01-11T08:08:12.616Z"
   },
   {
    "duration": 7,
    "start_time": "2023-01-11T08:08:14.481Z"
   },
   {
    "duration": 6,
    "start_time": "2023-01-11T08:08:15.924Z"
   },
   {
    "duration": 12,
    "start_time": "2023-01-11T08:08:18.290Z"
   },
   {
    "duration": 6,
    "start_time": "2023-01-11T08:10:40.381Z"
   },
   {
    "duration": 7,
    "start_time": "2023-01-11T08:10:42.211Z"
   },
   {
    "duration": 12,
    "start_time": "2023-01-11T08:11:33.868Z"
   },
   {
    "duration": 9,
    "start_time": "2023-01-11T08:12:10.096Z"
   },
   {
    "duration": 7,
    "start_time": "2023-01-11T08:12:47.535Z"
   },
   {
    "duration": 10,
    "start_time": "2023-01-11T08:13:15.042Z"
   },
   {
    "duration": 23,
    "start_time": "2023-01-11T08:13:22.367Z"
   },
   {
    "duration": 7,
    "start_time": "2023-01-11T08:13:35.827Z"
   },
   {
    "duration": 7,
    "start_time": "2023-01-11T08:13:37.185Z"
   },
   {
    "duration": 4,
    "start_time": "2023-01-11T08:13:38.678Z"
   },
   {
    "duration": 7,
    "start_time": "2023-01-11T08:13:44.565Z"
   },
   {
    "duration": 5,
    "start_time": "2023-01-11T08:14:29.679Z"
   },
   {
    "duration": 12,
    "start_time": "2023-01-11T08:14:30.617Z"
   },
   {
    "duration": 153,
    "start_time": "2023-01-11T08:14:31.907Z"
   },
   {
    "duration": 11,
    "start_time": "2023-01-11T08:14:47.655Z"
   },
   {
    "duration": 4,
    "start_time": "2023-01-11T08:15:03.470Z"
   },
   {
    "duration": 4,
    "start_time": "2023-01-11T08:15:07.731Z"
   },
   {
    "duration": 3,
    "start_time": "2023-01-11T08:15:08.333Z"
   },
   {
    "duration": 167,
    "start_time": "2023-01-11T08:15:09.265Z"
   },
   {
    "duration": 214,
    "start_time": "2023-01-11T08:15:36.934Z"
   },
   {
    "duration": 221,
    "start_time": "2023-01-11T08:15:52.052Z"
   },
   {
    "duration": 6,
    "start_time": "2023-01-11T08:36:47.398Z"
   },
   {
    "duration": 23,
    "start_time": "2023-01-11T08:37:13.073Z"
   },
   {
    "duration": 9,
    "start_time": "2023-01-11T08:38:01.686Z"
   },
   {
    "duration": 19,
    "start_time": "2023-01-11T08:39:35.711Z"
   },
   {
    "duration": 29,
    "start_time": "2023-01-11T08:39:43.820Z"
   },
   {
    "duration": 4,
    "start_time": "2023-01-11T08:42:12.045Z"
   },
   {
    "duration": 26,
    "start_time": "2023-01-11T08:42:22.061Z"
   },
   {
    "duration": 32,
    "start_time": "2023-01-11T08:42:56.889Z"
   },
   {
    "duration": 20,
    "start_time": "2023-01-11T08:42:58.051Z"
   },
   {
    "duration": 13,
    "start_time": "2023-01-11T08:43:01.783Z"
   },
   {
    "duration": 13,
    "start_time": "2023-01-11T08:43:16.711Z"
   },
   {
    "duration": 13,
    "start_time": "2023-01-11T08:44:25.418Z"
   },
   {
    "duration": 17,
    "start_time": "2023-01-11T08:44:34.021Z"
   },
   {
    "duration": 1425,
    "start_time": "2023-01-11T08:44:43.257Z"
   },
   {
    "duration": 23,
    "start_time": "2023-01-11T08:44:44.685Z"
   },
   {
    "duration": 19,
    "start_time": "2023-01-11T08:44:44.710Z"
   },
   {
    "duration": 17,
    "start_time": "2023-01-11T08:44:44.752Z"
   },
   {
    "duration": 51,
    "start_time": "2023-01-11T08:44:44.772Z"
   },
   {
    "duration": 4,
    "start_time": "2023-01-11T08:44:44.825Z"
   },
   {
    "duration": 28,
    "start_time": "2023-01-11T08:44:44.831Z"
   },
   {
    "duration": 17,
    "start_time": "2023-01-11T08:44:44.862Z"
   },
   {
    "duration": 14,
    "start_time": "2023-01-11T08:44:44.881Z"
   },
   {
    "duration": 27,
    "start_time": "2023-01-11T08:44:44.898Z"
   },
   {
    "duration": 51,
    "start_time": "2023-01-11T08:44:44.927Z"
   },
   {
    "duration": 11,
    "start_time": "2023-01-11T08:44:44.980Z"
   },
   {
    "duration": 5,
    "start_time": "2023-01-11T08:44:44.993Z"
   },
   {
    "duration": 16,
    "start_time": "2023-01-11T08:44:45.000Z"
   },
   {
    "duration": 50,
    "start_time": "2023-01-11T08:44:45.018Z"
   },
   {
    "duration": 24,
    "start_time": "2023-01-11T08:44:45.070Z"
   },
   {
    "duration": 4,
    "start_time": "2023-01-11T08:44:45.096Z"
   },
   {
    "duration": 15,
    "start_time": "2023-01-11T08:44:45.102Z"
   },
   {
    "duration": 32,
    "start_time": "2023-01-11T08:44:45.119Z"
   },
   {
    "duration": 4,
    "start_time": "2023-01-11T08:44:45.154Z"
   },
   {
    "duration": 22,
    "start_time": "2023-01-11T08:44:45.161Z"
   },
   {
    "duration": 18,
    "start_time": "2023-01-11T08:44:45.185Z"
   },
   {
    "duration": 8,
    "start_time": "2023-01-11T08:44:45.205Z"
   },
   {
    "duration": 16,
    "start_time": "2023-01-11T08:44:45.215Z"
   },
   {
    "duration": 18,
    "start_time": "2023-01-11T08:44:45.233Z"
   },
   {
    "duration": 5,
    "start_time": "2023-01-11T08:44:45.254Z"
   },
   {
    "duration": 18,
    "start_time": "2023-01-11T08:44:45.261Z"
   },
   {
    "duration": 5,
    "start_time": "2023-01-11T08:44:45.285Z"
   },
   {
    "duration": 8,
    "start_time": "2023-01-11T08:44:45.292Z"
   },
   {
    "duration": 9,
    "start_time": "2023-01-11T08:44:45.302Z"
   },
   {
    "duration": 30,
    "start_time": "2023-01-11T08:44:45.313Z"
   },
   {
    "duration": 24,
    "start_time": "2023-01-11T08:44:45.345Z"
   },
   {
    "duration": 6,
    "start_time": "2023-01-11T08:44:45.371Z"
   },
   {
    "duration": 13,
    "start_time": "2023-01-11T08:44:45.378Z"
   },
   {
    "duration": 9,
    "start_time": "2023-01-11T08:44:45.392Z"
   },
   {
    "duration": 189,
    "start_time": "2023-01-11T08:44:45.403Z"
   },
   {
    "duration": 144,
    "start_time": "2023-01-11T08:44:45.593Z"
   },
   {
    "duration": 28,
    "start_time": "2023-01-11T08:44:45.739Z"
   },
   {
    "duration": 7,
    "start_time": "2023-01-11T08:44:45.770Z"
   },
   {
    "duration": 8,
    "start_time": "2023-01-11T08:44:45.778Z"
   },
   {
    "duration": 12,
    "start_time": "2023-01-11T08:44:45.787Z"
   },
   {
    "duration": 20,
    "start_time": "2023-01-11T08:44:45.801Z"
   },
   {
    "duration": 275,
    "start_time": "2023-01-11T08:44:45.823Z"
   },
   {
    "duration": 25,
    "start_time": "2023-01-11T08:44:46.100Z"
   },
   {
    "duration": 48,
    "start_time": "2023-01-11T08:44:46.127Z"
   },
   {
    "duration": 6,
    "start_time": "2023-01-11T08:44:46.176Z"
   },
   {
    "duration": 12,
    "start_time": "2023-01-11T08:44:46.184Z"
   },
   {
    "duration": 10,
    "start_time": "2023-01-11T08:44:46.198Z"
   },
   {
    "duration": 20,
    "start_time": "2023-01-11T08:44:46.211Z"
   },
   {
    "duration": 8,
    "start_time": "2023-01-11T08:44:46.233Z"
   },
   {
    "duration": 13,
    "start_time": "2023-01-11T08:44:46.250Z"
   },
   {
    "duration": 333,
    "start_time": "2023-01-11T08:44:46.265Z"
   },
   {
    "duration": 9,
    "start_time": "2023-01-11T08:44:46.600Z"
   },
   {
    "duration": 42,
    "start_time": "2023-01-11T08:44:46.611Z"
   },
   {
    "duration": 41,
    "start_time": "2023-01-11T08:44:46.655Z"
   },
   {
    "duration": 11,
    "start_time": "2023-01-11T08:44:46.698Z"
   },
   {
    "duration": 41,
    "start_time": "2023-01-11T08:44:46.711Z"
   },
   {
    "duration": 31,
    "start_time": "2023-01-11T08:44:46.754Z"
   },
   {
    "duration": 6,
    "start_time": "2023-01-11T08:44:46.786Z"
   },
   {
    "duration": 59,
    "start_time": "2023-01-11T08:44:46.793Z"
   },
   {
    "duration": 4,
    "start_time": "2023-01-11T08:44:46.856Z"
   },
   {
    "duration": 27,
    "start_time": "2023-01-11T08:44:46.863Z"
   },
   {
    "duration": 6,
    "start_time": "2023-01-11T08:44:46.892Z"
   },
   {
    "duration": 6,
    "start_time": "2023-01-11T08:44:46.900Z"
   },
   {
    "duration": 7,
    "start_time": "2023-01-11T08:44:46.908Z"
   },
   {
    "duration": 2511,
    "start_time": "2023-01-11T08:44:46.916Z"
   },
   {
    "duration": 7,
    "start_time": "2023-01-11T08:44:49.429Z"
   },
   {
    "duration": 18,
    "start_time": "2023-01-11T08:44:49.438Z"
   },
   {
    "duration": 21,
    "start_time": "2023-01-11T08:44:49.459Z"
   },
   {
    "duration": 8,
    "start_time": "2023-01-11T08:44:49.482Z"
   },
   {
    "duration": 12,
    "start_time": "2023-01-11T08:44:49.491Z"
   },
   {
    "duration": 13,
    "start_time": "2023-01-11T08:44:49.504Z"
   },
   {
    "duration": 11,
    "start_time": "2023-01-11T08:44:49.519Z"
   },
   {
    "duration": 8,
    "start_time": "2023-01-11T08:44:49.531Z"
   },
   {
    "duration": 10,
    "start_time": "2023-01-11T08:44:49.541Z"
   },
   {
    "duration": 22,
    "start_time": "2023-01-11T08:44:49.553Z"
   },
   {
    "duration": 14,
    "start_time": "2023-01-11T08:44:49.577Z"
   },
   {
    "duration": 17,
    "start_time": "2023-01-11T08:44:49.593Z"
   },
   {
    "duration": 21,
    "start_time": "2023-01-11T08:44:49.613Z"
   },
   {
    "duration": 33,
    "start_time": "2023-01-11T08:44:49.636Z"
   },
   {
    "duration": 15,
    "start_time": "2023-01-11T08:44:49.672Z"
   },
   {
    "duration": 14,
    "start_time": "2023-01-11T08:44:49.695Z"
   },
   {
    "duration": 16,
    "start_time": "2023-01-11T08:44:49.711Z"
   },
   {
    "duration": 448,
    "start_time": "2023-01-11T08:44:49.729Z"
   },
   {
    "duration": 25,
    "start_time": "2023-01-11T08:44:50.180Z"
   },
   {
    "duration": 22,
    "start_time": "2023-01-11T08:44:50.207Z"
   },
   {
    "duration": 51,
    "start_time": "2023-01-11T08:44:50.231Z"
   },
   {
    "duration": 41,
    "start_time": "2023-01-11T08:44:50.284Z"
   },
   {
    "duration": 26,
    "start_time": "2023-01-11T08:44:50.327Z"
   },
   {
    "duration": 41,
    "start_time": "2023-01-11T08:44:50.355Z"
   },
   {
    "duration": 32,
    "start_time": "2023-01-11T08:45:30.705Z"
   },
   {
    "duration": 21,
    "start_time": "2023-01-11T08:49:01.151Z"
   },
   {
    "duration": 41,
    "start_time": "2023-01-11T08:51:43.231Z"
   },
   {
    "duration": 16,
    "start_time": "2023-01-11T08:58:52.280Z"
   },
   {
    "duration": 137,
    "start_time": "2023-01-11T08:59:18.199Z"
   },
   {
    "duration": 29,
    "start_time": "2023-01-11T08:59:59.383Z"
   },
   {
    "duration": 10,
    "start_time": "2023-01-11T09:00:26.125Z"
   },
   {
    "duration": 28,
    "start_time": "2023-01-11T09:00:32.782Z"
   },
   {
    "duration": 23,
    "start_time": "2023-01-11T09:01:09.912Z"
   },
   {
    "duration": 26,
    "start_time": "2023-01-11T09:05:19.383Z"
   },
   {
    "duration": 33,
    "start_time": "2023-01-11T09:07:25.114Z"
   },
   {
    "duration": 97,
    "start_time": "2023-01-11T09:19:42.575Z"
   },
   {
    "duration": 26,
    "start_time": "2023-01-11T09:20:34.771Z"
   },
   {
    "duration": 66,
    "start_time": "2023-01-11T09:22:27.970Z"
   },
   {
    "duration": 30,
    "start_time": "2023-01-11T09:23:29.074Z"
   },
   {
    "duration": 100,
    "start_time": "2023-01-11T09:24:10.488Z"
   },
   {
    "duration": 20,
    "start_time": "2023-01-11T09:24:17.604Z"
   },
   {
    "duration": 58,
    "start_time": "2023-01-11T09:24:38.424Z"
   },
   {
    "duration": 36,
    "start_time": "2023-01-11T09:31:23.543Z"
   },
   {
    "duration": 46,
    "start_time": "2023-01-11T09:32:15.793Z"
   },
   {
    "duration": 28,
    "start_time": "2023-01-11T09:32:53.191Z"
   },
   {
    "duration": 52,
    "start_time": "2023-01-11T09:33:00.209Z"
   },
   {
    "duration": 64,
    "start_time": "2023-01-11T09:48:55.734Z"
   },
   {
    "duration": 145,
    "start_time": "2023-01-11T09:49:10.831Z"
   },
   {
    "duration": 55,
    "start_time": "2023-01-11T09:58:54.827Z"
   },
   {
    "duration": 55,
    "start_time": "2023-01-11T10:00:56.535Z"
   },
   {
    "duration": 24,
    "start_time": "2023-01-11T10:01:23.000Z"
   },
   {
    "duration": 59,
    "start_time": "2023-01-11T10:01:59.636Z"
   },
   {
    "duration": 43,
    "start_time": "2023-01-11T10:02:15.370Z"
   },
   {
    "duration": 43,
    "start_time": "2023-01-11T10:02:51.366Z"
   },
   {
    "duration": 13,
    "start_time": "2023-01-11T10:06:47.605Z"
   },
   {
    "duration": 13,
    "start_time": "2023-01-11T10:06:52.088Z"
   },
   {
    "duration": 17,
    "start_time": "2023-01-11T10:06:57.901Z"
   },
   {
    "duration": 25,
    "start_time": "2023-01-11T10:07:12.180Z"
   },
   {
    "duration": 15,
    "start_time": "2023-01-11T10:07:51.502Z"
   },
   {
    "duration": 14,
    "start_time": "2023-01-11T10:07:58.085Z"
   },
   {
    "duration": 8,
    "start_time": "2023-01-11T10:08:23.268Z"
   },
   {
    "duration": 1878,
    "start_time": "2023-01-11T10:08:46.593Z"
   },
   {
    "duration": 10,
    "start_time": "2023-01-11T10:08:55.678Z"
   },
   {
    "duration": 24,
    "start_time": "2023-01-11T10:11:04.716Z"
   },
   {
    "duration": 31,
    "start_time": "2023-01-11T10:11:23.669Z"
   },
   {
    "duration": 47,
    "start_time": "2023-01-11T10:14:04.990Z"
   },
   {
    "duration": 74,
    "start_time": "2023-01-11T10:16:46.674Z"
   },
   {
    "duration": 19,
    "start_time": "2023-01-11T10:17:02.978Z"
   },
   {
    "duration": 33,
    "start_time": "2023-01-11T10:17:34.999Z"
   },
   {
    "duration": 4,
    "start_time": "2023-01-11T10:27:11.722Z"
   },
   {
    "duration": 12,
    "start_time": "2023-01-11T10:27:18.680Z"
   },
   {
    "duration": 8,
    "start_time": "2023-01-11T10:28:12.921Z"
   },
   {
    "duration": 13,
    "start_time": "2023-01-11T10:28:28.746Z"
   },
   {
    "duration": 18,
    "start_time": "2023-01-11T10:35:39.254Z"
   },
   {
    "duration": 22,
    "start_time": "2023-01-11T10:36:06.258Z"
   },
   {
    "duration": 13,
    "start_time": "2023-01-11T10:36:28.776Z"
   },
   {
    "duration": 12,
    "start_time": "2023-01-11T10:36:44.213Z"
   },
   {
    "duration": 51,
    "start_time": "2023-01-11T10:37:17.557Z"
   },
   {
    "duration": 17,
    "start_time": "2023-01-11T10:37:49.018Z"
   },
   {
    "duration": 14,
    "start_time": "2023-01-11T10:37:56.054Z"
   },
   {
    "duration": 44,
    "start_time": "2023-01-11T10:38:04.465Z"
   },
   {
    "duration": 19,
    "start_time": "2023-01-11T10:38:19.941Z"
   },
   {
    "duration": 84,
    "start_time": "2023-01-11T10:40:18.112Z"
   },
   {
    "duration": 74,
    "start_time": "2023-01-11T10:40:57.743Z"
   },
   {
    "duration": 13,
    "start_time": "2023-01-11T10:41:46.642Z"
   },
   {
    "duration": 19,
    "start_time": "2023-01-11T10:41:55.292Z"
   },
   {
    "duration": 23,
    "start_time": "2023-01-11T10:42:11.507Z"
   },
   {
    "duration": 13,
    "start_time": "2023-01-11T10:44:41.008Z"
   },
   {
    "duration": 18,
    "start_time": "2023-01-11T10:44:56.149Z"
   },
   {
    "duration": 14,
    "start_time": "2023-01-11T10:45:13.567Z"
   },
   {
    "duration": 11,
    "start_time": "2023-01-11T10:47:56.073Z"
   },
   {
    "duration": 12,
    "start_time": "2023-01-11T10:49:58.467Z"
   },
   {
    "duration": 7,
    "start_time": "2023-01-11T10:50:07.464Z"
   },
   {
    "duration": 72,
    "start_time": "2023-01-11T10:51:32.293Z"
   },
   {
    "duration": 85,
    "start_time": "2023-01-11T10:51:54.688Z"
   },
   {
    "duration": 11,
    "start_time": "2023-01-11T10:52:40.873Z"
   },
   {
    "duration": 7,
    "start_time": "2023-01-11T10:52:46.193Z"
   },
   {
    "duration": 7,
    "start_time": "2023-01-11T10:56:34.334Z"
   },
   {
    "duration": 12,
    "start_time": "2023-01-11T10:56:41.029Z"
   },
   {
    "duration": 12,
    "start_time": "2023-01-11T11:00:42.767Z"
   },
   {
    "duration": 12,
    "start_time": "2023-01-11T11:01:09.290Z"
   },
   {
    "duration": 21,
    "start_time": "2023-01-11T11:03:53.456Z"
   },
   {
    "duration": 42,
    "start_time": "2023-01-11T11:04:58.440Z"
   },
   {
    "duration": 46,
    "start_time": "2023-01-11T11:07:15.066Z"
   },
   {
    "duration": 11,
    "start_time": "2023-01-11T11:09:34.492Z"
   },
   {
    "duration": 7,
    "start_time": "2023-01-11T11:10:28.036Z"
   },
   {
    "duration": 12,
    "start_time": "2023-01-11T11:13:02.473Z"
   },
   {
    "duration": 11,
    "start_time": "2023-01-11T11:13:18.097Z"
   },
   {
    "duration": 39,
    "start_time": "2023-01-11T11:13:33.480Z"
   },
   {
    "duration": 35,
    "start_time": "2023-01-11T11:13:41.753Z"
   },
   {
    "duration": 11,
    "start_time": "2023-01-11T11:28:10.386Z"
   },
   {
    "duration": 5,
    "start_time": "2023-01-11T11:29:04.938Z"
   },
   {
    "duration": 14,
    "start_time": "2023-01-11T11:29:11.908Z"
   },
   {
    "duration": 11,
    "start_time": "2023-01-11T11:29:44.894Z"
   },
   {
    "duration": 12,
    "start_time": "2023-01-11T11:30:21.514Z"
   },
   {
    "duration": 11,
    "start_time": "2023-01-11T11:30:56.992Z"
   },
   {
    "duration": 13,
    "start_time": "2023-01-11T11:31:12.165Z"
   },
   {
    "duration": 11,
    "start_time": "2023-01-11T11:31:23.001Z"
   },
   {
    "duration": 1170,
    "start_time": "2023-01-11T11:32:08.568Z"
   },
   {
    "duration": 13,
    "start_time": "2023-01-11T11:43:55.903Z"
   },
   {
    "duration": 19,
    "start_time": "2023-01-11T11:46:56.112Z"
   },
   {
    "duration": 14,
    "start_time": "2023-01-11T11:47:18.220Z"
   },
   {
    "duration": 6,
    "start_time": "2023-01-11T11:48:42.339Z"
   },
   {
    "duration": 7,
    "start_time": "2023-01-11T11:48:48.172Z"
   },
   {
    "duration": 299,
    "start_time": "2023-01-11T11:51:44.139Z"
   },
   {
    "duration": 212,
    "start_time": "2023-01-11T11:54:21.645Z"
   },
   {
    "duration": 204,
    "start_time": "2023-01-11T11:54:39.890Z"
   },
   {
    "duration": 213,
    "start_time": "2023-01-11T11:54:49.064Z"
   },
   {
    "duration": 214,
    "start_time": "2023-01-11T11:54:58.912Z"
   },
   {
    "duration": 13,
    "start_time": "2023-01-11T11:57:47.345Z"
   },
   {
    "duration": 215,
    "start_time": "2023-01-11T11:57:55.899Z"
   },
   {
    "duration": 16,
    "start_time": "2023-01-11T12:21:00.138Z"
   },
   {
    "duration": 7,
    "start_time": "2023-01-11T12:22:35.825Z"
   },
   {
    "duration": 19,
    "start_time": "2023-01-11T12:24:29.967Z"
   },
   {
    "duration": 26,
    "start_time": "2023-01-11T12:24:39.342Z"
   },
   {
    "duration": 18,
    "start_time": "2023-01-11T12:25:23.163Z"
   },
   {
    "duration": 31,
    "start_time": "2023-01-11T12:27:17.166Z"
   },
   {
    "duration": 20,
    "start_time": "2023-01-11T12:28:01.577Z"
   },
   {
    "duration": 21,
    "start_time": "2023-01-11T12:31:07.063Z"
   },
   {
    "duration": 33,
    "start_time": "2023-01-11T12:32:32.606Z"
   },
   {
    "duration": 45,
    "start_time": "2023-01-11T12:33:13.133Z"
   },
   {
    "duration": 112,
    "start_time": "2023-01-11T12:35:13.504Z"
   },
   {
    "duration": 110,
    "start_time": "2023-01-11T12:36:47.956Z"
   },
   {
    "duration": 74,
    "start_time": "2023-01-11T12:37:05.013Z"
   },
   {
    "duration": 49,
    "start_time": "2023-01-11T12:38:40.555Z"
   },
   {
    "duration": 43,
    "start_time": "2023-01-11T12:39:17.362Z"
   },
   {
    "duration": 45,
    "start_time": "2023-01-11T12:40:27.975Z"
   },
   {
    "duration": 30,
    "start_time": "2023-01-11T12:41:06.130Z"
   },
   {
    "duration": 34,
    "start_time": "2023-01-11T12:41:15.661Z"
   },
   {
    "duration": 21,
    "start_time": "2023-01-11T12:43:19.576Z"
   },
   {
    "duration": 25,
    "start_time": "2023-01-11T12:43:29.688Z"
   },
   {
    "duration": 18,
    "start_time": "2023-01-11T12:43:56.653Z"
   },
   {
    "duration": 16,
    "start_time": "2023-01-11T12:44:49.521Z"
   },
   {
    "duration": 29,
    "start_time": "2023-01-11T12:45:03.881Z"
   },
   {
    "duration": 17,
    "start_time": "2023-01-11T12:46:04.068Z"
   },
   {
    "duration": 15,
    "start_time": "2023-01-11T12:46:35.788Z"
   },
   {
    "duration": 44,
    "start_time": "2023-01-11T12:48:41.871Z"
   },
   {
    "duration": 374,
    "start_time": "2023-01-11T12:50:50.745Z"
   },
   {
    "duration": 47,
    "start_time": "2023-01-11T12:51:13.117Z"
   },
   {
    "duration": 37,
    "start_time": "2023-01-11T12:51:46.711Z"
   },
   {
    "duration": 43,
    "start_time": "2023-01-11T12:52:01.900Z"
   },
   {
    "duration": 24,
    "start_time": "2023-01-11T12:53:17.597Z"
   },
   {
    "duration": 42,
    "start_time": "2023-01-11T12:54:23.811Z"
   },
   {
    "duration": 42,
    "start_time": "2023-01-11T12:55:05.908Z"
   },
   {
    "duration": 46,
    "start_time": "2023-01-11T12:55:22.760Z"
   },
   {
    "duration": 41,
    "start_time": "2023-01-11T12:55:28.989Z"
   },
   {
    "duration": 38,
    "start_time": "2023-01-11T12:56:04.856Z"
   },
   {
    "duration": 24,
    "start_time": "2023-01-11T12:57:00.947Z"
   },
   {
    "duration": 23,
    "start_time": "2023-01-11T12:57:06.397Z"
   },
   {
    "duration": 14,
    "start_time": "2023-01-11T12:58:07.710Z"
   },
   {
    "duration": 8,
    "start_time": "2023-01-11T12:58:26.232Z"
   },
   {
    "duration": 13,
    "start_time": "2023-01-11T12:58:32.421Z"
   },
   {
    "duration": 27,
    "start_time": "2023-01-11T12:59:27.201Z"
   },
   {
    "duration": 48,
    "start_time": "2023-01-11T12:59:32.550Z"
   },
   {
    "duration": 225,
    "start_time": "2023-01-11T13:01:11.543Z"
   },
   {
    "duration": 1616,
    "start_time": "2023-01-11T13:01:31.612Z"
   },
   {
    "duration": 33,
    "start_time": "2023-01-11T13:01:33.230Z"
   },
   {
    "duration": 25,
    "start_time": "2023-01-11T13:01:33.265Z"
   },
   {
    "duration": 15,
    "start_time": "2023-01-11T13:01:33.294Z"
   },
   {
    "duration": 65,
    "start_time": "2023-01-11T13:01:33.312Z"
   },
   {
    "duration": 5,
    "start_time": "2023-01-11T13:01:33.379Z"
   },
   {
    "duration": 18,
    "start_time": "2023-01-11T13:01:33.385Z"
   },
   {
    "duration": 8,
    "start_time": "2023-01-11T13:01:33.405Z"
   },
   {
    "duration": 9,
    "start_time": "2023-01-11T13:01:33.418Z"
   },
   {
    "duration": 24,
    "start_time": "2023-01-11T13:01:33.431Z"
   },
   {
    "duration": 61,
    "start_time": "2023-01-11T13:01:33.457Z"
   },
   {
    "duration": 14,
    "start_time": "2023-01-11T13:01:33.520Z"
   },
   {
    "duration": 6,
    "start_time": "2023-01-11T13:01:33.550Z"
   },
   {
    "duration": 22,
    "start_time": "2023-01-11T13:01:33.558Z"
   },
   {
    "duration": 36,
    "start_time": "2023-01-11T13:01:33.583Z"
   },
   {
    "duration": 50,
    "start_time": "2023-01-11T13:01:33.621Z"
   },
   {
    "duration": 6,
    "start_time": "2023-01-11T13:01:33.674Z"
   },
   {
    "duration": 21,
    "start_time": "2023-01-11T13:01:33.681Z"
   },
   {
    "duration": 19,
    "start_time": "2023-01-11T13:01:33.705Z"
   },
   {
    "duration": 13,
    "start_time": "2023-01-11T13:01:33.726Z"
   },
   {
    "duration": 14,
    "start_time": "2023-01-11T13:01:33.752Z"
   },
   {
    "duration": 8,
    "start_time": "2023-01-11T13:01:33.769Z"
   },
   {
    "duration": 10,
    "start_time": "2023-01-11T13:01:33.780Z"
   },
   {
    "duration": 12,
    "start_time": "2023-01-11T13:01:33.792Z"
   },
   {
    "duration": 9,
    "start_time": "2023-01-11T13:01:33.807Z"
   },
   {
    "duration": 38,
    "start_time": "2023-01-11T13:01:33.818Z"
   },
   {
    "duration": 15,
    "start_time": "2023-01-11T13:01:33.859Z"
   },
   {
    "duration": 9,
    "start_time": "2023-01-11T13:01:33.881Z"
   },
   {
    "duration": 13,
    "start_time": "2023-01-11T13:01:33.892Z"
   },
   {
    "duration": 7,
    "start_time": "2023-01-11T13:01:33.908Z"
   },
   {
    "duration": 37,
    "start_time": "2023-01-11T13:01:33.917Z"
   },
   {
    "duration": 10,
    "start_time": "2023-01-11T13:01:33.957Z"
   },
   {
    "duration": 12,
    "start_time": "2023-01-11T13:01:33.970Z"
   },
   {
    "duration": 8,
    "start_time": "2023-01-11T13:01:33.984Z"
   },
   {
    "duration": 21,
    "start_time": "2023-01-11T13:01:33.995Z"
   },
   {
    "duration": 16,
    "start_time": "2023-01-11T13:01:34.018Z"
   },
   {
    "duration": 199,
    "start_time": "2023-01-11T13:01:34.038Z"
   },
   {
    "duration": 16,
    "start_time": "2023-01-11T13:01:34.240Z"
   },
   {
    "duration": 4,
    "start_time": "2023-01-11T13:01:34.259Z"
   },
   {
    "duration": 11,
    "start_time": "2023-01-11T13:01:34.265Z"
   },
   {
    "duration": 9,
    "start_time": "2023-01-11T13:01:34.278Z"
   },
   {
    "duration": 19,
    "start_time": "2023-01-11T13:01:34.289Z"
   },
   {
    "duration": 229,
    "start_time": "2023-01-11T13:01:34.309Z"
   },
   {
    "duration": 50,
    "start_time": "2023-01-11T13:01:34.541Z"
   },
   {
    "duration": 6,
    "start_time": "2023-01-11T13:01:34.593Z"
   },
   {
    "duration": 77,
    "start_time": "2023-01-11T13:01:34.601Z"
   },
   {
    "duration": 15,
    "start_time": "2023-01-11T13:01:34.681Z"
   },
   {
    "duration": 24,
    "start_time": "2023-01-11T13:01:34.698Z"
   },
   {
    "duration": 201,
    "start_time": "2023-01-11T13:01:34.724Z"
   },
   {
    "duration": 25,
    "start_time": "2023-01-11T13:01:34.927Z"
   },
   {
    "duration": 41,
    "start_time": "2023-01-11T13:01:34.955Z"
   },
   {
    "duration": 31,
    "start_time": "2023-01-11T13:01:34.998Z"
   },
   {
    "duration": 36,
    "start_time": "2023-01-11T13:01:35.031Z"
   },
   {
    "duration": 307,
    "start_time": "2023-01-11T13:01:35.069Z"
   },
   {
    "duration": 15,
    "start_time": "2023-01-11T13:01:35.378Z"
   },
   {
    "duration": 7,
    "start_time": "2023-01-11T13:01:35.395Z"
   },
   {
    "duration": 25,
    "start_time": "2023-01-11T13:01:35.404Z"
   },
   {
    "duration": 8,
    "start_time": "2023-01-11T13:01:35.451Z"
   },
   {
    "duration": 15,
    "start_time": "2023-01-11T13:01:35.463Z"
   },
   {
    "duration": 9,
    "start_time": "2023-01-11T13:01:35.481Z"
   },
   {
    "duration": 2455,
    "start_time": "2023-01-11T13:01:35.493Z"
   },
   {
    "duration": 7,
    "start_time": "2023-01-11T13:01:37.950Z"
   },
   {
    "duration": 11,
    "start_time": "2023-01-11T13:01:37.959Z"
   },
   {
    "duration": 11,
    "start_time": "2023-01-11T13:01:37.972Z"
   },
   {
    "duration": 12,
    "start_time": "2023-01-11T13:01:37.984Z"
   },
   {
    "duration": 12,
    "start_time": "2023-01-11T13:01:37.998Z"
   },
   {
    "duration": 11,
    "start_time": "2023-01-11T13:01:38.012Z"
   },
   {
    "duration": 27,
    "start_time": "2023-01-11T13:01:38.025Z"
   },
   {
    "duration": 10,
    "start_time": "2023-01-11T13:01:38.055Z"
   },
   {
    "duration": 11,
    "start_time": "2023-01-11T13:01:38.067Z"
   },
   {
    "duration": 13,
    "start_time": "2023-01-11T13:01:38.080Z"
   },
   {
    "duration": 12,
    "start_time": "2023-01-11T13:01:38.095Z"
   },
   {
    "duration": 30,
    "start_time": "2023-01-11T13:01:38.109Z"
   },
   {
    "duration": 15,
    "start_time": "2023-01-11T13:01:38.142Z"
   },
   {
    "duration": 39,
    "start_time": "2023-01-11T13:01:38.159Z"
   },
   {
    "duration": 16,
    "start_time": "2023-01-11T13:01:38.200Z"
   },
   {
    "duration": 19,
    "start_time": "2023-01-11T13:01:38.218Z"
   },
   {
    "duration": 10,
    "start_time": "2023-01-11T13:01:38.239Z"
   },
   {
    "duration": 381,
    "start_time": "2023-01-11T13:01:38.251Z"
   },
   {
    "duration": 39,
    "start_time": "2023-01-11T13:01:38.635Z"
   },
   {
    "duration": 9,
    "start_time": "2023-01-11T13:01:38.676Z"
   },
   {
    "duration": 12,
    "start_time": "2023-01-11T13:01:38.693Z"
   },
   {
    "duration": 10,
    "start_time": "2023-01-11T13:01:38.708Z"
   },
   {
    "duration": 35,
    "start_time": "2023-01-11T13:01:38.720Z"
   },
   {
    "duration": 19,
    "start_time": "2023-01-11T13:01:38.758Z"
   },
   {
    "duration": 40,
    "start_time": "2023-01-11T13:01:56.095Z"
   },
   {
    "duration": 23,
    "start_time": "2023-01-11T13:01:58.675Z"
   },
   {
    "duration": 16,
    "start_time": "2023-01-11T13:02:01.558Z"
   },
   {
    "duration": 25,
    "start_time": "2023-01-11T13:02:07.682Z"
   },
   {
    "duration": 155,
    "start_time": "2023-01-11T13:02:09.245Z"
   },
   {
    "duration": 29,
    "start_time": "2023-01-11T13:02:10.493Z"
   },
   {
    "duration": 17,
    "start_time": "2023-01-11T13:02:11.701Z"
   },
   {
    "duration": 227,
    "start_time": "2023-01-11T13:02:13.428Z"
   },
   {
    "duration": 261,
    "start_time": "2023-01-11T13:03:58.176Z"
   },
   {
    "duration": 209,
    "start_time": "2023-01-11T13:04:12.973Z"
   },
   {
    "duration": 208,
    "start_time": "2023-01-11T13:04:47.204Z"
   },
   {
    "duration": 102,
    "start_time": "2023-01-11T13:05:31.200Z"
   },
   {
    "duration": 16,
    "start_time": "2023-01-11T13:06:59.861Z"
   },
   {
    "duration": 15,
    "start_time": "2023-01-11T13:07:44.539Z"
   },
   {
    "duration": 51,
    "start_time": "2023-01-11T13:08:21.045Z"
   },
   {
    "duration": 41,
    "start_time": "2023-01-11T13:08:47.227Z"
   },
   {
    "duration": 46,
    "start_time": "2023-01-11T13:09:17.672Z"
   },
   {
    "duration": 59,
    "start_time": "2023-01-11T13:09:29.587Z"
   },
   {
    "duration": 46,
    "start_time": "2023-01-11T13:09:37.248Z"
   },
   {
    "duration": 42,
    "start_time": "2023-01-11T13:09:43.239Z"
   },
   {
    "duration": 48,
    "start_time": "2023-01-11T13:09:56.267Z"
   },
   {
    "duration": 40,
    "start_time": "2023-01-11T13:10:09.063Z"
   },
   {
    "duration": 46,
    "start_time": "2023-01-11T13:10:33.221Z"
   },
   {
    "duration": 51,
    "start_time": "2023-01-11T13:10:39.385Z"
   },
   {
    "duration": 59,
    "start_time": "2023-01-11T13:10:49.416Z"
   },
   {
    "duration": 49,
    "start_time": "2023-01-11T13:10:56.046Z"
   },
   {
    "duration": 54,
    "start_time": "2023-01-11T13:11:12.814Z"
   },
   {
    "duration": 46,
    "start_time": "2023-01-11T13:12:59.772Z"
   },
   {
    "duration": 39,
    "start_time": "2023-01-11T13:13:25.525Z"
   },
   {
    "duration": 47,
    "start_time": "2023-01-11T13:14:09.875Z"
   },
   {
    "duration": 44,
    "start_time": "2023-01-11T13:14:23.287Z"
   },
   {
    "duration": 39,
    "start_time": "2023-01-11T13:14:41.062Z"
   },
   {
    "duration": 24,
    "start_time": "2023-01-11T13:15:26.199Z"
   },
   {
    "duration": 43,
    "start_time": "2023-01-11T13:15:43.187Z"
   },
   {
    "duration": 50,
    "start_time": "2023-01-11T13:16:03.425Z"
   },
   {
    "duration": 42,
    "start_time": "2023-01-11T13:16:13.775Z"
   },
   {
    "duration": 53,
    "start_time": "2023-01-11T13:16:58.162Z"
   },
   {
    "duration": 42,
    "start_time": "2023-01-11T13:18:11.276Z"
   },
   {
    "duration": 42,
    "start_time": "2023-01-11T13:18:39.973Z"
   },
   {
    "duration": 19,
    "start_time": "2023-01-11T13:19:17.334Z"
   },
   {
    "duration": 5,
    "start_time": "2023-01-11T13:20:04.736Z"
   },
   {
    "duration": 19,
    "start_time": "2023-01-11T13:20:10.985Z"
   },
   {
    "duration": 14,
    "start_time": "2023-01-11T13:20:45.707Z"
   },
   {
    "duration": 21,
    "start_time": "2023-01-11T13:21:02.535Z"
   },
   {
    "duration": 21,
    "start_time": "2023-01-11T13:21:24.654Z"
   },
   {
    "duration": 14,
    "start_time": "2023-01-11T13:21:54.203Z"
   },
   {
    "duration": 200,
    "start_time": "2023-01-11T13:35:16.100Z"
   },
   {
    "duration": 246,
    "start_time": "2023-01-11T13:35:48.975Z"
   },
   {
    "duration": 178,
    "start_time": "2023-01-11T13:36:10.307Z"
   },
   {
    "duration": 160,
    "start_time": "2023-01-11T13:36:24.406Z"
   },
   {
    "duration": 177,
    "start_time": "2023-01-11T13:37:15.449Z"
   },
   {
    "duration": 53,
    "start_time": "2023-01-11T13:43:54.585Z"
   },
   {
    "duration": 58,
    "start_time": "2023-01-11T13:44:43.939Z"
   },
   {
    "duration": 129,
    "start_time": "2023-01-11T13:47:24.780Z"
   },
   {
    "duration": 18,
    "start_time": "2023-01-11T14:00:26.071Z"
   },
   {
    "duration": 31,
    "start_time": "2023-01-11T14:04:35.212Z"
   },
   {
    "duration": 31,
    "start_time": "2023-01-11T14:05:16.740Z"
   },
   {
    "duration": 10,
    "start_time": "2023-01-11T14:05:30.194Z"
   },
   {
    "duration": 19,
    "start_time": "2023-01-11T14:07:04.348Z"
   },
   {
    "duration": 32,
    "start_time": "2023-01-11T14:07:11.296Z"
   },
   {
    "duration": 25,
    "start_time": "2023-01-11T14:08:12.799Z"
   },
   {
    "duration": 68,
    "start_time": "2023-01-11T14:09:58.539Z"
   },
   {
    "duration": 75,
    "start_time": "2023-01-11T14:12:02.276Z"
   },
   {
    "duration": 16,
    "start_time": "2023-01-11T14:13:25.889Z"
   },
   {
    "duration": 39,
    "start_time": "2023-01-11T14:14:35.279Z"
   },
   {
    "duration": 40,
    "start_time": "2023-01-11T14:14:56.581Z"
   },
   {
    "duration": 18,
    "start_time": "2023-01-11T14:17:09.843Z"
   },
   {
    "duration": 25,
    "start_time": "2023-01-11T14:17:48.976Z"
   },
   {
    "duration": 308,
    "start_time": "2023-01-11T14:17:53.222Z"
   },
   {
    "duration": 40,
    "start_time": "2023-01-11T14:18:04.244Z"
   },
   {
    "duration": 13,
    "start_time": "2023-01-11T14:18:09.306Z"
   },
   {
    "duration": 26,
    "start_time": "2023-01-11T14:18:35.136Z"
   },
   {
    "duration": 56,
    "start_time": "2023-01-11T14:18:44.860Z"
   },
   {
    "duration": 56,
    "start_time": "2023-01-11T14:18:55.987Z"
   },
   {
    "duration": 18,
    "start_time": "2023-01-11T14:19:01.293Z"
   },
   {
    "duration": 336,
    "start_time": "2023-01-11T14:20:35.774Z"
   },
   {
    "duration": 21,
    "start_time": "2023-01-11T14:20:59.002Z"
   },
   {
    "duration": 15,
    "start_time": "2023-01-11T14:22:34.206Z"
   },
   {
    "duration": 4,
    "start_time": "2023-01-11T14:23:59.088Z"
   },
   {
    "duration": 16,
    "start_time": "2023-01-11T14:24:11.203Z"
   },
   {
    "duration": 15,
    "start_time": "2023-01-11T14:24:30.172Z"
   },
   {
    "duration": 12,
    "start_time": "2023-01-11T14:24:39.595Z"
   },
   {
    "duration": 15,
    "start_time": "2023-01-11T14:24:52.674Z"
   },
   {
    "duration": 10,
    "start_time": "2023-01-11T14:24:54.079Z"
   },
   {
    "duration": 4,
    "start_time": "2023-01-11T14:25:09.321Z"
   },
   {
    "duration": 9,
    "start_time": "2023-01-11T14:25:24.376Z"
   },
   {
    "duration": 10,
    "start_time": "2023-01-11T14:26:15.104Z"
   },
   {
    "duration": 11,
    "start_time": "2023-01-11T14:26:26.598Z"
   },
   {
    "duration": 1305,
    "start_time": "2023-01-11T14:26:52.994Z"
   },
   {
    "duration": 20,
    "start_time": "2023-01-11T14:26:54.301Z"
   },
   {
    "duration": 35,
    "start_time": "2023-01-11T14:26:54.323Z"
   },
   {
    "duration": 22,
    "start_time": "2023-01-11T14:26:54.361Z"
   },
   {
    "duration": 67,
    "start_time": "2023-01-11T14:26:54.385Z"
   },
   {
    "duration": 36,
    "start_time": "2023-01-11T14:26:54.454Z"
   },
   {
    "duration": 35,
    "start_time": "2023-01-11T14:26:54.491Z"
   },
   {
    "duration": 31,
    "start_time": "2023-01-11T14:26:54.528Z"
   },
   {
    "duration": 28,
    "start_time": "2023-01-11T14:26:54.561Z"
   },
   {
    "duration": 11,
    "start_time": "2023-01-11T14:26:54.593Z"
   },
   {
    "duration": 46,
    "start_time": "2023-01-11T14:26:54.606Z"
   },
   {
    "duration": 12,
    "start_time": "2023-01-11T14:26:54.653Z"
   },
   {
    "duration": 5,
    "start_time": "2023-01-11T14:26:54.667Z"
   },
   {
    "duration": 31,
    "start_time": "2023-01-11T14:26:54.673Z"
   },
   {
    "duration": 32,
    "start_time": "2023-01-11T14:26:54.706Z"
   },
   {
    "duration": 20,
    "start_time": "2023-01-11T14:26:54.740Z"
   },
   {
    "duration": 8,
    "start_time": "2023-01-11T14:26:54.762Z"
   },
   {
    "duration": 26,
    "start_time": "2023-01-11T14:26:54.772Z"
   },
   {
    "duration": 22,
    "start_time": "2023-01-11T14:26:54.800Z"
   },
   {
    "duration": 14,
    "start_time": "2023-01-11T14:26:54.824Z"
   },
   {
    "duration": 13,
    "start_time": "2023-01-11T14:26:54.840Z"
   },
   {
    "duration": 27,
    "start_time": "2023-01-11T14:26:54.854Z"
   },
   {
    "duration": 13,
    "start_time": "2023-01-11T14:26:54.883Z"
   },
   {
    "duration": 24,
    "start_time": "2023-01-11T14:26:54.898Z"
   },
   {
    "duration": 25,
    "start_time": "2023-01-11T14:26:54.924Z"
   },
   {
    "duration": 26,
    "start_time": "2023-01-11T14:26:54.951Z"
   },
   {
    "duration": 39,
    "start_time": "2023-01-11T14:26:54.979Z"
   },
   {
    "duration": 14,
    "start_time": "2023-01-11T14:26:55.022Z"
   },
   {
    "duration": 32,
    "start_time": "2023-01-11T14:26:55.038Z"
   },
   {
    "duration": 22,
    "start_time": "2023-01-11T14:26:55.072Z"
   },
   {
    "duration": 16,
    "start_time": "2023-01-11T14:26:55.096Z"
   },
   {
    "duration": 27,
    "start_time": "2023-01-11T14:26:55.114Z"
   },
   {
    "duration": 40,
    "start_time": "2023-01-11T14:26:55.143Z"
   },
   {
    "duration": 31,
    "start_time": "2023-01-11T14:26:55.184Z"
   },
   {
    "duration": 28,
    "start_time": "2023-01-11T14:26:55.217Z"
   },
   {
    "duration": 27,
    "start_time": "2023-01-11T14:26:55.246Z"
   },
   {
    "duration": 159,
    "start_time": "2023-01-11T14:26:55.275Z"
   },
   {
    "duration": 18,
    "start_time": "2023-01-11T14:26:55.436Z"
   },
   {
    "duration": 20,
    "start_time": "2023-01-11T14:26:55.456Z"
   },
   {
    "duration": 26,
    "start_time": "2023-01-11T14:26:55.478Z"
   },
   {
    "duration": 35,
    "start_time": "2023-01-11T14:26:55.506Z"
   },
   {
    "duration": 40,
    "start_time": "2023-01-11T14:26:55.543Z"
   },
   {
    "duration": 211,
    "start_time": "2023-01-11T14:26:55.584Z"
   },
   {
    "duration": 26,
    "start_time": "2023-01-11T14:26:55.797Z"
   },
   {
    "duration": 64,
    "start_time": "2023-01-11T14:26:55.825Z"
   },
   {
    "duration": 12,
    "start_time": "2023-01-11T14:26:55.891Z"
   },
   {
    "duration": 36,
    "start_time": "2023-01-11T14:26:55.905Z"
   },
   {
    "duration": 144,
    "start_time": "2023-01-11T14:26:55.944Z"
   },
   {
    "duration": 0,
    "start_time": "2023-01-11T14:26:56.089Z"
   },
   {
    "duration": 0,
    "start_time": "2023-01-11T14:26:56.091Z"
   },
   {
    "duration": 0,
    "start_time": "2023-01-11T14:26:56.092Z"
   },
   {
    "duration": 0,
    "start_time": "2023-01-11T14:26:56.093Z"
   },
   {
    "duration": 0,
    "start_time": "2023-01-11T14:26:56.095Z"
   },
   {
    "duration": 0,
    "start_time": "2023-01-11T14:26:56.096Z"
   },
   {
    "duration": 0,
    "start_time": "2023-01-11T14:26:56.097Z"
   },
   {
    "duration": 0,
    "start_time": "2023-01-11T14:26:56.098Z"
   },
   {
    "duration": 0,
    "start_time": "2023-01-11T14:26:56.099Z"
   },
   {
    "duration": 1,
    "start_time": "2023-01-11T14:26:56.100Z"
   },
   {
    "duration": 0,
    "start_time": "2023-01-11T14:26:56.102Z"
   },
   {
    "duration": 0,
    "start_time": "2023-01-11T14:26:56.103Z"
   },
   {
    "duration": 0,
    "start_time": "2023-01-11T14:26:56.104Z"
   },
   {
    "duration": 0,
    "start_time": "2023-01-11T14:26:56.104Z"
   },
   {
    "duration": 302,
    "start_time": "2023-01-11T14:28:02.582Z"
   },
   {
    "duration": 15,
    "start_time": "2023-01-11T14:28:36.659Z"
   },
   {
    "duration": 1427,
    "start_time": "2023-01-11T14:29:42.918Z"
   },
   {
    "duration": 23,
    "start_time": "2023-01-11T14:29:44.347Z"
   },
   {
    "duration": 18,
    "start_time": "2023-01-11T14:29:44.372Z"
   },
   {
    "duration": 12,
    "start_time": "2023-01-11T14:29:44.393Z"
   },
   {
    "duration": 87,
    "start_time": "2023-01-11T14:29:44.408Z"
   },
   {
    "duration": 4,
    "start_time": "2023-01-11T14:29:44.497Z"
   },
   {
    "duration": 14,
    "start_time": "2023-01-11T14:29:44.503Z"
   },
   {
    "duration": 5,
    "start_time": "2023-01-11T14:29:44.520Z"
   },
   {
    "duration": 30,
    "start_time": "2023-01-11T14:29:44.527Z"
   },
   {
    "duration": 14,
    "start_time": "2023-01-11T14:29:44.560Z"
   },
   {
    "duration": 57,
    "start_time": "2023-01-11T14:29:44.576Z"
   },
   {
    "duration": 27,
    "start_time": "2023-01-11T14:29:44.635Z"
   },
   {
    "duration": 7,
    "start_time": "2023-01-11T14:29:44.665Z"
   },
   {
    "duration": 14,
    "start_time": "2023-01-11T14:29:44.676Z"
   },
   {
    "duration": 29,
    "start_time": "2023-01-11T14:29:44.693Z"
   },
   {
    "duration": 39,
    "start_time": "2023-01-11T14:29:44.724Z"
   },
   {
    "duration": 4,
    "start_time": "2023-01-11T14:29:44.765Z"
   },
   {
    "duration": 28,
    "start_time": "2023-01-11T14:29:44.771Z"
   },
   {
    "duration": 9,
    "start_time": "2023-01-11T14:29:44.801Z"
   },
   {
    "duration": 5,
    "start_time": "2023-01-11T14:29:44.812Z"
   },
   {
    "duration": 33,
    "start_time": "2023-01-11T14:29:44.818Z"
   },
   {
    "duration": 8,
    "start_time": "2023-01-11T14:29:44.853Z"
   },
   {
    "duration": 8,
    "start_time": "2023-01-11T14:29:44.862Z"
   },
   {
    "duration": 9,
    "start_time": "2023-01-11T14:29:44.872Z"
   },
   {
    "duration": 8,
    "start_time": "2023-01-11T14:29:44.882Z"
   },
   {
    "duration": 15,
    "start_time": "2023-01-11T14:29:44.892Z"
   },
   {
    "duration": 15,
    "start_time": "2023-01-11T14:29:44.909Z"
   },
   {
    "duration": 5,
    "start_time": "2023-01-11T14:29:44.952Z"
   },
   {
    "duration": 11,
    "start_time": "2023-01-11T14:29:44.959Z"
   },
   {
    "duration": 8,
    "start_time": "2023-01-11T14:29:44.972Z"
   },
   {
    "duration": 13,
    "start_time": "2023-01-11T14:29:44.982Z"
   },
   {
    "duration": 9,
    "start_time": "2023-01-11T14:29:44.997Z"
   },
   {
    "duration": 16,
    "start_time": "2023-01-11T14:29:45.008Z"
   },
   {
    "duration": 26,
    "start_time": "2023-01-11T14:29:45.026Z"
   },
   {
    "duration": 7,
    "start_time": "2023-01-11T14:29:45.054Z"
   },
   {
    "duration": 9,
    "start_time": "2023-01-11T14:29:45.064Z"
   },
   {
    "duration": 159,
    "start_time": "2023-01-11T14:29:45.075Z"
   },
   {
    "duration": 21,
    "start_time": "2023-01-11T14:29:45.237Z"
   },
   {
    "duration": 5,
    "start_time": "2023-01-11T14:29:45.260Z"
   },
   {
    "duration": 10,
    "start_time": "2023-01-11T14:29:45.267Z"
   },
   {
    "duration": 7,
    "start_time": "2023-01-11T14:29:45.283Z"
   },
   {
    "duration": 21,
    "start_time": "2023-01-11T14:29:45.293Z"
   },
   {
    "duration": 225,
    "start_time": "2023-01-11T14:29:45.317Z"
   },
   {
    "duration": 31,
    "start_time": "2023-01-11T14:29:45.544Z"
   },
   {
    "duration": 74,
    "start_time": "2023-01-11T14:29:45.577Z"
   },
   {
    "duration": 16,
    "start_time": "2023-01-11T14:29:45.653Z"
   },
   {
    "duration": 20,
    "start_time": "2023-01-11T14:29:45.671Z"
   },
   {
    "duration": 135,
    "start_time": "2023-01-11T14:29:45.693Z"
   },
   {
    "duration": 0,
    "start_time": "2023-01-11T14:29:45.830Z"
   },
   {
    "duration": 0,
    "start_time": "2023-01-11T14:29:45.832Z"
   },
   {
    "duration": 0,
    "start_time": "2023-01-11T14:29:45.834Z"
   },
   {
    "duration": 0,
    "start_time": "2023-01-11T14:29:45.851Z"
   },
   {
    "duration": 0,
    "start_time": "2023-01-11T14:29:45.852Z"
   },
   {
    "duration": 0,
    "start_time": "2023-01-11T14:29:45.854Z"
   },
   {
    "duration": 0,
    "start_time": "2023-01-11T14:29:45.856Z"
   },
   {
    "duration": 0,
    "start_time": "2023-01-11T14:29:45.858Z"
   },
   {
    "duration": 0,
    "start_time": "2023-01-11T14:29:45.859Z"
   },
   {
    "duration": 0,
    "start_time": "2023-01-11T14:29:45.860Z"
   },
   {
    "duration": 0,
    "start_time": "2023-01-11T14:29:45.862Z"
   },
   {
    "duration": 0,
    "start_time": "2023-01-11T14:29:45.863Z"
   },
   {
    "duration": 0,
    "start_time": "2023-01-11T14:29:45.865Z"
   },
   {
    "duration": 0,
    "start_time": "2023-01-11T14:29:45.867Z"
   },
   {
    "duration": 16,
    "start_time": "2023-01-11T14:30:32.535Z"
   },
   {
    "duration": 13,
    "start_time": "2023-01-11T14:31:48.423Z"
   },
   {
    "duration": 300,
    "start_time": "2023-01-11T14:31:48.886Z"
   },
   {
    "duration": 314,
    "start_time": "2023-01-11T14:32:08.112Z"
   },
   {
    "duration": 346,
    "start_time": "2023-01-11T14:32:23.183Z"
   },
   {
    "duration": 1344,
    "start_time": "2023-01-11T14:32:36.076Z"
   },
   {
    "duration": 23,
    "start_time": "2023-01-11T14:32:37.422Z"
   },
   {
    "duration": 52,
    "start_time": "2023-01-11T14:32:37.447Z"
   },
   {
    "duration": 45,
    "start_time": "2023-01-11T14:32:37.502Z"
   },
   {
    "duration": 71,
    "start_time": "2023-01-11T14:32:37.551Z"
   },
   {
    "duration": 8,
    "start_time": "2023-01-11T14:32:37.624Z"
   },
   {
    "duration": 33,
    "start_time": "2023-01-11T14:32:37.634Z"
   },
   {
    "duration": 34,
    "start_time": "2023-01-11T14:32:37.669Z"
   },
   {
    "duration": 40,
    "start_time": "2023-01-11T14:32:37.705Z"
   },
   {
    "duration": 38,
    "start_time": "2023-01-11T14:32:37.747Z"
   },
   {
    "duration": 68,
    "start_time": "2023-01-11T14:32:37.786Z"
   },
   {
    "duration": 11,
    "start_time": "2023-01-11T14:32:37.856Z"
   },
   {
    "duration": 41,
    "start_time": "2023-01-11T14:32:37.869Z"
   },
   {
    "duration": 32,
    "start_time": "2023-01-11T14:32:37.914Z"
   },
   {
    "duration": 49,
    "start_time": "2023-01-11T14:32:37.947Z"
   },
   {
    "duration": 51,
    "start_time": "2023-01-11T14:32:37.998Z"
   },
   {
    "duration": 6,
    "start_time": "2023-01-11T14:32:38.051Z"
   },
   {
    "duration": 64,
    "start_time": "2023-01-11T14:32:38.059Z"
   },
   {
    "duration": 19,
    "start_time": "2023-01-11T14:32:38.125Z"
   },
   {
    "duration": 42,
    "start_time": "2023-01-11T14:32:38.146Z"
   },
   {
    "duration": 54,
    "start_time": "2023-01-11T14:32:38.190Z"
   },
   {
    "duration": 39,
    "start_time": "2023-01-11T14:32:38.246Z"
   },
   {
    "duration": 41,
    "start_time": "2023-01-11T14:32:38.287Z"
   },
   {
    "duration": 26,
    "start_time": "2023-01-11T14:32:38.330Z"
   },
   {
    "duration": 34,
    "start_time": "2023-01-11T14:32:38.358Z"
   },
   {
    "duration": 21,
    "start_time": "2023-01-11T14:32:38.394Z"
   },
   {
    "duration": 47,
    "start_time": "2023-01-11T14:32:38.417Z"
   },
   {
    "duration": 22,
    "start_time": "2023-01-11T14:32:38.466Z"
   },
   {
    "duration": 32,
    "start_time": "2023-01-11T14:32:38.490Z"
   },
   {
    "duration": 39,
    "start_time": "2023-01-11T14:32:38.524Z"
   },
   {
    "duration": 33,
    "start_time": "2023-01-11T14:32:38.564Z"
   },
   {
    "duration": 44,
    "start_time": "2023-01-11T14:32:38.599Z"
   },
   {
    "duration": 39,
    "start_time": "2023-01-11T14:32:38.646Z"
   },
   {
    "duration": 35,
    "start_time": "2023-01-11T14:32:38.687Z"
   },
   {
    "duration": 25,
    "start_time": "2023-01-11T14:32:38.724Z"
   },
   {
    "duration": 40,
    "start_time": "2023-01-11T14:32:38.752Z"
   },
   {
    "duration": 165,
    "start_time": "2023-01-11T14:32:38.794Z"
   },
   {
    "duration": 11,
    "start_time": "2023-01-11T14:32:38.961Z"
   },
   {
    "duration": 37,
    "start_time": "2023-01-11T14:32:38.973Z"
   },
   {
    "duration": 27,
    "start_time": "2023-01-11T14:32:39.012Z"
   },
   {
    "duration": 44,
    "start_time": "2023-01-11T14:32:39.043Z"
   },
   {
    "duration": 67,
    "start_time": "2023-01-11T14:32:39.089Z"
   },
   {
    "duration": 231,
    "start_time": "2023-01-11T14:32:39.158Z"
   },
   {
    "duration": 31,
    "start_time": "2023-01-11T14:32:39.392Z"
   },
   {
    "duration": 75,
    "start_time": "2023-01-11T14:32:39.425Z"
   },
   {
    "duration": 15,
    "start_time": "2023-01-11T14:32:39.502Z"
   },
   {
    "duration": 460,
    "start_time": "2023-01-11T14:32:39.520Z"
   },
   {
    "duration": 0,
    "start_time": "2023-01-11T14:32:39.985Z"
   },
   {
    "duration": 0,
    "start_time": "2023-01-11T14:32:39.986Z"
   },
   {
    "duration": 0,
    "start_time": "2023-01-11T14:32:39.989Z"
   },
   {
    "duration": 0,
    "start_time": "2023-01-11T14:32:39.991Z"
   },
   {
    "duration": 0,
    "start_time": "2023-01-11T14:32:39.992Z"
   },
   {
    "duration": 0,
    "start_time": "2023-01-11T14:32:39.994Z"
   },
   {
    "duration": 0,
    "start_time": "2023-01-11T14:32:39.995Z"
   },
   {
    "duration": 0,
    "start_time": "2023-01-11T14:32:39.997Z"
   },
   {
    "duration": 0,
    "start_time": "2023-01-11T14:32:39.998Z"
   },
   {
    "duration": 0,
    "start_time": "2023-01-11T14:32:40.000Z"
   },
   {
    "duration": 0,
    "start_time": "2023-01-11T14:32:40.001Z"
   },
   {
    "duration": 0,
    "start_time": "2023-01-11T14:32:40.003Z"
   },
   {
    "duration": 0,
    "start_time": "2023-01-11T14:32:40.004Z"
   },
   {
    "duration": 0,
    "start_time": "2023-01-11T14:32:40.006Z"
   },
   {
    "duration": 0,
    "start_time": "2023-01-11T14:32:40.007Z"
   },
   {
    "duration": 298,
    "start_time": "2023-01-11T14:33:03.562Z"
   },
   {
    "duration": 13,
    "start_time": "2023-01-11T14:33:10.857Z"
   },
   {
    "duration": 14,
    "start_time": "2023-01-11T14:33:14.843Z"
   },
   {
    "duration": 182,
    "start_time": "2023-01-11T14:33:37.857Z"
   },
   {
    "duration": 21,
    "start_time": "2023-01-11T14:36:10.673Z"
   },
   {
    "duration": 36,
    "start_time": "2023-01-11T14:36:16.340Z"
   },
   {
    "duration": 6,
    "start_time": "2023-01-11T14:36:28.041Z"
   },
   {
    "duration": 37,
    "start_time": "2023-01-11T14:37:54.354Z"
   },
   {
    "duration": 21,
    "start_time": "2023-01-11T14:37:55.173Z"
   },
   {
    "duration": 13,
    "start_time": "2023-01-11T14:38:00.484Z"
   },
   {
    "duration": 11,
    "start_time": "2023-01-11T14:39:11.467Z"
   },
   {
    "duration": 6,
    "start_time": "2023-01-11T14:40:07.925Z"
   },
   {
    "duration": 13,
    "start_time": "2023-01-11T14:40:25.524Z"
   },
   {
    "duration": 13,
    "start_time": "2023-01-11T14:41:09.535Z"
   },
   {
    "duration": 221,
    "start_time": "2023-01-11T14:41:47.816Z"
   },
   {
    "duration": 5,
    "start_time": "2023-01-11T14:42:23.032Z"
   },
   {
    "duration": 32,
    "start_time": "2023-01-11T14:44:00.813Z"
   },
   {
    "duration": 52,
    "start_time": "2023-01-11T14:44:04.809Z"
   },
   {
    "duration": 16,
    "start_time": "2023-01-11T14:44:08.221Z"
   },
   {
    "duration": 14,
    "start_time": "2023-01-11T14:44:51.085Z"
   },
   {
    "duration": 9,
    "start_time": "2023-01-11T14:44:59.826Z"
   },
   {
    "duration": 11,
    "start_time": "2023-01-11T14:45:18.935Z"
   },
   {
    "duration": 22,
    "start_time": "2023-01-11T14:46:26.647Z"
   },
   {
    "duration": 42,
    "start_time": "2023-01-11T14:46:31.348Z"
   },
   {
    "duration": 6,
    "start_time": "2023-01-11T14:46:36.622Z"
   },
   {
    "duration": 14,
    "start_time": "2023-01-11T14:46:40.042Z"
   },
   {
    "duration": 174,
    "start_time": "2023-01-11T14:48:36.317Z"
   },
   {
    "duration": 176,
    "start_time": "2023-01-11T14:48:52.805Z"
   },
   {
    "duration": 191,
    "start_time": "2023-01-11T14:50:02.747Z"
   },
   {
    "duration": 2069,
    "start_time": "2023-01-11T16:41:42.040Z"
   },
   {
    "duration": 21,
    "start_time": "2023-01-11T16:41:44.111Z"
   },
   {
    "duration": 15,
    "start_time": "2023-01-11T16:41:44.133Z"
   },
   {
    "duration": 9,
    "start_time": "2023-01-11T16:41:44.149Z"
   },
   {
    "duration": 40,
    "start_time": "2023-01-11T16:41:44.159Z"
   },
   {
    "duration": 4,
    "start_time": "2023-01-11T16:41:44.201Z"
   },
   {
    "duration": 11,
    "start_time": "2023-01-11T16:41:44.206Z"
   },
   {
    "duration": 4,
    "start_time": "2023-01-11T16:41:44.219Z"
   },
   {
    "duration": 9,
    "start_time": "2023-01-11T16:41:44.225Z"
   },
   {
    "duration": 4,
    "start_time": "2023-01-11T16:41:44.237Z"
   },
   {
    "duration": 71,
    "start_time": "2023-01-11T16:41:44.242Z"
   },
   {
    "duration": 10,
    "start_time": "2023-01-11T16:41:44.315Z"
   },
   {
    "duration": 6,
    "start_time": "2023-01-11T16:41:44.327Z"
   },
   {
    "duration": 13,
    "start_time": "2023-01-11T16:41:44.334Z"
   },
   {
    "duration": 36,
    "start_time": "2023-01-11T16:41:44.349Z"
   },
   {
    "duration": 17,
    "start_time": "2023-01-11T16:41:44.387Z"
   },
   {
    "duration": 4,
    "start_time": "2023-01-11T16:41:44.406Z"
   },
   {
    "duration": 27,
    "start_time": "2023-01-11T16:41:44.411Z"
   },
   {
    "duration": 6,
    "start_time": "2023-01-11T16:41:44.439Z"
   },
   {
    "duration": 5,
    "start_time": "2023-01-11T16:41:44.447Z"
   },
   {
    "duration": 14,
    "start_time": "2023-01-11T16:41:44.453Z"
   },
   {
    "duration": 14,
    "start_time": "2023-01-11T16:41:44.469Z"
   },
   {
    "duration": 4,
    "start_time": "2023-01-11T16:41:44.485Z"
   },
   {
    "duration": 10,
    "start_time": "2023-01-11T16:41:44.490Z"
   },
   {
    "duration": 7,
    "start_time": "2023-01-11T16:41:44.501Z"
   },
   {
    "duration": 6,
    "start_time": "2023-01-11T16:41:44.509Z"
   },
   {
    "duration": 10,
    "start_time": "2023-01-11T16:41:44.517Z"
   },
   {
    "duration": 4,
    "start_time": "2023-01-11T16:41:44.530Z"
   },
   {
    "duration": 6,
    "start_time": "2023-01-11T16:41:44.535Z"
   },
   {
    "duration": 37,
    "start_time": "2023-01-11T16:41:44.542Z"
   },
   {
    "duration": 7,
    "start_time": "2023-01-11T16:41:44.580Z"
   },
   {
    "duration": 8,
    "start_time": "2023-01-11T16:41:44.589Z"
   },
   {
    "duration": 5,
    "start_time": "2023-01-11T16:41:44.599Z"
   },
   {
    "duration": 9,
    "start_time": "2023-01-11T16:41:44.605Z"
   },
   {
    "duration": 7,
    "start_time": "2023-01-11T16:41:44.616Z"
   },
   {
    "duration": 5,
    "start_time": "2023-01-11T16:41:44.625Z"
   },
   {
    "duration": 169,
    "start_time": "2023-01-11T16:41:44.632Z"
   },
   {
    "duration": 11,
    "start_time": "2023-01-11T16:41:44.803Z"
   },
   {
    "duration": 3,
    "start_time": "2023-01-11T16:41:44.816Z"
   },
   {
    "duration": 7,
    "start_time": "2023-01-11T16:41:44.821Z"
   },
   {
    "duration": 11,
    "start_time": "2023-01-11T16:41:44.830Z"
   },
   {
    "duration": 12,
    "start_time": "2023-01-11T16:41:44.843Z"
   },
   {
    "duration": 213,
    "start_time": "2023-01-11T16:41:44.857Z"
   },
   {
    "duration": 21,
    "start_time": "2023-01-11T16:41:45.077Z"
   },
   {
    "duration": 45,
    "start_time": "2023-01-11T16:41:45.099Z"
   },
   {
    "duration": 4,
    "start_time": "2023-01-11T16:41:45.146Z"
   },
   {
    "duration": 20,
    "start_time": "2023-01-11T16:41:45.152Z"
   },
   {
    "duration": 174,
    "start_time": "2023-01-11T16:41:45.173Z"
   },
   {
    "duration": 80,
    "start_time": "2023-01-11T16:41:45.349Z"
   },
   {
    "duration": 31,
    "start_time": "2023-01-11T16:41:45.431Z"
   },
   {
    "duration": 28,
    "start_time": "2023-01-11T16:41:45.463Z"
   },
   {
    "duration": 5,
    "start_time": "2023-01-11T16:41:45.493Z"
   },
   {
    "duration": 12,
    "start_time": "2023-01-11T16:41:45.500Z"
   },
   {
    "duration": 222,
    "start_time": "2023-01-11T16:41:45.513Z"
   },
   {
    "duration": 13,
    "start_time": "2023-01-11T16:41:45.737Z"
   },
   {
    "duration": 33,
    "start_time": "2023-01-11T16:41:45.751Z"
   },
   {
    "duration": 40,
    "start_time": "2023-01-11T16:41:45.786Z"
   },
   {
    "duration": 7,
    "start_time": "2023-01-11T16:41:45.828Z"
   },
   {
    "duration": 26,
    "start_time": "2023-01-11T16:41:45.836Z"
   },
   {
    "duration": 180,
    "start_time": "2023-01-11T16:41:45.864Z"
   },
   {
    "duration": 34,
    "start_time": "2023-01-11T16:41:46.045Z"
   },
   {
    "duration": 14,
    "start_time": "2023-01-11T16:42:11.045Z"
   }
  ],
  "colab": {
   "name": "dpp_template_part2.ipynb",
   "provenance": []
  },
  "kernelspec": {
   "display_name": "Python 3 (ipykernel)",
   "language": "python",
   "name": "python3"
  },
  "language_info": {
   "codemirror_mode": {
    "name": "ipython",
    "version": 3
   },
   "file_extension": ".py",
   "mimetype": "text/x-python",
   "name": "python",
   "nbconvert_exporter": "python",
   "pygments_lexer": "ipython3",
   "version": "3.9.13"
  },
  "toc": {
   "base_numbering": 1,
   "nav_menu": {},
   "number_sections": true,
   "sideBar": true,
   "skip_h1_title": true,
   "title_cell": "Table of Contents",
   "title_sidebar": "Contents",
   "toc_cell": false,
   "toc_position": {},
   "toc_section_display": true,
   "toc_window_display": false
  }
 },
 "nbformat": 4,
 "nbformat_minor": 5
}
